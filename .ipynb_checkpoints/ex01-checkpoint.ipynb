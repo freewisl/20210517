{
 "cells": [
  {
   "cell_type": "code",
   "execution_count": 3,
   "id": "9c4dde02-4a20-4793-8e23-96c95378f5a7",
   "metadata": {},
   "outputs": [],
   "source": [
    "# 주석문 ctrl + ?\n",
    "# 실행 ctrl + enter\n",
    "# 함수설명 shift + tap\n",
    "# shell 추가 shift + enter"
   ]
  },
  {
   "cell_type": "code",
   "execution_count": 5,
   "id": "8e2868b0-90b6-4615-8af9-36a456025d8c",
   "metadata": {},
   "outputs": [
    {
     "name": "stdout",
     "output_type": "stream",
     "text": [
      "hello world\n",
      "hello world\n"
     ]
    }
   ],
   "source": [
    "print('hello world')\n",
    "print(\"hello world\")"
   ]
  },
  {
   "cell_type": "code",
   "execution_count": 7,
   "id": "91d1de70-20f0-4072-ba27-7f2428fe8070",
   "metadata": {},
   "outputs": [
    {
     "name": "stdout",
     "output_type": "stream",
     "text": [
      "11\n"
     ]
    }
   ],
   "source": [
    "a = 5\n",
    "b = 6\n",
    "print(a+b)"
   ]
  },
  {
   "cell_type": "code",
   "execution_count": 13,
   "id": "48681c0d-e732-44d8-98ab-104e69093818",
   "metadata": {},
   "outputs": [
    {
     "name": "stdout",
     "output_type": "stream",
     "text": [
      "9\n",
      "20\n",
      "1\n",
      "1.25\n",
      "1\n",
      "1\n",
      "125\n",
      "합은 9\n"
     ]
    }
   ],
   "source": [
    "a = 5\n",
    "b = 4\n",
    "print(a+b)\n",
    "print(a*b)\n",
    "print(a-b)\n",
    "print(a/b)\n",
    "print(a%b)\n",
    "print(a//b)\n",
    "print(a**3)\n",
    "print(f'합은 {a+b}')"
   ]
  },
  {
   "cell_type": "code",
   "execution_count": 18,
   "id": "5527b5d8-c872-445d-8419-7551546142be",
   "metadata": {},
   "outputs": [
    {
     "name": "stdin",
     "output_type": "stream",
     "text": [
      "숫자 입력? 1\n",
      "숫자 입력? 2\n"
     ]
    },
    {
     "name": "stdout",
     "output_type": "stream",
     "text": [
      "<class 'int'>\n",
      "합은 3\n"
     ]
    }
   ],
   "source": [
    "a = int(input('숫자 입력?'))\n",
    "b = int(input('숫자 입력?'))\n",
    "\n",
    "print(type(a))\n",
    "print(f'합은 {a+b}')\n"
   ]
  },
  {
   "cell_type": "code",
   "execution_count": 53,
   "id": "53acef04-b49d-45a9-b3d9-f0113eac29af",
   "metadata": {},
   "outputs": [
    {
     "name": "stdin",
     "output_type": "stream",
     "text": [
      "첫번째 숫자 입력? 123\n",
      "첫번째 숫자 입력? 123\n",
      "첫번째 숫자 입력? 123\n"
     ]
    },
    {
     "name": "stdout",
     "output_type": "stream",
     "text": [
      "합은 369 평균은 123.0\n"
     ]
    }
   ],
   "source": [
    "a = (int(input('첫번째 숫자 입력?')))\n",
    "b = (int(input('첫번째 숫자 입력?')))\n",
    "c = (int(input('첫번째 숫자 입력?')))\n",
    "print(f'합은 {a+b+c} 평균은 {(a+b+c)/3}')"
   ]
  },
  {
   "cell_type": "code",
   "execution_count": 55,
   "id": "b0a6ecc4-8ff0-4272-bbba-f54d756fd21f",
   "metadata": {},
   "outputs": [
    {
     "name": "stdin",
     "output_type": "stream",
     "text": [
      "숫자 입력? 4123\n"
     ]
    },
    {
     "name": "stdout",
     "output_type": "stream",
     "text": [
      "일의 자리수는 3\n"
     ]
    }
   ],
   "source": [
    "a = (int(input('숫자 입력?')))\n",
    "print(f'일의 자리수는 {a%10}')"
   ]
  },
  {
   "cell_type": "code",
   "execution_count": 56,
   "id": "67de27d4-f6f6-4c8e-9334-ca5eda6a3df1",
   "metadata": {},
   "outputs": [
    {
     "name": "stdin",
     "output_type": "stream",
     "text": [
      "1000~9999 숫자 입력? 1234\n"
     ]
    },
    {
     "name": "stdout",
     "output_type": "stream",
     "text": [
      "각 자리수의 합은 10\n"
     ]
    }
   ],
   "source": [
    "a = (int(input('1000~9999 숫자 입력?')))\n",
    "b = a//1000\n",
    "c = a//100%10\n",
    "d = a//10%10\n",
    "e = a%10\n",
    "print(f'각 자리수의 합은 {b+c+d+e}')"
   ]
  }
 ],
 "metadata": {
  "kernelspec": {
   "display_name": "Python 3",
   "language": "python",
   "name": "python3"
  },
  "language_info": {
   "codemirror_mode": {
    "name": "ipython",
    "version": 3
   },
   "file_extension": ".py",
   "mimetype": "text/x-python",
   "name": "python",
   "nbconvert_exporter": "python",
   "pygments_lexer": "ipython3",
   "version": "3.8.8"
  }
 },
 "nbformat": 4,
 "nbformat_minor": 5
}
