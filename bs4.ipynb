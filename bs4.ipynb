{
 "cells": [
  {
   "cell_type": "code",
   "execution_count": 2,
   "id": "3c9e0f5d-1c8e-4215-9d44-099a58a576a8",
   "metadata": {},
   "outputs": [
    {
     "data": {
      "text/plain": [
       "'<?xml version=\\'1.0\\' encoding=\\'utf-8\\'?>\\n<response>\\n  <items>\\n    <item id=\"1\">\\n      <name>one</name>\\n    </item>\\n    <item id=\"2\">\\n      <name>two</name>\\n    </item>\\n    <item id=\"3\">\\n      <name>three</name>\\n    </item>\\n  </items>\\n</response>\\n'"
      ]
     },
     "execution_count": 2,
     "metadata": {},
     "output_type": "execute_result"
    }
   ],
   "source": [
    "# json\n",
    "import requests\n",
    "\n",
    "url = \"http://ihongss.com/xml/exam1.xml\"\n",
    "response = requests.get(url)\n",
    "response.text # string"
   ]
  },
  {
   "cell_type": "code",
   "execution_count": 3,
   "id": "999d5886-badf-40fc-a438-7bc47716f5c5",
   "metadata": {},
   "outputs": [
    {
     "data": {
      "text/plain": [
       "b'<?xml version=\\'1.0\\' encoding=\\'utf-8\\'?>\\n<response>\\n  <items>\\n    <item id=\"1\">\\n      <name>one</name>\\n    </item>\\n    <item id=\"2\">\\n      <name>two</name>\\n    </item>\\n    <item id=\"3\">\\n      <name>three</name>\\n    </item>\\n  </items>\\n</response>\\n'"
      ]
     },
     "execution_count": 3,
     "metadata": {},
     "output_type": "execute_result"
    }
   ],
   "source": [
    "# xml\n",
    "import urllib.request\n",
    "\n",
    "url = \"http://ihongss.com/xml/exam1.xml\"\n",
    "response = urllib.request.urlopen(url)\n",
    "response.read() # bytes"
   ]
  },
  {
   "cell_type": "code",
   "execution_count": 4,
   "id": "057ddaf0-7079-4178-a23f-db438ff50c42",
   "metadata": {},
   "outputs": [
    {
     "name": "stdout",
     "output_type": "stream",
     "text": [
      "Requirement already satisfied: beautifulsoup4 in c:\\programdata\\anaconda3\\lib\\site-packages (4.9.3)\n",
      "Requirement already satisfied: soupsieve>1.2 in c:\\programdata\\anaconda3\\lib\\site-packages (from beautifulsoup4) (2.2.1)\n"
     ]
    }
   ],
   "source": [
    "! pip install beautifulsoup4"
   ]
  },
  {
   "cell_type": "code",
   "execution_count": 15,
   "id": "b4adf2c1-1d58-49a3-a309-f80316a7cff5",
   "metadata": {},
   "outputs": [
    {
     "name": "stdout",
     "output_type": "stream",
     "text": [
      "item {'id': '1'} one\n",
      "item {'id': '2'} two\n",
      "item {'id': '3'} three\n"
     ]
    }
   ],
   "source": [
    "import requests\n",
    "import bs4\n",
    "\n",
    "url = \"http://ihongss.com/xml/exam1.xml\"\n",
    "response = requests.get(url)\n",
    "\n",
    "# XML일 경울 lxml-xml, HTML일 경우 html.parser\n",
    "soup = bs4.BeautifulSoup(response.text, 'lxml-xml')\n",
    "soup\n",
    "\n",
    "# soup.find_all() 여러개 검색\n",
    "# soup.select() 여러개 검색\n",
    "\n",
    "# soup.find() 가장먼저 검색되는것 1개\n",
    "# soupt.select_one() 가장먼저 검색되는것 1개\n",
    "\n",
    "for tmp in soup.find_all('item'):\n",
    "    # name 은 태그이름, attrs은 속성, text는 태그사이의 값\n",
    "    print(tmp.name, tmp.attrs, tmp.find('name').text)"
   ]
  },
  {
   "cell_type": "code",
   "execution_count": 24,
   "id": "e8e6cae3-c395-4841-9c35-ae9d62d7ed0d",
   "metadata": {},
   "outputs": [
    {
     "name": "stdout",
     "output_type": "stream",
     "text": [
      "[<student>\n",
      "<name>a</name>\n",
      "<age>11</age>\n",
      "<addr id=\"id_a\">addr1</addr>\n",
      "</student>, <student>\n",
      "<name>b</name>\n",
      "<age>22</age>\n",
      "<addr id=\"id_b\">addr2</addr>\n",
      "</student>]\n",
      "a 11 id_a addr1\n",
      "b 22 id_b addr2\n"
     ]
    }
   ],
   "source": [
    "import requests\n",
    "import bs4\n",
    "\n",
    "url = \"http://ihongss.com/resources/student.xml\"\n",
    "response = requests.get(url)\n",
    "\n",
    "# XML일 경울 lxml-xml, HTML일 경우 html.parser\n",
    "soup = bs4.BeautifulSoup(response.text, 'lxml-xml')\n",
    "\n",
    "for tmp in soup.find_all('student'):\n",
    "    # name 은 태그이름, attrs은 속성, text는 태그사이의 값\n",
    "    print(tmp.find('name').text, tmp.find('age').text, tmp.find('addr').attrs['id'], tmp.find('addr').text)"
   ]
  },
  {
   "cell_type": "code",
   "execution_count": 3,
   "id": "e124edf5-5feb-4412-9cda-c7e9a154284b",
   "metadata": {},
   "outputs": [
    {
     "name": "stdout",
     "output_type": "stream",
     "text": [
      "a id_a\n",
      "b \n",
      "dic empty\n",
      "c \n",
      "dic empty\n",
      "==============================\n",
      "a1 \n",
      "dic empty\n",
      "b1 \n",
      "dic empty\n",
      "c1 \n",
      "dic empty\n",
      "==============================\n",
      "a2 \n",
      "dic empty\n",
      "b2 \n",
      "dic empty\n",
      "c2 \n",
      "dic empty\n",
      "==============================\n"
     ]
    }
   ],
   "source": [
    "import requests\n",
    "import bs4\n",
    "\n",
    "url = \"http://ihongss.com/resources/exam1.html\"\n",
    "response = requests.get(url)\n",
    "\n",
    "# XML일 경우 lxml-xml, HTML일 경우 html.parser\n",
    "soup = bs4.BeautifulSoup(response.text, 'html.parser')\n",
    "soup\n",
    "\n",
    "# 첫번째 태그만 출력\n",
    "a = soup.find('div') # soup.select_one(\"div\")\n",
    "a\n",
    "\n",
    "# div 전체\n",
    "b = soup.find_all('div') # soup.select(\"div\")\n",
    "b\n",
    "\n",
    "# div 태그중에서 class=\"first\"\n",
    "c = soup.find_all('div', {\"class\":\"first\"}) # soup.select(\"div.first\")\n",
    "c\n",
    "\n",
    "# 전체 div를 반복\n",
    "for tmp in b:  #<-- div\n",
    "    for tmp1 in tmp.find_all('p'):\n",
    "        # 딕셔너리에서 값 가져올 떄 tmp1.attrs['id'], tmp1.attrs.get('id',\"\")\n",
    "        print(tmp1.text, tmp1.attrs.get(\"id\",\"\"))\n",
    "        \n",
    "        if not tmp1.attrs.get(\"id\"): # 딕셔너리가 비어 키가 없는지 확인가능\n",
    "            print(\"dic empty\")\n",
    "            \n",
    "    print(\"=\"*30)"
   ]
  },
  {
   "cell_type": "code",
   "execution_count": 79,
   "id": "ca9f2ef4-b832-4689-8de6-cafce26d412f",
   "metadata": {},
   "outputs": [
    {
     "name": "stdout",
     "output_type": "stream",
     "text": [
      "[황민주 보안에세이] 시간의 숙성과 지능형 지속공격의 관계\n",
      "[보.알.남] 나쁜 인공지능 만들기, 데이터 포이즈닝\n",
      "[한국정보보호학회 칼럼] 융합산업과 IoBE(Internet of Blend...\n",
      "MS 익스체인지에서 제로데이 발표되자 5분 만에 스캔 시작한 해커들\n",
      "RSA 컨퍼런스에서 발표한 솔라윈즈 CEO, “보안은 공동의 책임”\n"
     ]
    }
   ],
   "source": [
    "import requests\n",
    "import bs4\n",
    "\n",
    "url = \"https://www.boannews.com/Default.asp\"\n",
    "response = requests.get(url)\n",
    "\n",
    "# XML일 경울 lxml-xml, HTML일 경우 html.parser\n",
    "soup = bs4.BeautifulSoup(response.text, 'html.parser')\n",
    "\n",
    "for tmp in soup.select(\"#headline0 > ul > li > p\"):\n",
    "    print(tmp.text)"
   ]
  },
  {
   "cell_type": "code",
   "execution_count": 1,
   "id": "85952968-ab49-44e7-9fef-e5146463435d",
   "metadata": {},
   "outputs": [
    {
     "name": "stdout",
     "output_type": "stream",
     "text": [
      "[{'a': '분노의 질주: 더 얼티메이트', 'b': '12세 관람가', 'c': 9.06, 'd': '액션', 'e': '142분 ', 'f': ' 2021.05.19', 'g': '저스틴 린', 'h': '빈 디젤(도미닉 토레토), 존 시나(제이콥 토레토), 성 강(한)'}, {'a': '스파이럴', 'b': '청소년 관람불가', 'c': 7.74, 'd': '스릴러', 'e': '93분 ', 'f': ' 2021.05.12', 'g': '대런 린 보우즈만', 'h': '크리스 록, 사무엘 L. 잭슨, 마리솔 니콜스'}, {'a': '더 스파이', 'b': '15세 관람가', 'c': 8.78, 'd': '스릴러', 'e': '112분 ', 'f': ' 2021.04.28', 'g': '도미닉 쿡', 'h': '베네딕트 컴버배치(그레빌 윈)'}, {'a': '크루즈 패밀리: 뉴 에이지', 'b': '전체 관람가', 'c': 9.35, 'd': '애니메이션, 모험, 코미디', 'e': '95분 ', 'f': ' 2021.05.05', 'g': '조엘 크로포드', 'h': '엠마 스톤(이프 목소리), 라이언 레이놀즈(가이 목소리), 켈리 마리 트란(던 목소리)'}, {'a': '극장판 귀멸의 칼날: 무한열차편', 'b': '15세 관람가', 'c': 9.62, 'd': '애니메이션', 'e': '117분 ', 'f': ' 2021.01.27', 'g': '소토자키 하루오', 'h': '하나에 나츠키(카마도 탄지로 목소리), 키토 아카리(카마도 네즈코 목소리)'}]\n"
     ]
    }
   ],
   "source": [
    "import requests\n",
    "import bs4\n",
    "\n",
    "url = \"https://movie.naver.com/movie/sdb/rank/rmovie.nhn?sel=cnt&date=20210520\"\n",
    "response = requests.get(url)\n",
    "\n",
    "# XML일 경울 lxml-xml, HTML일 경우 html.parser\n",
    "soup = bs4.BeautifulSoup(response.text, 'html.parser')\n",
    "\n",
    "moviename = []\n",
    "movielink = []\n",
    "movieactor = []\n",
    "moviearr = []\n",
    "\n",
    "for tmp in soup.select(\"#old_content > table > tbody > tr > td > div > a\", limit=5):\n",
    "#     print(tmp.text, \"https://movie.naver.com\" + tmp.attrs['href'])\n",
    "    movielink.append(\"https://movie.naver.com\" + tmp.attrs['href'])\n",
    "    \n",
    "for i in movielink:\n",
    "    response = requests.get(i)\n",
    "    \n",
    "    soup = bs4.BeautifulSoup(response.text, 'html.parser')\n",
    "    soup\n",
    "    \n",
    "    title = [\"a\", \"b\", \"c\", \"d\", \"e\", \"f\", \"g\", \"h\"]\n",
    "    moviedic = {}\n",
    "    moviedic = dict.fromkeys(title)\n",
    "    \n",
    "    # 영화제목\n",
    "    for tmp9 in soup.select(\"#content > div.article > div.mv_info_area > div.mv_info > h3 > a:nth-child(1)\"):\n",
    "        moviedic[title[0]] = tmp9.text\n",
    "    \n",
    "    # 관람등급\n",
    "    for idx, tmp1 in enumerate(soup.select(\"#content > div.article > div.mv_info_area > div.mv_info > dl > dd:nth-child(8) > p > a\")):\n",
    "        if(idx != 0):\n",
    "            break\n",
    "        moviedic[title[1]]=tmp1.text\n",
    "        \n",
    "    # 관람평점\n",
    "    for tmp2 in soup.select(\"#actualPointPersentBasic > div > span > span\"):\n",
    "        moviedic[title[2]]=float(tmp2.text.replace(\"관람객 평점 \", \"\").replace(\"점\", \"\"))\n",
    "                                  \n",
    "#     # 장르\n",
    "#     moviegenretmp = []\n",
    "#     for tmp3 in soup.select(\"#content > div.article > div.mv_info_area > div.mv_info > dl > dd:nth-child(2) > p > span:nth-child(1) > a\"):\n",
    "#         moviegenretmp.append((tmp3.text))\n",
    "#     moviegenre.append(moviegenretmp)\n",
    "    \n",
    "    # 장르\n",
    "    for tmp3 in soup.select(\"#content > div.article > div.mv_info_area > div.mv_info > dl > dd:nth-child(2) > p > span:nth-child(1)\"):\n",
    "        tempstr = \"\"\n",
    "        for tmp8 in tmp3.find_all(\"a\"):\n",
    "            tempstr += tmp8.text\n",
    "            tempstr +=  \", \"\n",
    "    moviedic[title[3]] = tempstr[:-2]\n",
    "    \n",
    "    # 상영시간\n",
    "    for tmp4 in soup.select(\"#content > div.article > div.mv_info_area > div.mv_info > dl > dd:nth-child(2) > p > span:nth-child(3)\"):\n",
    "        moviedic[title[4]] = tmp4.text\n",
    "        \n",
    "    # 개봉일\n",
    "    stringtemp=\"\"\n",
    "    for tmp5 in soup.select(\"#content > div.article > div.mv_info_area > div.mv_info > dl > dd:nth-child(2) > p > span:nth-child(4) > a\"):\n",
    "        stringtemp += tmp5.text\n",
    "    moviedic[title[5]] = stringtemp\n",
    "    \n",
    "    # 감독\n",
    "    for tmp6 in soup.select(\"#content > div.article > div.mv_info_area > div.mv_info > dl > dd:nth-child(4) > p > a\"):\n",
    "        moviedic[title[6]] = tmp6.text\n",
    "        \n",
    "    # 출연배우\n",
    "    for tmp7 in soup.select(\"#content > div.article > div.mv_info_area > div.mv_info > dl > dd:nth-child(6) > p\"):\n",
    "        moviedic[title[7]] = tmp7.text\n",
    "    \n",
    "        moviearr.append(moviedic)\n",
    "print(moviearr)"
   ]
  },
  {
   "cell_type": "code",
   "execution_count": 2,
   "id": "2e847a78-a38f-4bc4-a068-f82f15578e86",
   "metadata": {},
   "outputs": [
    {
     "name": "stdout",
     "output_type": "stream",
     "text": [
      "정상수행\n",
      "오류와 상관없이 수행\n"
     ]
    }
   ],
   "source": [
    "import pymongo\n",
    "\n",
    "try:\n",
    "    username = \"id120\"\n",
    "    password = \"pw120\"\n",
    "    host = \"1.234.5.158\"\n",
    "    port = 37017\n",
    "    dbname = \"id120\"\n",
    "    \n",
    "    # mongodb 접속\n",
    "    conn= pymongo.MongoClient(f'mongodb://{username}:{password}@{host}:{port}/{dbname}')\n",
    "    db = conn.get_database(dbname) #db선택\n",
    "    collection = db.get_collection(\"exam_movie\") #collection == table과 비슷함\n",
    "    \n",
    "    collection.insert_many(moviearr)\n",
    "    \n",
    "    print('정상수행')\n",
    "except Exception as e:\n",
    "    print(e)\n",
    "    print('오류발생시 수행')\n",
    "finally:\n",
    "    conn.close()\n",
    "    print('오류와 상관없이 수행')"
   ]
  }
 ],
 "metadata": {
  "kernelspec": {
   "display_name": "Python 3",
   "language": "python",
   "name": "python3"
  },
  "language_info": {
   "codemirror_mode": {
    "name": "ipython",
    "version": 3
   },
   "file_extension": ".py",
   "mimetype": "text/x-python",
   "name": "python",
   "nbconvert_exporter": "python",
   "pygments_lexer": "ipython3",
   "version": "3.8.8"
  }
 },
 "nbformat": 4,
 "nbformat_minor": 5
}
