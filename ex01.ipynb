{
 "cells": [
  {
   "cell_type": "code",
   "execution_count": 3,
   "id": "9c4dde02-4a20-4793-8e23-96c95378f5a7",
   "metadata": {},
   "outputs": [],
   "source": [
    "# 주석문 ctrl + ?\n",
    "# 실행 ctrl + enter\n",
    "# 함수설명 shift + tap\n",
    "# shell 추가 shift + enter"
   ]
  },
  {
   "cell_type": "code",
   "execution_count": 5,
   "id": "8e2868b0-90b6-4615-8af9-36a456025d8c",
   "metadata": {},
   "outputs": [
    {
     "name": "stdout",
     "output_type": "stream",
     "text": [
      "hello world\n",
      "hello world\n"
     ]
    }
   ],
   "source": [
    "print('hello world')\n",
    "print(\"hello world\")"
   ]
  },
  {
   "cell_type": "code",
   "execution_count": 7,
   "id": "91d1de70-20f0-4072-ba27-7f2428fe8070",
   "metadata": {},
   "outputs": [
    {
     "name": "stdout",
     "output_type": "stream",
     "text": [
      "11\n"
     ]
    }
   ],
   "source": [
    "a = 5\n",
    "b = 6\n",
    "print(a+b)"
   ]
  },
  {
   "cell_type": "code",
   "execution_count": 13,
   "id": "48681c0d-e732-44d8-98ab-104e69093818",
   "metadata": {},
   "outputs": [
    {
     "name": "stdout",
     "output_type": "stream",
     "text": [
      "9\n",
      "20\n",
      "1\n",
      "1.25\n",
      "1\n",
      "1\n",
      "125\n",
      "합은 9\n"
     ]
    }
   ],
   "source": [
    "a = 5\n",
    "b = 4\n",
    "print(a+b)\n",
    "print(a*b)\n",
    "print(a-b)\n",
    "print(a/b)\n",
    "print(a%b)\n",
    "print(a//b)\n",
    "print(a**3)\n",
    "print(f'합은 {a+b}')"
   ]
  },
  {
   "cell_type": "code",
   "execution_count": 18,
   "id": "5527b5d8-c872-445d-8419-7551546142be",
   "metadata": {},
   "outputs": [
    {
     "name": "stdin",
     "output_type": "stream",
     "text": [
      "숫자 입력? 1\n",
      "숫자 입력? 2\n"
     ]
    },
    {
     "name": "stdout",
     "output_type": "stream",
     "text": [
      "<class 'int'>\n",
      "합은 3\n"
     ]
    }
   ],
   "source": [
    "a = int(input('숫자 입력?'))\n",
    "b = int(input('숫자 입력?'))\n",
    "\n",
    "print(type(a))\n",
    "print(f'합은 {a+b}')"
   ]
  },
  {
   "cell_type": "code",
   "execution_count": 53,
   "id": "53acef04-b49d-45a9-b3d9-f0113eac29af",
   "metadata": {},
   "outputs": [
    {
     "name": "stdin",
     "output_type": "stream",
     "text": [
      "첫번째 숫자 입력? 123\n",
      "첫번째 숫자 입력? 123\n",
      "첫번째 숫자 입력? 123\n"
     ]
    },
    {
     "name": "stdout",
     "output_type": "stream",
     "text": [
      "합은 369 평균은 123.0\n"
     ]
    }
   ],
   "source": [
    "a = (int(input('첫번째 숫자 입력?')))\n",
    "b = (int(input('첫번째 숫자 입력?')))\n",
    "c = (int(input('첫번째 숫자 입력?')))\n",
    "print(f'합은 {a+b+c} 평균은 {(a+b+c)/3}')"
   ]
  },
  {
   "cell_type": "code",
   "execution_count": 55,
   "id": "b0a6ecc4-8ff0-4272-bbba-f54d756fd21f",
   "metadata": {},
   "outputs": [
    {
     "name": "stdin",
     "output_type": "stream",
     "text": [
      "숫자 입력? 4123\n"
     ]
    },
    {
     "name": "stdout",
     "output_type": "stream",
     "text": [
      "일의 자리수는 3\n"
     ]
    }
   ],
   "source": [
    "a = (int(input('숫자 입력?')))\n",
    "print(f'일의 자리수는 {a%10}')"
   ]
  },
  {
   "cell_type": "code",
   "execution_count": 56,
   "id": "67de27d4-f6f6-4c8e-9334-ca5eda6a3df1",
   "metadata": {},
   "outputs": [
    {
     "name": "stdin",
     "output_type": "stream",
     "text": [
      "1000~9999 숫자 입력? 1234\n"
     ]
    },
    {
     "name": "stdout",
     "output_type": "stream",
     "text": [
      "각 자리수의 합은 10\n"
     ]
    }
   ],
   "source": [
    "a = (int(input('1000~9999 숫자 입력?')))\n",
    "b = a//1000\n",
    "c = a//100%10\n",
    "d = a//10%10\n",
    "e = a%10\n",
    "print(f'각 자리수의 합은 {b+c+d+e}')"
   ]
  },
  {
   "cell_type": "code",
   "execution_count": 57,
   "id": "02093867-d56d-491c-8fdd-05393bd28673",
   "metadata": {},
   "outputs": [
    {
     "name": "stdin",
     "output_type": "stream",
     "text": [
      "숫자 입력? 3\n"
     ]
    },
    {
     "name": "stdout",
     "output_type": "stream",
     "text": [
      "5보다 작습니다\n"
     ]
    }
   ],
   "source": [
    "# 조건문\n",
    "a = float(input('숫자 입력?'))\n",
    "if a > 5 :\n",
    "    print('5보다 큽니다')\n",
    "else:\n",
    "    print('5보다 작습니다')"
   ]
  },
  {
   "cell_type": "code",
   "execution_count": 58,
   "id": "b46f5d0f-068e-4813-bbea-fa5a4ff7bb6a",
   "metadata": {},
   "outputs": [
    {
     "name": "stdin",
     "output_type": "stream",
     "text": [
      "숫자 입력? 5\n"
     ]
    },
    {
     "name": "stdout",
     "output_type": "stream",
     "text": [
      "5의 배수 또는 7의 배수\n"
     ]
    }
   ],
   "source": [
    "# and or not\n",
    "a = int(input('숫자 입력?'))\n",
    "if a%5==0 or a%7==0:\n",
    "    print('5의 배수 또는 7의 배수')\n",
    "else:\n",
    "    print('나머지 숫자')"
   ]
  },
  {
   "cell_type": "code",
   "execution_count": 62,
   "id": "a2691d73-1d8c-417f-bdc7-bbd8dc56274f",
   "metadata": {},
   "outputs": [
    {
     "name": "stdin",
     "output_type": "stream",
     "text": [
      "숫자 입력? 4\n"
     ]
    },
    {
     "name": "stdout",
     "output_type": "stream",
     "text": [
      "a>3\n"
     ]
    }
   ],
   "source": [
    "a = int(input('숫자 입력?'))\n",
    "if not a>3:\n",
    "    print('a<=3')\n",
    "else:\n",
    "    print('a>3')"
   ]
  },
  {
   "cell_type": "code",
   "execution_count": 61,
   "id": "0484c64d-a810-4d05-aaa8-5df85ab5caa0",
   "metadata": {},
   "outputs": [
    {
     "name": "stdin",
     "output_type": "stream",
     "text": [
      "숫자 입력? 94\n"
     ]
    },
    {
     "name": "stdout",
     "output_type": "stream",
     "text": [
      "A\n"
     ]
    }
   ],
   "source": [
    "a = int(input('숫자 입력?'))\n",
    "\n",
    "if 95>= a >=90:\n",
    "    print(\"A\")\n",
    "elif a>=80:\n",
    "    print('B')\n",
    "elif a>=70:\n",
    "    print('C')\n",
    "else:\n",
    "    print('D')"
   ]
  },
  {
   "cell_type": "code",
   "execution_count": 100,
   "id": "052eb42b-e93d-450d-b5d1-d682b8f37010",
   "metadata": {},
   "outputs": [
    {
     "name": "stdin",
     "output_type": "stream",
     "text": [
      "첫번째 수 입력 1\n",
      "두번째 수 입력 2\n",
      "세번째 수 입력 3\n"
     ]
    },
    {
     "name": "stdout",
     "output_type": "stream",
     "text": [
      "3\n"
     ]
    }
   ],
   "source": [
    "a= int(input('첫번째 수 입력'))\n",
    "b= int(input('두번째 수 입력'))\n",
    "c= int(input('세번째 수 입력'))\n",
    "if a>b>c or a>c>b:\n",
    "    print(a)\n",
    "elif b>a>c or b>c>a:\n",
    "    print(b)\n",
    "else:\n",
    "    print(c)"
   ]
  },
  {
   "cell_type": "code",
   "execution_count": 73,
   "id": "30b474cf-4778-47cb-a596-ca42336b3cff",
   "metadata": {},
   "outputs": [
    {
     "name": "stdin",
     "output_type": "stream",
     "text": [
      "숫자 입력? 4\n"
     ]
    },
    {
     "name": "stdout",
     "output_type": "stream",
     "text": [
      "배수아님\n"
     ]
    }
   ],
   "source": [
    "a = int(input('숫자 입력?'))\n",
    "if a%3==0 and a%5==0:\n",
    "    print('3 5')\n",
    "elif a%3==0:\n",
    "    print('3')\n",
    "elif a%5==0:\n",
    "    print('5')\n",
    "else:\n",
    "    print('배수아님')"
   ]
  },
  {
   "cell_type": "code",
   "execution_count": 106,
   "id": "8513c671-8025-460f-a084-a31e9f096597",
   "metadata": {},
   "outputs": [
    {
     "name": "stdin",
     "output_type": "stream",
     "text": [
      "첫번째 수 입력 1\n",
      "두번째 수 입력 1\n",
      "세번째 수 입력 3\n"
     ]
    },
    {
     "name": "stdout",
     "output_type": "stream",
     "text": [
      "같은 숫자 존재\n"
     ]
    }
   ],
   "source": [
    "a= int(input('첫번째 수 입력'))\n",
    "b= int(input('두번째 수 입력'))\n",
    "c= int(input('세번째 수 입력'))\n",
    "if a>b>c or c>b>a:\n",
    "    print(b)\n",
    "elif b>a>c or c>a>b:\n",
    "    print(a)\n",
    "elif a==b or b==c or a==c:\n",
    "    print('같은 숫자 존재')\n",
    "else:\n",
    "    print(c)"
   ]
  },
  {
   "cell_type": "code",
   "execution_count": 109,
   "id": "4c36e069-c129-4aac-86e2-971df48a709c",
   "metadata": {},
   "outputs": [
    {
     "name": "stdout",
     "output_type": "stream",
     "text": [
      "1\n",
      "2\n",
      "3\n",
      "4\n",
      "5\n",
      "6\n",
      "7\n",
      "8\n",
      "9\n"
     ]
    }
   ],
   "source": [
    "# 반복문\n",
    "#range(초기값, 조건, 증가값)\n",
    "for i in range(1,10,1):\n",
    "    print(i)"
   ]
  },
  {
   "cell_type": "code",
   "execution_count": 110,
   "id": "aa255a63-2041-4036-8479-ef3864f06a4b",
   "metadata": {},
   "outputs": [
    {
     "name": "stdin",
     "output_type": "stream",
     "text": [
      "숫자 입력 13\n"
     ]
    },
    {
     "name": "stdout",
     "output_type": "stream",
     "text": [
      "3\n"
     ]
    }
   ],
   "source": [
    "a = int(input('숫자 입력'))\n",
    "c = 0\n",
    "for i in range(1, a+1, 1):\n",
    "    if i%10==3 or i%10==7:\n",
    "        c= c+1\n",
    "print(c)"
   ]
  },
  {
   "cell_type": "code",
   "execution_count": 113,
   "id": "40538985-507d-4788-a16b-6488c13961ac",
   "metadata": {},
   "outputs": [
    {
     "name": "stdout",
     "output_type": "stream",
     "text": [
      "<class 'list'>\n",
      "1\n",
      "21\n",
      "[1, 4, 6]\n",
      "[4, 6, 21, 3]\n"
     ]
    }
   ],
   "source": [
    "# 리스트\n",
    "a = [1, 4, 6, 21, 3]\n",
    "#    0  1  2   3  4\n",
    "#    -5 -4 -3 -2 -1\n",
    "print(type(a))\n",
    "print(a[0])\n",
    "print(a[-2])\n",
    "print(a[0:3]) #인덱스가 0~2까지\n",
    "print(a[1:]) #인덱스가 1부터 끝까지"
   ]
  },
  {
   "cell_type": "code",
   "execution_count": 117,
   "id": "b5c6af50-9aae-4c45-8614-62b1f651645a",
   "metadata": {},
   "outputs": [
    {
     "name": "stdout",
     "output_type": "stream",
     "text": [
      "1 4 6 21 3 \n",
      "\n",
      "0 1, 1 4, 2 6, 3 21, 4 3, "
     ]
    }
   ],
   "source": [
    "for i in a:\n",
    "    print(i, end=\" \")\n",
    "print(\"\\n\")\n",
    "for i , j in enumerate(a): # 위치와 값이 같이 확인\n",
    "    print(i,j, end=\", \")"
   ]
  },
  {
   "cell_type": "code",
   "execution_count": 123,
   "id": "0050f716-7049-4ecd-a825-5412791fbb13",
   "metadata": {},
   "outputs": [
    {
     "name": "stdout",
     "output_type": "stream",
     "text": [
      "{'name': '가나다', 'age': 34, 'addr': '부산', 'tel': '010-0000-0000'}\n",
      "<class 'dict'>\n",
      "가나다\n",
      "34\n",
      "부산\n",
      "010-0000-0000\n",
      "가나다 34\n"
     ]
    }
   ],
   "source": [
    "# 딕셔너리 = JSON\n",
    "a = {\"name\":\"가나다\",  \"age\":34, \"addr\":\"부산\"}\n",
    "a[\"tel\"] = \"010-0000-0000\" #새로운 값 넣기\n",
    "print(a)\n",
    "print(type(a))\n",
    "print(a[\"name\"])\n",
    "print(a[\"age\"])\n",
    "print(a[\"addr\"])\n",
    "print(a[\"tel\"])\n",
    "print(a[\"name\"],a[\"age\"])"
   ]
  },
  {
   "cell_type": "code",
   "execution_count": 1,
   "id": "f0b8ce91-a0d2-4513-8eff-07a34d51033c",
   "metadata": {},
   "outputs": [
    {
     "name": "stdout",
     "output_type": "stream",
     "text": [
      "Collecting cx_oracle\n",
      "  Downloading cx_Oracle-8.1.0-cp38-cp38-win_amd64.whl (212 kB)\n",
      "Installing collected packages: cx-oracle\n",
      "Successfully installed cx-oracle-8.1.0\n"
     ]
    }
   ],
   "source": [
    "# ! dir\n",
    "# ! ls\n",
    "\n",
    "#오라클 연동 라이브러리 설치하기\n",
    "! pip install cx_oracle"
   ]
  }
 ],
 "metadata": {
  "kernelspec": {
   "display_name": "Python 3",
   "language": "python",
   "name": "python3"
  },
  "language_info": {
   "codemirror_mode": {
    "name": "ipython",
    "version": 3
   },
   "file_extension": ".py",
   "mimetype": "text/x-python",
   "name": "python",
   "nbconvert_exporter": "python",
   "pygments_lexer": "ipython3",
   "version": "3.8.8"
  }
 },
 "nbformat": 4,
 "nbformat_minor": 5
}
