{
 "cells": [
  {
   "cell_type": "code",
   "execution_count": 2,
   "id": "44e33d71-6a54-4fc7-898d-3833c6121781",
   "metadata": {},
   "outputs": [
    {
     "name": "stdout",
     "output_type": "stream",
     "text": [
      "[1, 3, 4, 5]\n",
      "{'name': '가나다', 'age': 34}\n",
      "(1, 2, 4, 7, 9)\n",
      "{1, 2, 3}\n",
      "1 3 4 5 \n",
      "name:가나다 age:34 \n"
     ]
    }
   ],
   "source": [
    "a = [1,3,4,5] # 리스트 = 배열\n",
    "b = {\"name\" :\"가나다\", \"age\":34} #딕셔너리 = JSON HashMap<Key, Value>\n",
    "c = (1,2,4,7,9) # 튜플 = 값을 변경할 수 없음\n",
    "d = {1,2,2,3}  # 셋 (ㅈㅂ합) 중복제거\n",
    "print(a)\n",
    "print(b)\n",
    "print(c)\n",
    "print(d)\n",
    "\n",
    "for i in a: # 리스트, 셋, 튜플\n",
    "    print(i, end=\" \")\n",
    "print()\n",
    "\n",
    "for k, v in b.items(): #딕셔너리\n",
    "    print(f'{k}:{v}', end= \" \")\n",
    "print()"
   ]
  },
  {
   "cell_type": "code",
   "execution_count": 23,
   "id": "1f82efe2-38e9-45e2-8acb-baaa05863970",
   "metadata": {},
   "outputs": [
    {
     "name": "stdout",
     "output_type": "stream",
     "text": [
      "<class 'list'>\n",
      "<class 'tuple'>\n",
      "(4, 5, 6)\n"
     ]
    }
   ],
   "source": [
    "a = [ (1,2,3,), (4,5,6),(7,8,9),(10,11,12)]\n",
    "print(type(a))\n",
    "print(type(a[1]))\n",
    "print(a[1])"
   ]
  },
  {
   "cell_type": "code",
   "execution_count": 8,
   "id": "8867d78e-94d2-4bda-bf5c-977d724b0bd5",
   "metadata": {},
   "outputs": [
    {
     "name": "stdout",
     "output_type": "stream",
     "text": [
      "<class 'list'>\n",
      "<class 'dict'>\n",
      "41\n"
     ]
    }
   ],
   "source": [
    "a = [{\"name\":\"가\",\"age\":4},{\"name\":\"가1\",\"age\":41}]\n",
    "print(type(a))\n",
    "print(type(a[1]))\n",
    "\n",
    "print(a[1][\"age\"]) #41"
   ]
  },
  {
   "cell_type": "code",
   "execution_count": 22,
   "id": "5b4c58a8-1573-4618-9530-9ad5a038a7ac",
   "metadata": {},
   "outputs": [
    {
     "name": "stdout",
     "output_type": "stream",
     "text": [
      "<class 'dict'>\n",
      "가\n",
      "가\n"
     ]
    }
   ],
   "source": [
    "\n",
    "a={\"data\":\"abc\", \"member\":[{\"name\":\"가\",\"age\":4},{\"name\":\"가1\",\"age\":41}]}\n",
    "b=a[\"member\"] #리스트\n",
    "c= b[0] #딕셔너리\n",
    "# 이름 \"가\"와 \"가1\"을 출력하세요\n",
    "print(type(a))\n",
    "print(c[\"name\"])\n",
    "print(a[\"member\"][0][\"name\"])"
   ]
  }
 ],
 "metadata": {
  "kernelspec": {
   "display_name": "Python 3",
   "language": "python",
   "name": "python3"
  },
  "language_info": {
   "codemirror_mode": {
    "name": "ipython",
    "version": 3
   },
   "file_extension": ".py",
   "mimetype": "text/x-python",
   "name": "python",
   "nbconvert_exporter": "python",
   "pygments_lexer": "ipython3",
   "version": "3.8.8"
  }
 },
 "nbformat": 4,
 "nbformat_minor": 5
}
