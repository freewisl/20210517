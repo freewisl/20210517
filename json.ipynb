{
 "cells": [
  {
   "cell_type": "code",
   "execution_count": 5,
   "id": "8a2f51ec-16e8-469d-9d84-ecbd5527cc07",
   "metadata": {},
   "outputs": [
    {
     "name": "stdout",
     "output_type": "stream",
     "text": [
      "[{\"ret\":\"y1\",\"data\":\"123\"},{\"ret\":\"y2\",\"data\":\"234\"}]\n",
      "<class 'str'>\n",
      "[{'ret': 'y1', 'data': '123'}, {'ret': 'y2', 'data': '234'}]\n",
      "<class 'list'>\n"
     ]
    }
   ],
   "source": [
    "import requests\n",
    "import json\n",
    "\n",
    "url = \"http://ihongss.com/json/exam2.json\"\n",
    "data = requests.get(url).text\n",
    "print(data)\n",
    "print(type(data))\n",
    "\n",
    "#str -> list, dict\n",
    "data1 = json.loads(data)\n",
    "print(data1)\n",
    "print(type(data1))\n",
    "\n",
    "\n",
    "#[{'ret':'y1','data':'123'},{'ret':'y2', 'data':'234'}]\n",
    "#[ ['y1', 123], ['y2', 234]]"
   ]
  },
  {
   "cell_type": "code",
   "execution_count": 10,
   "id": "04493c71-2fa1-45b4-badf-63c491c44a0e",
   "metadata": {},
   "outputs": [
    {
     "name": "stdout",
     "output_type": "stream",
     "text": [
      "{'ret': 'y1', 'data': '123'} <class 'dict'>\n",
      "{'ret': 'y2', 'data': '234'} <class 'dict'>\n"
     ]
    },
    {
     "data": {
      "text/plain": [
       "[['y1', 123], ['y2', 234]]"
      ]
     },
     "execution_count": 10,
     "metadata": {},
     "output_type": "execute_result"
    }
   ],
   "source": [
    "#[{'ret':'y1','data':'123'},{'ret':'y2', 'data':'234'}]\n",
    "#[ ['y1', 123], ['y2', 234]]\n",
    "\n",
    "data2 = [] # list생성\n",
    "for i in data1: # 2번회전\n",
    "    print(i, type(i))\n",
    "    # [1,2]\n",
    "    data2.append([i['ret'], int(i['data'])])\n",
    "data2"
   ]
  },
  {
   "cell_type": "code",
   "execution_count": 23,
   "id": "c1d120ee-ea2a-4abb-b2e7-9d5e2c7a224f",
   "metadata": {},
   "outputs": [
    {
     "name": "stdout",
     "output_type": "stream",
     "text": [
      "[['y1', 123], ['y2', 234]]\n"
     ]
    }
   ],
   "source": [
    "import csv\n",
    "\n",
    "# 저장위치, w, r, a, utf-9, euc-kr\n",
    "file = open('csv/20210518_1103.csv', 'w', encoding='utf-8', newline='')\n",
    "wr = csv.writer(file)\n",
    "wr.writerow(['ret', 'data'])\n",
    "for i in data2:\n",
    "    wr.writerow(i)\n",
    "file.close()\n",
    "print(data2)"
   ]
  },
  {
   "cell_type": "code",
   "execution_count": 15,
   "id": "dcd3dc97-5e88-4a24-a123-0df2d1b2dc54",
   "metadata": {},
   "outputs": [
    {
     "name": "stdout",
     "output_type": "stream",
     "text": [
      "['y1', '123']\n",
      "['y2', '234']\n"
     ]
    }
   ],
   "source": [
    "import csv\n",
    "\n",
    "# 저장위치, w, r, a, utf-9, euc-kr\n",
    "file = open('csv/20210518_1103.csv', 'r', encoding='utf-8')\n",
    "rd = csv.reader(file)\n",
    "next(rd, None) # 한줄 skip\n",
    "for i in rd:\n",
    "    print(i)\n",
    "    \n",
    "file.close()"
   ]
  },
  {
   "cell_type": "code",
   "execution_count": 59,
   "id": "5dcd0274-5444-412e-977f-76cbb49b7cf4",
   "metadata": {},
   "outputs": [
    {
     "name": "stdout",
     "output_type": "stream",
     "text": [
      "{'ret': 'y', 'data': [{'id': 'a', 'name': '가나다1', 'age': 61, 'height': 165.4, 'weight': 60.2}, {'id': 'b', 'name': '가나다2', 'age': 32, 'height': 185.4, 'weight': 80.3}, {'id': 'c', 'name': '가나다3', 'age': 13, 'height': 145.8, 'weight': 60.6}, {'id': 'd', 'name': '가나다4', 'age': 44, 'height': 165.7, 'weight': 44.5}, {'id': 'e', 'name': '가나다5', 'age': 85, 'height': 165.2, 'weight': 42.3}]}\n",
      "<class 'dict'>\n",
      "{'id': 'a', 'name': '가나다1', 'age': 61, 'height': 165.4, 'weight': 60.2}\n",
      "{'id': 'b', 'name': '가나다2', 'age': 32, 'height': 185.4, 'weight': 80.3}\n",
      "{'id': 'c', 'name': '가나다3', 'age': 13, 'height': 145.8, 'weight': 60.6}\n",
      "{'id': 'd', 'name': '가나다4', 'age': 44, 'height': 165.7, 'weight': 44.5}\n",
      "{'id': 'e', 'name': '가나다5', 'age': 85, 'height': 165.2, 'weight': 42.3}\n",
      "[['a', '가나다1', 61, 165.4, 60.2], ['b', '가나다2', 32, 185.4, 80.3], ['c', '가나다3', 13, 145.8, 60.6], ['d', '가나다4', 44, 165.7, 44.5], ['e', '가나다5', 85, 165.2, 42.3]]\n"
     ]
    }
   ],
   "source": [
    "import csv\n",
    "import json\n",
    "import requests\n",
    "\n",
    "url = \"http://ihongss.com/json/exam7.json\"\n",
    "data = requests.get(url).text\n",
    "data1 = json.loads(data)\n",
    "print(data1)\n",
    "\n",
    "a = []\n",
    "for i in data1[\"data\"]:\n",
    "    print(i)\n",
    "    a.append([i.get('id'), i.get('name'), i.get('age'), i.get('height'), i.get('weight')])\n",
    "print(a)\n",
    "\n",
    "file = open('csv/20210518_ex01.csv', 'w', encoding='utf-8', newline='')\n",
    "wr = csv.writer(file)\n",
    "wr.writerow(['id', 'name', 'age', 'height', 'weight'])\n",
    "\n",
    "for i in a:\n",
    "    wr.writerow(i)\n",
    "    \n",
    "file.close()"
   ]
  },
  {
   "cell_type": "code",
   "execution_count": 83,
   "id": "0312b6dc-3928-4776-8105-c807cd2d7f34",
   "metadata": {},
   "outputs": [
    {
     "name": "stdout",
     "output_type": "stream",
     "text": [
      "일별 박스오피스 <class 'str'>\n",
      "20120101~20120101 <class 'str'>\n",
      "[{'rnum': '1', 'rank': '1', 'rankInten': '0', 'rankOldAndNew': 'OLD', 'movieCd': '20112207', 'movieNm': '미션임파서블:고스트프로토콜', 'openDt': '2011-12-15', 'salesAmt': '2776060500', 'salesShare': '36.3', 'salesInten': '-415699000', 'salesChange': '-13', 'salesAcc': '40541108500', 'audiCnt': '353274', 'audiInten': '-60106', 'audiChange': '-14.5', 'audiAcc': '5328435', 'scrnCnt': '697', 'showCnt': '3223'}, {'rnum': '2', 'rank': '2', 'rankInten': '1', 'rankOldAndNew': 'OLD', 'movieCd': '20110295', 'movieNm': '마이 웨이', 'openDt': '2011-12-21', 'salesAmt': '1189058500', 'salesShare': '15.6', 'salesInten': '-105894500', 'salesChange': '-8.2', 'salesAcc': '13002897500', 'audiCnt': '153501', 'audiInten': '-16465', 'audiChange': '-9.7', 'audiAcc': '1739543', 'scrnCnt': '588', 'showCnt': '2321'}, {'rnum': '3', 'rank': '3', 'rankInten': '-1', 'rankOldAndNew': 'OLD', 'movieCd': '20112621', 'movieNm': '셜록홈즈 : 그림자 게임', 'openDt': '2011-12-21', 'salesAmt': '1176022500', 'salesShare': '15.4', 'salesInten': '-210328500', 'salesChange': '-15.2', 'salesAcc': '10678327500', 'audiCnt': '153004', 'audiInten': '-31283', 'audiChange': '-17', 'audiAcc': '1442861', 'scrnCnt': '360', 'showCnt': '1832'}, {'rnum': '4', 'rank': '4', 'rankInten': '0', 'rankOldAndNew': 'OLD', 'movieCd': '20113260', 'movieNm': '퍼펙트 게임', 'openDt': '2011-12-21', 'salesAmt': '644532000', 'salesShare': '8.4', 'salesInten': '-75116500', 'salesChange': '-10.4', 'salesAcc': '6640940000', 'audiCnt': '83644', 'audiInten': '-12225', 'audiChange': '-12.8', 'audiAcc': '895416', 'scrnCnt': '396', 'showCnt': '1364'}, {'rnum': '5', 'rank': '5', 'rankInten': '0', 'rankOldAndNew': 'OLD', 'movieCd': '20113271', 'movieNm': '프렌즈: 몬스터섬의비밀 ', 'openDt': '2011-12-29', 'salesAmt': '436753500', 'salesShare': '5.7', 'salesInten': '-89051000', 'salesChange': '-16.9', 'salesAcc': '1523037000', 'audiCnt': '55092', 'audiInten': '-15568', 'audiChange': '-22', 'audiAcc': '202909', 'scrnCnt': '290', 'showCnt': '838'}, {'rnum': '6', 'rank': '6', 'rankInten': '1', 'rankOldAndNew': 'OLD', 'movieCd': '19940256', 'movieNm': '라이온 킹', 'openDt': '1994-07-02', 'salesAmt': '507115500', 'salesShare': '6.6', 'salesInten': '-114593500', 'salesChange': '-18.4', 'salesAcc': '1841625000', 'audiCnt': '45750', 'audiInten': '-11699', 'audiChange': '-20.4', 'audiAcc': '171285', 'scrnCnt': '244', 'showCnt': '895'}, {'rnum': '7', 'rank': '7', 'rankInten': '-1', 'rankOldAndNew': 'OLD', 'movieCd': '20113381', 'movieNm': '오싹한 연애', 'openDt': '2011-12-01', 'salesAmt': '344871000', 'salesShare': '4.5', 'salesInten': '-107005500', 'salesChange': '-23.7', 'salesAcc': '20634684500', 'audiCnt': '45062', 'audiInten': '-15926', 'audiChange': '-26.1', 'audiAcc': '2823060', 'scrnCnt': '243', 'showCnt': '839'}, {'rnum': '8', 'rank': '8', 'rankInten': '0', 'rankOldAndNew': 'OLD', 'movieCd': '20112709', 'movieNm': '극장판 포켓몬스터 베스트 위시「비크티니와 백의 영웅 레시라무」', 'openDt': '2011-12-22', 'salesAmt': '167809500', 'salesShare': '2.2', 'salesInten': '-45900500', 'salesChange': '-21.5', 'salesAcc': '1897120000', 'audiCnt': '24202', 'audiInten': '-7756', 'audiChange': '-24.3', 'audiAcc': '285959', 'scrnCnt': '186', 'showCnt': '348'}, {'rnum': '9', 'rank': '9', 'rankInten': '0', 'rankOldAndNew': 'OLD', 'movieCd': '20113311', 'movieNm': '앨빈과 슈퍼밴드3', 'openDt': '2011-12-15', 'salesAmt': '137030000', 'salesShare': '1.8', 'salesInten': '-35408000', 'salesChange': '-20.5', 'salesAcc': '3416675000', 'audiCnt': '19729', 'audiInten': '-6461', 'audiChange': '-24.7', 'audiAcc': '516289', 'scrnCnt': '169', 'showCnt': '359'}, {'rnum': '10', 'rank': '10', 'rankInten': '0', 'rankOldAndNew': 'OLD', 'movieCd': '20112708', 'movieNm': '극장판 포켓몬스터 베스트 위시 「비크티니와 흑의 영웅 제크로무」', 'openDt': '2011-12-22', 'salesAmt': '125535500', 'salesShare': '1.6', 'salesInten': '-40756000', 'salesChange': '-24.5', 'salesAcc': '1595695000', 'audiCnt': '17817', 'audiInten': '-6554', 'audiChange': '-26.9', 'audiAcc': '235070', 'scrnCnt': '175', 'showCnt': '291'}] <class 'list'>\n",
      "{'rnum': '1', 'rank': '1', 'rankInten': '0', 'rankOldAndNew': 'OLD', 'movieCd': '20112207', 'movieNm': '미션임파서블:고스트프로토콜', 'openDt': '2011-12-15', 'salesAmt': '2776060500', 'salesShare': '36.3', 'salesInten': '-415699000', 'salesChange': '-13', 'salesAcc': '40541108500', 'audiCnt': '353274', 'audiInten': '-60106', 'audiChange': '-14.5', 'audiAcc': '5328435', 'scrnCnt': '697', 'showCnt': '3223'}\n",
      "{'rnum': '2', 'rank': '2', 'rankInten': '1', 'rankOldAndNew': 'OLD', 'movieCd': '20110295', 'movieNm': '마이 웨이', 'openDt': '2011-12-21', 'salesAmt': '1189058500', 'salesShare': '15.6', 'salesInten': '-105894500', 'salesChange': '-8.2', 'salesAcc': '13002897500', 'audiCnt': '153501', 'audiInten': '-16465', 'audiChange': '-9.7', 'audiAcc': '1739543', 'scrnCnt': '588', 'showCnt': '2321'}\n",
      "{'rnum': '3', 'rank': '3', 'rankInten': '-1', 'rankOldAndNew': 'OLD', 'movieCd': '20112621', 'movieNm': '셜록홈즈 : 그림자 게임', 'openDt': '2011-12-21', 'salesAmt': '1176022500', 'salesShare': '15.4', 'salesInten': '-210328500', 'salesChange': '-15.2', 'salesAcc': '10678327500', 'audiCnt': '153004', 'audiInten': '-31283', 'audiChange': '-17', 'audiAcc': '1442861', 'scrnCnt': '360', 'showCnt': '1832'}\n",
      "{'rnum': '4', 'rank': '4', 'rankInten': '0', 'rankOldAndNew': 'OLD', 'movieCd': '20113260', 'movieNm': '퍼펙트 게임', 'openDt': '2011-12-21', 'salesAmt': '644532000', 'salesShare': '8.4', 'salesInten': '-75116500', 'salesChange': '-10.4', 'salesAcc': '6640940000', 'audiCnt': '83644', 'audiInten': '-12225', 'audiChange': '-12.8', 'audiAcc': '895416', 'scrnCnt': '396', 'showCnt': '1364'}\n",
      "{'rnum': '5', 'rank': '5', 'rankInten': '0', 'rankOldAndNew': 'OLD', 'movieCd': '20113271', 'movieNm': '프렌즈: 몬스터섬의비밀 ', 'openDt': '2011-12-29', 'salesAmt': '436753500', 'salesShare': '5.7', 'salesInten': '-89051000', 'salesChange': '-16.9', 'salesAcc': '1523037000', 'audiCnt': '55092', 'audiInten': '-15568', 'audiChange': '-22', 'audiAcc': '202909', 'scrnCnt': '290', 'showCnt': '838'}\n",
      "{'rnum': '6', 'rank': '6', 'rankInten': '1', 'rankOldAndNew': 'OLD', 'movieCd': '19940256', 'movieNm': '라이온 킹', 'openDt': '1994-07-02', 'salesAmt': '507115500', 'salesShare': '6.6', 'salesInten': '-114593500', 'salesChange': '-18.4', 'salesAcc': '1841625000', 'audiCnt': '45750', 'audiInten': '-11699', 'audiChange': '-20.4', 'audiAcc': '171285', 'scrnCnt': '244', 'showCnt': '895'}\n",
      "{'rnum': '7', 'rank': '7', 'rankInten': '-1', 'rankOldAndNew': 'OLD', 'movieCd': '20113381', 'movieNm': '오싹한 연애', 'openDt': '2011-12-01', 'salesAmt': '344871000', 'salesShare': '4.5', 'salesInten': '-107005500', 'salesChange': '-23.7', 'salesAcc': '20634684500', 'audiCnt': '45062', 'audiInten': '-15926', 'audiChange': '-26.1', 'audiAcc': '2823060', 'scrnCnt': '243', 'showCnt': '839'}\n",
      "{'rnum': '8', 'rank': '8', 'rankInten': '0', 'rankOldAndNew': 'OLD', 'movieCd': '20112709', 'movieNm': '극장판 포켓몬스터 베스트 위시「비크티니와 백의 영웅 레시라무」', 'openDt': '2011-12-22', 'salesAmt': '167809500', 'salesShare': '2.2', 'salesInten': '-45900500', 'salesChange': '-21.5', 'salesAcc': '1897120000', 'audiCnt': '24202', 'audiInten': '-7756', 'audiChange': '-24.3', 'audiAcc': '285959', 'scrnCnt': '186', 'showCnt': '348'}\n",
      "{'rnum': '9', 'rank': '9', 'rankInten': '0', 'rankOldAndNew': 'OLD', 'movieCd': '20113311', 'movieNm': '앨빈과 슈퍼밴드3', 'openDt': '2011-12-15', 'salesAmt': '137030000', 'salesShare': '1.8', 'salesInten': '-35408000', 'salesChange': '-20.5', 'salesAcc': '3416675000', 'audiCnt': '19729', 'audiInten': '-6461', 'audiChange': '-24.7', 'audiAcc': '516289', 'scrnCnt': '169', 'showCnt': '359'}\n",
      "{'rnum': '10', 'rank': '10', 'rankInten': '0', 'rankOldAndNew': 'OLD', 'movieCd': '20112708', 'movieNm': '극장판 포켓몬스터 베스트 위시 「비크티니와 흑의 영웅 제크로무」', 'openDt': '2011-12-22', 'salesAmt': '125535500', 'salesShare': '1.6', 'salesInten': '-40756000', 'salesChange': '-24.5', 'salesAcc': '1595695000', 'audiCnt': '17817', 'audiInten': '-6554', 'audiChange': '-26.9', 'audiAcc': '235070', 'scrnCnt': '175', 'showCnt': '291'}\n"
     ]
    }
   ],
   "source": [
    "import csv\n",
    "import json\n",
    "import requests\n",
    "\n",
    "url = \"http://ihongss.com/json/exam21.json\"\n",
    "data = requests.get(url).text\n",
    "data1 = json.loads(data)\n",
    "# print(data1)\n",
    "# print(data1['boxOfficeResult']['dailyBoxOfficeList'])\n",
    "\n",
    "# 딕셔너리 반복문\n",
    "for k, v in data1['boxOfficeResult'].items():\n",
    "    print(v, type(v))\n",
    "\n",
    "a = []\n",
    "# 리스트 반복문\n",
    "for i in data1['boxOfficeResult']['dailyBoxOfficeList']:\n",
    "    print(i)\n",
    "    a.append([i.get('rank'), i.get('movieNm'), i.get('openDt'), i.get('salesAcc'), i.get('audiAcc')])\n",
    "    # print(i, i['rnum'])\n",
    "\n",
    "file = open('csv/20210518_ex21.csv', 'w', encoding='utf-8', newline='')\n",
    "wr = csv.writer(file)\n",
    "wr.writerow(['순위', '영화제목', '개봉일', '누적판매금액', '누적관객수'])\n",
    "\n",
    "for i in a:\n",
    "    wr.writerow(i)\n",
    "    \n",
    "file.close()"
   ]
  },
  {
   "cell_type": "code",
   "execution_count": 115,
   "id": "7ef21b8c-0bf0-4e99-ba4b-0f22f72ff582",
   "metadata": {},
   "outputs": [
    {
     "name": "stdout",
     "output_type": "stream",
     "text": [
      "[{'name': 'Meowsy', 'species': 'cat', 'foods': {'likes': ['tuna', 'catnip'], 'dislikes': ['ham', 'zucchini']}}, {'name': 'Barky', 'species': 'dog', 'foods': {'likes': ['bones', 'carrots'], 'dislikes': ['tuna']}}, {'name': 'Purrpaws', 'species': 'cat', 'foods': {'likes': ['mice'], 'dislikes': ['cookies']}}]\n",
      "<class 'list'>\n",
      "{'name': 'Meowsy', 'species': 'cat', 'foods': {'likes': ['tuna', 'catnip'], 'dislikes': ['ham', 'zucchini']}}\n",
      "{'name': 'Barky', 'species': 'dog', 'foods': {'likes': ['bones', 'carrots'], 'dislikes': ['tuna']}}\n",
      "{'name': 'Purrpaws', 'species': 'cat', 'foods': {'likes': ['mice'], 'dislikes': ['cookies']}}\n",
      "[['Meowsy', 'cat', ['tuna', 'catnip'], ['ham', 'zucchini']], ['Barky', 'dog', ['bones', 'carrots'], ['tuna']], ['Purrpaws', 'cat', ['mice'], ['cookies']]]\n"
     ]
    }
   ],
   "source": [
    "import csv\n",
    "import json\n",
    "import requests\n",
    "\n",
    "url = \"https://raw.githubusercontent.com/LearnWebCode/json-example/master/animals-1.json\"\n",
    "data = requests.get(url).text\n",
    "data1 = json.loads(data)\n",
    "print(data1)\n",
    "print(type(data1))\n",
    "\n",
    "a = []\n",
    "for i in data1:\n",
    "    print(i)\n",
    "    a.append([i.get('name'), i.get('species'), i.get('foods').get('likes'), i.get('foods').get('dislikes')])\n",
    "print(a)"
   ]
  },
  {
   "cell_type": "code",
   "execution_count": 99,
   "id": "95a35a46-b782-42a4-9684-738dab4993e7",
   "metadata": {},
   "outputs": [
    {
     "name": "stdout",
     "output_type": "stream",
     "text": [
      "[[5.1, 3.5, 1.4, 0.2, 'setosa'], [4.9, 3.0, 1.4, 0.2, 'setosa'], [4.7, 3.2, 1.3, 0.2, 'setosa'], [4.6, 3.1, 1.5, 0.2, 'setosa'], [5.0, 3.6, 1.4, 0.2, 'setosa'], [5.4, 3.9, 1.7, 0.4, 'setosa'], [4.6, 3.4, 1.4, 0.3, 'setosa'], [5.0, 3.4, 1.5, 0.2, 'setosa'], [4.4, 2.9, 1.4, 0.2, 'setosa'], [4.9, 3.1, 1.5, 0.1, 'setosa'], [5.4, 3.7, 1.5, 0.2, 'setosa'], [4.8, 3.4, 1.6, 0.2, 'setosa'], [4.8, 3.0, 1.4, 0.1, 'setosa'], [4.3, 3.0, 1.1, 0.1, 'setosa'], [5.8, 4.0, 1.2, 0.2, 'setosa'], [5.7, 4.4, 1.5, 0.4, 'setosa'], [5.4, 3.9, 1.3, 0.4, 'setosa'], [5.1, 3.5, 1.4, 0.3, 'setosa'], [5.7, 3.8, 1.7, 0.3, 'setosa'], [5.1, 3.8, 1.5, 0.3, 'setosa'], [5.4, 3.4, 1.7, 0.2, 'setosa'], [5.1, 3.7, 1.5, 0.4, 'setosa'], [4.6, 3.6, 1.0, 0.2, 'setosa'], [5.1, 3.3, 1.7, 0.5, 'setosa'], [4.8, 3.4, 1.9, 0.2, 'setosa'], [5.0, 3.0, 1.6, 0.2, 'setosa'], [5.0, 3.4, 1.6, 0.4, 'setosa'], [5.2, 3.5, 1.5, 0.2, 'setosa'], [5.2, 3.4, 1.4, 0.2, 'setosa'], [4.7, 3.2, 1.6, 0.2, 'setosa'], [4.8, 3.1, 1.6, 0.2, 'setosa'], [5.4, 3.4, 1.5, 0.4, 'setosa'], [5.2, 4.1, 1.5, 0.1, 'setosa'], [5.5, 4.2, 1.4, 0.2, 'setosa'], [4.9, 3.1, 1.5, 0.2, 'setosa'], [5.0, 3.2, 1.2, 0.2, 'setosa'], [5.5, 3.5, 1.3, 0.2, 'setosa'], [4.9, 3.6, 1.4, 0.1, 'setosa'], [4.4, 3.0, 1.3, 0.2, 'setosa'], [5.1, 3.4, 1.5, 0.2, 'setosa'], [5.0, 3.5, 1.3, 0.3, 'setosa'], [4.5, 2.3, 1.3, 0.3, 'setosa'], [4.4, 3.2, 1.3, 0.2, 'setosa'], [5.0, 3.5, 1.6, 0.6, 'setosa'], [5.1, 3.8, 1.9, 0.4, 'setosa'], [4.8, 3.0, 1.4, 0.3, 'setosa'], [5.1, 3.8, 1.6, 0.2, 'setosa'], [4.6, 3.2, 1.4, 0.2, 'setosa'], [5.3, 3.7, 1.5, 0.2, 'setosa'], [5.0, 3.3, 1.4, 0.2, 'setosa'], [7.0, 3.2, 4.7, 1.4, 'versicolor'], [6.4, 3.2, 4.5, 1.5, 'versicolor'], [6.9, 3.1, 4.9, 1.5, 'versicolor'], [5.5, 2.3, 4.0, 1.3, 'versicolor'], [6.5, 2.8, 4.6, 1.5, 'versicolor'], [5.7, 2.8, 4.5, 1.3, 'versicolor'], [6.3, 3.3, 4.7, 1.6, 'versicolor'], [4.9, 2.4, 3.3, 1.0, 'versicolor'], [6.6, 2.9, 4.6, 1.3, 'versicolor'], [5.2, 2.7, 3.9, 1.4, 'versicolor'], [5.0, 2.0, 3.5, 1.0, 'versicolor'], [5.9, 3.0, 4.2, 1.5, 'versicolor'], [6.0, 2.2, 4.0, 1.0, 'versicolor'], [6.1, 2.9, 4.7, 1.4, 'versicolor'], [5.6, 2.9, 3.6, 1.3, 'versicolor'], [6.7, 3.1, 4.4, 1.4, 'versicolor'], [5.6, 3.0, 4.5, 1.5, 'versicolor'], [5.8, 2.7, 4.1, 1.0, 'versicolor'], [6.2, 2.2, 4.5, 1.5, 'versicolor'], [5.6, 2.5, 3.9, 1.1, 'versicolor'], [5.9, 3.2, 4.8, 1.8, 'versicolor'], [6.1, 2.8, 4.0, 1.3, 'versicolor'], [6.3, 2.5, 4.9, 1.5, 'versicolor'], [6.1, 2.8, 4.7, 1.2, 'versicolor'], [6.4, 2.9, 4.3, 1.3, 'versicolor'], [6.6, 3.0, 4.4, 1.4, 'versicolor'], [6.8, 2.8, 4.8, 1.4, 'versicolor'], [6.7, 3.0, 5.0, 1.7, 'versicolor'], [6.0, 2.9, 4.5, 1.5, 'versicolor'], [5.7, 2.6, 3.5, 1.0, 'versicolor'], [5.5, 2.4, 3.8, 1.1, 'versicolor'], [5.5, 2.4, 3.7, 1.0, 'versicolor'], [5.8, 2.7, 3.9, 1.2, 'versicolor'], [6.0, 2.7, 5.1, 1.6, 'versicolor'], [5.4, 3.0, 4.5, 1.5, 'versicolor'], [6.0, 3.4, 4.5, 1.6, 'versicolor'], [6.7, 3.1, 4.7, 1.5, 'versicolor'], [6.3, 2.3, 4.4, 1.3, 'versicolor'], [5.6, 3.0, 4.1, 1.3, 'versicolor'], [5.5, 2.5, 4.0, 1.3, 'versicolor'], [5.5, 2.6, 4.4, 1.2, 'versicolor'], [6.1, 3.0, 4.6, 1.4, 'versicolor'], [5.8, 2.6, 4.0, 1.2, 'versicolor'], [5.0, 2.3, 3.3, 1.0, 'versicolor'], [5.6, 2.7, 4.2, 1.3, 'versicolor'], [5.7, 3.0, 4.2, 1.2, 'versicolor'], [5.7, 2.9, 4.2, 1.3, 'versicolor'], [6.2, 2.9, 4.3, 1.3, 'versicolor'], [5.1, 2.5, 3.0, 1.1, 'versicolor'], [5.7, 2.8, 4.1, 1.3, 'versicolor'], [6.3, 3.3, 6.0, 2.5, 'virginica'], [5.8, 2.7, 5.1, 1.9, 'virginica'], [7.1, 3.0, 5.9, 2.1, 'virginica'], [6.3, 2.9, 5.6, 1.8, 'virginica'], [6.5, 3.0, 5.8, 2.2, 'virginica'], [7.6, 3.0, 6.6, 2.1, 'virginica'], [4.9, 2.5, 4.5, 1.7, 'virginica'], [7.3, 2.9, 6.3, 1.8, 'virginica'], [6.7, 2.5, 5.8, 1.8, 'virginica'], [7.2, 3.6, 6.1, 2.5, 'virginica'], [6.5, 3.2, 5.1, 2.0, 'virginica'], [6.4, 2.7, 5.3, 1.9, 'virginica'], [6.8, 3.0, 5.5, 2.1, 'virginica'], [5.7, 2.5, 5.0, 2.0, 'virginica'], [5.8, 2.8, 5.1, 2.4, 'virginica'], [6.4, 3.2, 5.3, 2.3, 'virginica'], [6.5, 3.0, 5.5, 1.8, 'virginica'], [7.7, 3.8, 6.7, 2.2, 'virginica'], [7.7, 2.6, 6.9, 2.3, 'virginica'], [6.0, 2.2, 5.0, 1.5, 'virginica'], [6.9, 3.2, 5.7, 2.3, 'virginica'], [5.6, 2.8, 4.9, 2.0, 'virginica'], [7.7, 2.8, 6.7, 2.0, 'virginica'], [6.3, 2.7, 4.9, 1.8, 'virginica'], [6.7, 3.3, 5.7, 2.1, 'virginica'], [7.2, 3.2, 6.0, 1.8, 'virginica'], [6.2, 2.8, 4.8, 1.8, 'virginica'], [6.1, 3.0, 4.9, 1.8, 'virginica'], [6.4, 2.8, 5.6, 2.1, 'virginica'], [7.2, 3.0, 5.8, 1.6, 'virginica'], [7.4, 2.8, 6.1, 1.9, 'virginica'], [7.9, 3.8, 6.4, 2.0, 'virginica'], [6.4, 2.8, 5.6, 2.2, 'virginica'], [6.3, 2.8, 5.1, 1.5, 'virginica'], [6.1, 2.6, 5.6, 1.4, 'virginica'], [7.7, 3.0, 6.1, 2.3, 'virginica'], [6.3, 3.4, 5.6, 2.4, 'virginica'], [6.4, 3.1, 5.5, 1.8, 'virginica'], [6.0, 3.0, 4.8, 1.8, 'virginica'], [6.9, 3.1, 5.4, 2.1, 'virginica'], [6.7, 3.1, 5.6, 2.4, 'virginica'], [6.9, 3.1, 5.1, 2.3, 'virginica'], [5.8, 2.7, 5.1, 1.9, 'virginica'], [6.8, 3.2, 5.9, 2.3, 'virginica'], [6.7, 3.3, 5.7, 2.5, 'virginica'], [6.7, 3.0, 5.2, 2.3, 'virginica'], [6.3, 2.5, 5.0, 1.9, 'virginica'], [6.5, 3.0, 5.2, 2.0, 'virginica'], [6.2, 3.4, 5.4, 2.3, 'virginica'], [5.9, 3.0, 5.1, 1.8, 'virginica']]\n"
     ]
    }
   ],
   "source": [
    "import csv\n",
    "import json\n",
    "import requests\n",
    "\n",
    "url = \"https://raw.githubusercontent.com/domoritz/maps/master/data/iris.json\"\n",
    "data = requests.get(url).text\n",
    "data1 = json.loads(data)\n",
    "# print(data1)\n",
    "# print(type(data1))\n",
    "\n",
    "a = []\n",
    "for i in data1:\n",
    "    # print(i)\n",
    "    a.append([i.get('sepalLength'), i.get('sepalWidth'), i.get('petalLength'), i.get('petalWidth'), i.get('species')])\n",
    "print(a)"
   ]
  },
  {
   "cell_type": "code",
   "execution_count": 139,
   "id": "d3e804b5-6343-419c-b4c6-a7cf2623d31a",
   "metadata": {},
   "outputs": [
    {
     "name": "stdout",
     "output_type": "stream",
     "text": [
      "ticket class\n",
      "gender\n",
      "age\n",
      "sibl. sp.\n",
      "par. ch.\n",
      "ticket fare\n",
      "embarked\n",
      "['ticket class', 'gender', 'age', 'sibl. sp.', 'par. ch.', 'ticket fare', 'embarked']\n",
      "[[3, 'male', 0.42, 0, 1, 8.5167, 'Cherbourg'], [3, 'female', 0.75, 2, 1, 19.2583, 'Cherbourg'], [3, 'female', 0.75, 2, 1, 19.2583, 'Cherbourg'], [3, 'female', 1, 0, 2, 15.7417, 'Cherbourg'], [2, 'male', 1, 0, 2, 37.0042, 'Cherbourg'], [2, 'female', 3, 1, 2, 41.5792, 'Cherbourg'], [3, 'female', 4, 0, 1, 13.4167, 'Cherbourg'], [3, 'female', 5, 2, 1, 19.2583, 'Cherbourg'], [3, 'male', 12, 1, 0, 11.2417, 'Cherbourg'], [3, 'female', 13, 0, 0, 7.2292, 'Cherbourg'], [2, 'female', 14, 1, 0, 30.0708, 'Cherbourg'], [3, 'female', 14, 1, 0, 11.2417, 'Cherbourg'], [3, 'female', 15, 1, 0, 14.4542, 'Cherbourg'], [3, 'female', 15, 0, 0, 7.225, 'Cherbourg'], [1, 'female', 16, 0, 1, 57.9792, 'Cherbourg'], [1, 'female', 17, 1, 0, 108.9, 'Cherbourg'], [2, 'female', 17, 0, 0, 12, 'Cherbourg'], [1, 'male', 17, 0, 2, 110.8833, 'Cherbourg'], [1, 'female', 18, 2, 2, 262.375, 'Cherbourg'], [1, 'female', 18, 1, 0, 227.525, 'Cherbourg'], [1, 'female', 19, 1, 0, 91.0792, 'Cherbourg'], [3, 'male', 20, 1, 1, 15.7417, 'Cherbourg'], [3, 'male', 20, 0, 0, 7.2292, 'Cherbourg'], [1, 'female', 21, 2, 2, 262.375, 'Cherbourg'], [1, 'female', 22, 0, 2, 49.5, 'Cherbourg'], [3, 'male', 22, 0, 0, 7.225, 'Cherbourg'], [2, 'female', 22, 1, 2, 41.5792, 'Cherbourg'], [1, 'male', 23, 0, 1, 63.3583, 'Cherbourg'], [1, 'female', 23, 1, 0, 113.275, 'Cherbourg'], [2, 'female', 23, 0, 0, 13.7917, 'Cherbourg'], [1, 'female', 24, 0, 0, 83.1583, 'Cherbourg'], [1, 'female', 24, 0, 0, 69.3, 'Cherbourg'], [1, 'female', 24, 0, 0, 69.3, 'Cherbourg'], [1, 'female', 24, 0, 0, 49.5042, 'Cherbourg'], [3, 'female', 24, 0, 3, 19.2583, 'Cherbourg'], [1, 'male', 25, 1, 0, 55.4417, 'Cherbourg'], [1, 'male', 25, 1, 0, 91.0792, 'Cherbourg'], [3, 'male', 26, 0, 0, 18.7875, 'Cherbourg'], [1, 'male', 26, 0, 0, 30, 'Cherbourg'], [1, 'male', 27, 0, 0, 76.7292, 'Cherbourg'], [2, 'female', 27, 1, 0, 13.8583, 'Cherbourg'], [2, 'female', 28, 1, 0, 24, 'Cherbourg'], [3, 'female', 29, 0, 2, 15.2458, 'Cherbourg'], [3, 'male', 29, 0, 0, 7.8958, 'Cherbourg'], [1, 'female', 30, 0, 0, 56.9292, 'Cherbourg'], [1, 'female', 30, 0, 0, 106.425, 'Cherbourg'], [1, 'female', 30, 0, 0, 31, 'Cherbourg'], [1, 'female', 31, 1, 0, 113.275, 'Cherbourg'], [1, 'female', 32, 0, 0, 76.2917, 'Cherbourg'], [1, 'male', 32, 0, 0, 30.5, 'Cherbourg'], [1, 'female', 35, 0, 0, 512.3292, 'Cherbourg'], [1, 'male', 35, 0, 0, 26.55, 'Cherbourg'], [1, 'male', 35, 0, 0, 512.3292, 'Cherbourg'], [1, 'female', 36, 0, 0, 135.6333, 'Cherbourg'], [1, 'male', 36, 0, 1, 512.3292, 'Cherbourg'], [1, 'female', 38, 1, 0, 71.2833, 'Cherbourg'], [1, 'female', 38, 0, 0, 227.525, 'Cherbourg'], [1, 'female', 39, 1, 1, 110.8833, 'Cherbourg'], [1, 'female', 39, 1, 1, 83.1583, 'Cherbourg'], [1, 'male', 40, 0, 0, 31, 'Cherbourg'], [1, 'female', 40, 1, 1, 134.5, 'Cherbourg'], [1, 'female', 41, 0, 0, 134.5, 'Cherbourg'], [1, 'female', 42, 0, 0, 227.525, 'Cherbourg'], [1, 'female', 44, 0, 0, 27.7208, 'Cherbourg'], [1, 'female', 44, 0, 1, 57.9792, 'Cherbourg'], [1, 'female', 48, 1, 0, 39.6, 'Cherbourg'], [1, 'male', 48, 1, 0, 76.7292, 'Cherbourg'], [1, 'female', 49, 1, 0, 76.7292, 'Cherbourg'], [1, 'male', 49, 1, 0, 89.1042, 'Cherbourg'], [1, 'male', 49, 1, 0, 56.9292, 'Cherbourg'], [1, 'female', 50, 0, 1, 247.5208, 'Cherbourg'], [1, 'female', 52, 1, 0, 78.2667, 'Cherbourg'], [1, 'female', 54, 1, 0, 78.2667, 'Cherbourg'], [1, 'female', 54, 1, 0, 59.4, 'Cherbourg'], [1, 'male', 56, 0, 0, 35.5, 'Cherbourg'], [1, 'female', 56, 0, 1, 83.1583, 'Cherbourg'], [1, 'female', 58, 0, 0, 146.5208, 'Cherbourg'], [1, 'female', 60, 1, 0, 75.25, 'Cherbourg'], [1, 'male', 60, 1, 1, 79.2, 'Cherbourg'], [3, 'female', 15, 0, 0, 8.0292, 'Queenstwn'], [3, 'female', 16, 0, 0, 7.7333, 'Queenstwn'], [3, 'female', 16, 0, 0, 7.75, 'Queenstwn'], [3, 'female', 19, 0, 0, 7.8792, 'Queenstwn'], [3, 'female', 22, 0, 0, 7.75, 'Queenstwn'], [3, 'male', 29, 0, 0, 7.75, 'Queenstwn'], [2, 'female', 30, 0, 0, 12.35, 'Queenstwn'], [1, 'female', 33, 1, 0, 90, 'Queenstwn'], [2, 'male', 0.67, 1, 1, 14.5, 'Southampt'], [2, 'male', 0.83, 0, 2, 29, 'Southampt'], [2, 'male', 0.83, 1, 1, 18.75, 'Southampt'], [1, 'male', 0.92, 1, 2, 151.55, 'Southampt'], [3, 'female', 1, 1, 1, 11.1333, 'Southampt'], [2, 'male', 1, 2, 1, 39, 'Southampt'], [3, 'male', 1, 1, 2, 20.575, 'Southampt'], [2, 'male', 2, 1, 1, 26, 'Southampt'], [3, 'female', 2, 0, 1, 12.2875, 'Southampt'], [2, 'female', 2, 1, 1, 26, 'Southampt'], [2, 'male', 3, 1, 1, 26, 'Southampt'], [3, 'male', 3, 4, 2, 31.3875, 'Southampt'], [3, 'male', 3, 1, 1, 15.9, 'Southampt'], [2, 'male', 3, 1, 1, 18.75, 'Southampt'], [3, 'female', 4, 1, 1, 16.7, 'Southampt'], [3, 'female', 4, 0, 2, 22.025, 'Southampt'], [1, 'male', 4, 0, 2, 81.8583, 'Southampt'], [2, 'female', 4, 2, 1, 39, 'Southampt'], [2, 'female', 4, 1, 1, 23, 'Southampt'], [3, 'male', 4, 1, 1, 11.1333, 'Southampt'], [2, 'female', 5, 1, 2, 27.75, 'Southampt'], [3, 'female', 5, 4, 2, 31.3875, 'Southampt'], [3, 'female', 5, 0, 0, 12.475, 'Southampt'], [2, 'female', 6, 0, 1, 33, 'Southampt'], [3, 'male', 6, 0, 1, 12.475, 'Southampt'], [2, 'female', 7, 0, 2, 26.25, 'Southampt'], [2, 'female', 8, 0, 2, 26.25, 'Southampt'], [2, 'male', 8, 1, 1, 36.75, 'Southampt'], [3, 'male', 9, 0, 2, 20.525, 'Southampt'], [3, 'male', 9, 1, 1, 15.9, 'Southampt'], [1, 'male', 11, 1, 2, 120, 'Southampt'], [2, 'female', 13, 0, 1, 19.5, 'Southampt'], [1, 'female', 14, 1, 2, 120, 'Southampt'], [1, 'female', 15, 0, 1, 211.3375, 'Southampt'], [3, 'male', 16, 0, 0, 8.05, 'Southampt'], [1, 'female', 16, 0, 0, 86.5, 'Southampt'], [1, 'female', 16, 0, 1, 39.4, 'Southampt'], [3, 'female', 17, 4, 2, 7.925, 'Southampt'], [2, 'female', 17, 0, 0, 10.5, 'Southampt'], [1, 'female', 17, 1, 0, 57, 'Southampt'], [3, 'male', 18, 0, 0, 8.05, 'Southampt'], [2, 'female', 18, 0, 2, 13, 'Southampt'], [1, 'female', 18, 0, 2, 79.65, 'Southampt'], [2, 'female', 18, 0, 1, 23, 'Southampt'], [3, 'female', 18, 0, 0, 9.8417, 'Southampt'], [3, 'female', 18, 0, 0, 7.4958, 'Southampt'], [3, 'female', 18, 0, 1, 9.35, 'Southampt'], [1, 'female', 19, 0, 2, 26.2833, 'Southampt'], [3, 'female', 19, 1, 0, 7.8542, 'Southampt'], [2, 'male', 19, 0, 0, 10.5, 'Southampt'], [3, 'male', 19, 0, 0, 8.05, 'Southampt'], [2, 'female', 19, 0, 0, 26, 'Southampt'], [2, 'female', 19, 1, 0, 26, 'Southampt'], [1, 'female', 19, 0, 0, 30, 'Southampt'], [3, 'male', 20, 1, 0, 7.925, 'Southampt'], [2, 'female', 21, 0, 0, 10.5, 'Southampt'], [3, 'female', 21, 0, 0, 7.65, 'Southampt'], [3, 'male', 21, 0, 0, 7.7958, 'Southampt'], [1, 'female', 21, 0, 0, 77.9583, 'Southampt'], [3, 'female', 22, 0, 0, 7.75, 'Southampt'], [1, 'female', 22, 1, 0, 66.6, 'Southampt'], [2, 'female', 22, 1, 1, 29, 'Southampt'], [1, 'female', 22, 0, 1, 55, 'Southampt'], [3, 'female', 22, 0, 0, 7.25, 'Southampt'], [3, 'female', 22, 0, 0, 7.775, 'Southampt'], [1, 'female', 22, 0, 0, 151.55, 'Southampt'], [1, 'female', 23, 3, 2, 263, 'Southampt'], [3, 'female', 23, 0, 0, 7.55, 'Southampt'], [3, 'male', 24, 0, 0, 7.1417, 'Southampt'], [3, 'female', 24, 1, 0, 15.85, 'Southampt'], [2, 'female', 24, 0, 2, 14.5, 'Southampt'], [2, 'female', 24, 1, 0, 26, 'Southampt'], [1, 'female', 24, 3, 2, 263, 'Southampt'], [2, 'female', 24, 0, 0, 13, 'Southampt'], [3, 'female', 24, 0, 2, 16.7, 'Southampt'], [2, 'female', 24, 2, 3, 18.75, 'Southampt'], [2, 'female', 24, 2, 1, 27, 'Southampt'], [2, 'female', 24, 1, 2, 65, 'Southampt'], [3, 'male', 25, 1, 0, 7.775, 'Southampt'], [3, 'male', 25, 0, 0, 0, 'Southampt'], [2, 'female', 25, 1, 1, 30, 'Southampt'], [2, 'female', 25, 0, 1, 26, 'Southampt'], [3, 'female', 26, 0, 0, 7.925, 'Southampt'], [1, 'female', 26, 0, 0, 78.85, 'Southampt'], [3, 'female', 26, 0, 0, 7.8542, 'Southampt'], [3, 'male', 26, 0, 0, 56.4958, 'Southampt'], [3, 'female', 27, 0, 2, 11.1333, 'Southampt'], [3, 'male', 27, 0, 0, 7.7958, 'Southampt'], [3, 'female', 27, 0, 0, 7.925, 'Southampt'], [1, 'male', 27, 0, 0, 30.5, 'Southampt'], [2, 'female', 27, 0, 0, 10.5, 'Southampt'], [1, 'male', 27, 1, 0, 53.1, 'Southampt'], [3, 'male', 27, 0, 0, 6.975, 'Southampt'], [3, 'male', 27, 0, 0, 8.6625, 'Southampt'], [3, 'female', 27, 0, 1, 12.475, 'Southampt'], [1, 'male', 28, 0, 0, 35.5, 'Southampt'], [2, 'female', 28, 0, 0, 12.65, 'Southampt'], [2, 'female', 28, 1, 0, 26, 'Southampt'], [1, 'male', 28, 0, 0, 26.55, 'Southampt'], [2, 'female', 28, 0, 0, 13, 'Southampt'], [2, 'female', 28, 0, 0, 13, 'Southampt'], [2, 'female', 29, 1, 0, 26, 'Southampt'], [2, 'female', 29, 0, 0, 10.5, 'Southampt'], [3, 'male', 29, 0, 0, 9.5, 'Southampt'], [2, 'female', 29, 1, 0, 26, 'Southampt'], [1, 'female', 29, 0, 0, 211.3375, 'Southampt'], [3, 'female', 30, 0, 0, 12.475, 'Southampt'], [1, 'female', 30, 0, 0, 86.5, 'Southampt'], [3, 'male', 30, 0, 0, 9.5, 'Southampt'], [1, 'female', 30, 0, 0, 93.5, 'Southampt'], [2, 'female', 30, 3, 0, 21, 'Southampt'], [2, 'female', 30, 0, 0, 13, 'Southampt'], [1, 'female', 31, 0, 2, 164.8667, 'Southampt'], [3, 'female', 31, 1, 1, 20.525, 'Southampt'], [2, 'male', 31, 0, 0, 13, 'Southampt'], [1, 'male', 31, 1, 0, 57, 'Southampt'], [3, 'male', 31, 0, 0, 7.925, 'Southampt'], [3, 'female', 31, 0, 0, 8.6833, 'Southampt'], [2, 'female', 31, 1, 1, 26.25, 'Southampt'], [3, 'male', 32, 0, 0, 56.4958, 'Southampt'], [2, 'female', 32, 0, 0, 13, 'Southampt'], [3, 'male', 32, 0, 0, 8.05, 'Southampt'], [2, 'male', 32, 1, 0, 26, 'Southampt'], [3, 'male', 32, 0, 0, 7.8542, 'Southampt'], [3, 'male', 32, 0, 0, 7.925, 'Southampt'], [3, 'male', 32, 0, 0, 56.4958, 'Southampt'], [2, 'female', 32.5, 0, 0, 13, 'Southampt'], [3, 'female', 33, 3, 0, 15.85, 'Southampt'], [2, 'female', 33, 1, 2, 27.75, 'Southampt'], [2, 'female', 33, 0, 2, 26, 'Southampt'], [1, 'female', 33, 0, 0, 86.5, 'Southampt'], [1, 'female', 33, 1, 0, 53.1, 'Southampt'], [2, 'male', 34, 0, 0, 13, 'Southampt'], [2, 'female', 34, 0, 1, 23, 'Southampt'], [2, 'female', 34, 1, 1, 32.5, 'Southampt'], [1, 'male', 34, 0, 0, 26.55, 'Southampt'], [2, 'female', 34, 0, 0, 10.5, 'Southampt'], [2, 'female', 34, 0, 0, 13, 'Southampt'], [1, 'female', 35, 1, 0, 53.1, 'Southampt'], [2, 'female', 35, 0, 0, 21, 'Southampt'], [1, 'female', 35, 1, 0, 83.475, 'Southampt'], [1, 'female', 35, 0, 0, 135.6333, 'Southampt'], [3, 'female', 35, 1, 1, 20.25, 'Southampt'], [1, 'female', 35, 1, 0, 52, 'Southampt'], [1, 'female', 35, 1, 0, 90, 'Southampt'], [1, 'male', 35, 0, 0, 26.2875, 'Southampt'], [2, 'female', 36, 0, 0, 13, 'Southampt'], [2, 'female', 36, 0, 0, 13, 'Southampt'], [1, 'male', 36, 1, 2, 120, 'Southampt'], [1, 'male', 36, 0, 0, 26.2875, 'Southampt'], [2, 'female', 36, 1, 0, 26, 'Southampt'], [1, 'female', 36, 0, 2, 71, 'Southampt'], [3, 'female', 36, 1, 0, 17.4, 'Southampt'], [1, 'male', 36, 0, 0, 26.3875, 'Southampt'], [1, 'female', 36, 1, 2, 120, 'Southampt'], [1, 'male', 37, 1, 1, 52.5542, 'Southampt'], [3, 'female', 38, 1, 5, 31.3875, 'Southampt'], [1, 'male', 38, 1, 0, 90, 'Southampt'], [3, 'male', 39, 0, 0, 7.925, 'Southampt'], [1, 'female', 39, 1, 1, 79.65, 'Southampt'], [1, 'female', 39, 1, 0, 55.9, 'Southampt'], [2, 'female', 40, 0, 0, 15.75, 'Southampt'], [2, 'female', 40, 0, 0, 13, 'Southampt'], [1, 'female', 40, 0, 0, 153.4625, 'Southampt'], [2, 'female', 40, 1, 1, 39, 'Southampt'], [2, 'female', 41, 0, 1, 19.5, 'Southampt'], [2, 'male', 42, 0, 0, 13, 'Southampt'], [2, 'female', 42, 1, 0, 26, 'Southampt'], [1, 'male', 42, 1, 0, 52.5542, 'Southampt'], [1, 'male', 42, 0, 0, 26.2875, 'Southampt'], [2, 'female', 42, 0, 0, 13, 'Southampt'], [1, 'female', 43, 0, 1, 211.3375, 'Southampt'], [3, 'male', 44, 0, 0, 7.925, 'Southampt'], [1, 'male', 45, 0, 0, 26.55, 'Southampt'], [3, 'male', 45, 0, 0, 8.05, 'Southampt'], [2, 'female', 45, 1, 1, 26.25, 'Southampt'], [2, 'female', 45, 0, 0, 13.5, 'Southampt'], [1, 'female', 45, 1, 1, 164.8667, 'Southampt'], [1, 'female', 47, 1, 1, 52.5542, 'Southampt'], [1, 'male', 48, 0, 0, 26.55, 'Southampt'], [1, 'male', 48, 1, 0, 52, 'Southampt'], [2, 'female', 48, 1, 2, 65, 'Southampt'], [1, 'female', 48, 0, 0, 25.9292, 'Southampt'], [1, 'female', 49, 0, 0, 25.9292, 'Southampt'], [2, 'female', 50, 0, 1, 26, 'Southampt'], [2, 'female', 50, 0, 0, 10.5, 'Southampt'], [2, 'female', 50, 0, 0, 10.5, 'Southampt'], [1, 'male', 50, 2, 0, 133.65, 'Southampt'], [1, 'female', 51, 1, 0, 77.9583, 'Southampt'], [1, 'male', 51, 0, 0, 26.55, 'Southampt'], [1, 'male', 52, 0, 0, 30.5, 'Southampt'], [1, 'female', 52, 1, 1, 93.5, 'Southampt'], [1, 'female', 53, 2, 0, 51.4792, 'Southampt'], [2, 'female', 54, 1, 3, 23, 'Southampt'], [2, 'female', 55, 0, 0, 16, 'Southampt'], [1, 'female', 58, 0, 0, 26.55, 'Southampt'], [1, 'female', 58, 0, 1, 153.4625, 'Southampt'], [2, 'male', 62, 0, 0, 10.5, 'Southampt'], [1, 'female', 63, 1, 0, 77.9583, 'Southampt'], [3, 'female', 63, 0, 0, 9.5875, 'Southampt'], [1, 'male', 80, 0, 0, 30, 'Southampt']]\n"
     ]
    }
   ],
   "source": [
    "import csv\n",
    "import json\n",
    "import requests\n",
    "\n",
    "url = \"https://raw.githubusercontent.com/IBM/taxinomitis/master/resources/datasets/numbers/titanic.json\"\n",
    "data = requests.get(url).text\n",
    "data1 = json.loads(data)\n",
    "# print(data1)\n",
    "\n",
    "b = []\n",
    "for i in data1['metadata']['fields']:\n",
    "    print(i.get('name'))\n",
    "    b.append(i.get('name'))\n",
    "print(b)\n",
    "\n",
    "a = []\n",
    "for i in data1['data']['survived']:\n",
    "#     print(i)\n",
    "    a.append([i[0], i[1], i[2], i[3], i[4], i[5], i[6]])\n",
    "print(a)\n",
    "\n",
    "file = open('csv/20210518_titanic.csv', 'w', encoding='utf-8', newline='')\n",
    "wr = csv.writer(file)\n",
    "wr.writerow(b)\n",
    "\n",
    "for i in a:\n",
    "    wr.writerow(i)\n",
    "    \n",
    "file.close()\n"
   ]
  }
 ],
 "metadata": {
  "kernelspec": {
   "display_name": "Python 3",
   "language": "python",
   "name": "python3"
  },
  "language_info": {
   "codemirror_mode": {
    "name": "ipython",
    "version": 3
   },
   "file_extension": ".py",
   "mimetype": "text/x-python",
   "name": "python",
   "nbconvert_exporter": "python",
   "pygments_lexer": "ipython3",
   "version": "3.8.8"
  }
 },
 "nbformat": 4,
 "nbformat_minor": 5
}
