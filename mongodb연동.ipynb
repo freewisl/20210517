{
 "cells": [
  {
   "cell_type": "code",
   "execution_count": 1,
   "id": "82edcc94-d1f0-405f-a8a8-cc17885628a4",
   "metadata": {},
   "outputs": [
    {
     "name": "stdout",
     "output_type": "stream",
     "text": [
      "Requirement already satisfied: pymongo in c:\\programdata\\anaconda3\\lib\\site-packages (3.11.4)Note: you may need to restart the kernel to use updated packages.\n",
      "\n"
     ]
    }
   ],
   "source": [
    "pip install pymongo"
   ]
  },
  {
   "cell_type": "code",
   "execution_count": 3,
   "id": "e99a1296-737c-4b78-9de1-60f98e63fc2b",
   "metadata": {},
   "outputs": [
    {
     "name": "stdout",
     "output_type": "stream",
     "text": [
      "정상수행\n",
      "오류와 상관없이 수행\n"
     ]
    }
   ],
   "source": [
    "import pymongo\n",
    "\n",
    "try:\n",
    "    username = \"id120\"\n",
    "    password = \"pw120\"\n",
    "    host = \"1.234.5.158\"\n",
    "    port = 37017\n",
    "    dbname = \"id120\"\n",
    "    \n",
    "    # mongodb 접속\n",
    "    conn= pymongo.MongoClient(f'mongodb://{username}:{password}@{host}:{port}/{dbname}')\n",
    "    db = conn.get_database(dbname) #db선택\n",
    "    collection = db.get_collection(\"ex1_20210520\") #collection == table과 비슷함\n",
    "    \n",
    "    # 딕셔너리 타입으로\n",
    "    data = {\"id\":\"aaa\", \"name\":\"가나다\", \"age\":12}\n",
    "    \n",
    "    # 1개 추가하기\n",
    "    collection.insert_one(data)\n",
    "    \n",
    "    # 여러개\n",
    "    data1 = [{\"id\":\"aaa\", \"name\":\"가다라\", \"age\":22}, {\"id\":\"aaa\", \"name\":\"다라마\", \"age\":32}, {\"id\":\"aaa\", \"name\":\"바사아\", \"age\":42}]\n",
    "    \n",
    "    # 여러개 추가하기\n",
    "    collection.insert_many(data1)\n",
    "    \n",
    "    print('정상수행')\n",
    "except Exception as e:\n",
    "    print(e)\n",
    "    print('오류발생시 수행')\n",
    "finally:\n",
    "    conn.close()\n",
    "    print('오류와 상관없이 수행')"
   ]
  },
  {
   "cell_type": "code",
   "execution_count": 4,
   "id": "22b5f0ae-1664-43f3-bc57-641d0376ad5b",
   "metadata": {},
   "outputs": [
    {
     "name": "stdout",
     "output_type": "stream",
     "text": [
      "{'id': 'aaa', 'name': '가다라', 'age': 22} <class 'dict'>\n",
      "{'id': 'aaa', 'name': '다라마', 'age': 32} <class 'dict'>\n",
      "{'id': 'aaa', 'name': '바사아', 'age': 42} <class 'dict'>\n",
      "{'id': 'aaa', 'name': '가나다', 'age': 12} <class 'dict'>\n",
      "{'id': 'aaa', 'name': '가다라', 'age': 22} <class 'dict'>\n",
      "{'id': 'aaa', 'name': '다라마', 'age': 32} <class 'dict'>\n",
      "{'id': 'aaa', 'name': '바사아', 'age': 42} <class 'dict'>\n",
      "{'id': 'aaa', 'name': '가나다', 'age': 12} <class 'dict'>\n",
      "{'id': 'aaa', 'name': '가다라', 'age': 22} <class 'dict'>\n",
      "{'id': 'aaa', 'name': '다라마', 'age': 32} <class 'dict'>\n",
      "{'id': 'aaa', 'name': '바사아', 'age': 42} <class 'dict'>\n",
      "{'id': 'aaa', 'name': '가나다', 'age': 12} <class 'dict'>\n",
      "{'id': 'aaa', 'name': '가다라', 'age': 22} <class 'dict'>\n",
      "{'id': 'aaa', 'name': '다라마', 'age': 32} <class 'dict'>\n",
      "{'id': 'aaa', 'name': '바사아', 'age': 42} <class 'dict'>\n",
      "{'id': 'aaa', 'name': '가나다', 'age': 12} <class 'dict'>\n",
      "{'id': 'aaa', 'name': '가다라', 'age': 22} <class 'dict'>\n",
      "{'id': 'aaa', 'name': '다라마', 'age': 32} <class 'dict'>\n",
      "{'id': 'aaa', 'name': '바사아', 'age': 42} <class 'dict'>\n",
      "{'id': 'aaa', 'name': '가나다', 'age': 12} <class 'dict'>\n",
      "{'id': 'aaa', 'name': '가다라', 'age': 22} <class 'dict'>\n",
      "{'id': 'aaa', 'name': '다라마', 'age': 32} <class 'dict'>\n",
      "{'id': 'aaa', 'name': '바사아', 'age': 42} <class 'dict'>\n",
      "{'id': 'aaa', 'name': '가나다', 'age': 12} <class 'dict'>\n",
      "{'id': 'aaa', 'name': '가다라', 'age': 22} <class 'dict'>\n",
      "{'id': 'aaa', 'name': '다라마', 'age': 32} <class 'dict'>\n",
      "{'id': 'aaa', 'name': '바사아', 'age': 42} <class 'dict'>\n",
      "{'id': 'aaa', 'name': '가나다', 'age': 12} <class 'dict'>\n",
      "{'id': 'aaa', 'name': '가다라', 'age': 22} <class 'dict'>\n",
      "{'id': 'aaa', 'name': '다라마', 'age': 32} <class 'dict'>\n",
      "{'id': 'aaa', 'name': '바사아', 'age': 42} <class 'dict'>\n",
      "{'id': 'aaa', 'name': '가나다', 'age': 12} <class 'dict'>\n",
      "{'id': 'aaa', 'name': '가다라', 'age': 22} <class 'dict'>\n",
      "{'id': 'aaa', 'name': '다라마', 'age': 32} <class 'dict'>\n",
      "{'id': 'aaa', 'name': '바사아', 'age': 42} <class 'dict'>\n",
      "{'id': 'aaa', 'name': '가나다', 'age': 12} <class 'dict'>\n",
      "{'id': 'aaa', 'name': '가다라', 'age': 22} <class 'dict'>\n",
      "{'id': 'aaa', 'name': '다라마', 'age': 32} <class 'dict'>\n",
      "{'id': 'aaa', 'name': '바사아', 'age': 42} <class 'dict'>\n"
     ]
    }
   ],
   "source": [
    "# mongodb에서 가져오기\n",
    "# db.ex1_20210520.find({})\n",
    "\n",
    "data2 = collection.find({},{'_id':0})\n",
    "for tmp in data2:\n",
    "    print(tmp, type(tmp))"
   ]
  },
  {
   "cell_type": "code",
   "execution_count": 5,
   "id": "d9ecdc18-2655-4f70-9405-40bb05cfa484",
   "metadata": {},
   "outputs": [
    {
     "name": "stdout",
     "output_type": "stream",
     "text": [
      "{'id': 'aaa', 'name': '바사아', 'age': 42} <class 'dict'>\n",
      "{'id': 'aaa', 'name': '바사아', 'age': 42} <class 'dict'>\n",
      "{'id': 'aaa', 'name': '바사아', 'age': 42} <class 'dict'>\n"
     ]
    }
   ],
   "source": [
    "# 정렬해서 가져오기 나이순대로 내림차순\n",
    "data3 = collection.find({},{'_id':0}).sort([(\"age\", pymongo.DESCENDING)]).limit(3)\n",
    "for tmp in data3:\n",
    "    print(tmp, type(tmp))"
   ]
  },
  {
   "cell_type": "code",
   "execution_count": 38,
   "id": "117e860a-f122-4d76-a5b7-408db697816c",
   "metadata": {},
   "outputs": [
    {
     "name": "stdout",
     "output_type": "stream",
     "text": [
      "{'id': 'aaa', 'name': '가나다', 'age': 12} <class 'dict'>\n",
      "{'id': 'aaa', 'name': '가다라', 'age': 22} <class 'dict'>\n",
      "{'id': 'aaa', 'name': '다라마', 'age': 32} <class 'dict'>\n",
      "{'id': 'aaa', 'name': '바사아', 'age': 42} <class 'dict'>\n",
      "{'id': 'aaa', 'name': '가나다', 'age': 12} <class 'dict'>\n",
      "{'id': 'aaa', 'name': '가다라', 'age': 22} <class 'dict'>\n",
      "{'id': 'aaa', 'name': '다라마', 'age': 32} <class 'dict'>\n",
      "{'id': 'aaa', 'name': '바사아', 'age': 42} <class 'dict'>\n",
      "{'id': 'aaa', 'name': '가나다', 'age': 12} <class 'dict'>\n",
      "{'id': 'aaa', 'name': '가다라', 'age': 22} <class 'dict'>\n",
      "{'id': 'aaa', 'name': '다라마', 'age': 32} <class 'dict'>\n",
      "{'id': 'aaa', 'name': '바사아', 'age': 42} <class 'dict'>\n",
      "{'id': 'aaa', 'name': '가나다', 'age': 12} <class 'dict'>\n",
      "{'id': 'aaa', 'name': '가다라', 'age': 22} <class 'dict'>\n",
      "{'id': 'aaa', 'name': '다라마', 'age': 32} <class 'dict'>\n",
      "{'id': 'aaa', 'name': '바사아', 'age': 42} <class 'dict'>\n",
      "{'id': 'aaa', 'name': '가나다', 'age': 12} <class 'dict'>\n",
      "{'id': 'aaa', 'name': '가다라', 'age': 22} <class 'dict'>\n",
      "{'id': 'aaa', 'name': '다라마', 'age': 32} <class 'dict'>\n",
      "{'id': 'aaa', 'name': '바사아', 'age': 42} <class 'dict'>\n",
      "{'id': 'aaa', 'name': '가나다', 'age': 12} <class 'dict'>\n",
      "{'id': 'aaa', 'name': '가다라', 'age': 22} <class 'dict'>\n",
      "{'id': 'aaa', 'name': '다라마', 'age': 32} <class 'dict'>\n",
      "{'id': 'aaa', 'name': '바사아', 'age': 42} <class 'dict'>\n",
      "{'id': 'aaa', 'name': '가나다', 'age': 12} <class 'dict'>\n",
      "{'id': 'aaa', 'name': '가다라', 'age': 22} <class 'dict'>\n",
      "{'id': 'aaa', 'name': '다라마', 'age': 32} <class 'dict'>\n",
      "{'id': 'aaa', 'name': '바사아', 'age': 42} <class 'dict'>\n",
      "{'id': 'aaa', 'name': '가나다', 'age': 12} <class 'dict'>\n",
      "{'id': 'aaa', 'name': '가다라', 'age': 22} <class 'dict'>\n",
      "{'id': 'aaa', 'name': '다라마', 'age': 32} <class 'dict'>\n",
      "{'id': 'aaa', 'name': '바사아', 'age': 42} <class 'dict'>\n",
      "{'id': 'aaa', 'name': '가나다', 'age': 12} <class 'dict'>\n",
      "{'id': 'aaa', 'name': '가다라', 'age': 22} <class 'dict'>\n",
      "{'id': 'aaa', 'name': '다라마', 'age': 32} <class 'dict'>\n",
      "{'id': 'aaa', 'name': '바사아', 'age': 42} <class 'dict'>\n"
     ]
    }
   ],
   "source": [
    "# id가 bbb인 것 가져오기\n",
    "data = collection.find({'id':'aaa'},{'_id':0})\n",
    "for tmp in data:\n",
    "    print(tmp, type(tmp))"
   ]
  },
  {
   "cell_type": "code",
   "execution_count": 9,
   "id": "1aa574de-cb30-4e9a-8573-f9bdf4ea95d4",
   "metadata": {},
   "outputs": [
    {
     "name": "stdout",
     "output_type": "stream",
     "text": [
      "{'id': 'aaa', 'name': '바사아', 'age': 42} <class 'dict'>\n",
      "{'id': 'aaa', 'name': '바사아', 'age': 42} <class 'dict'>\n",
      "{'id': 'aaa', 'name': '바사아', 'age': 42} <class 'dict'>\n",
      "{'id': 'aaa', 'name': '바사아', 'age': 42} <class 'dict'>\n",
      "{'id': 'aaa', 'name': '바사아', 'age': 42} <class 'dict'>\n",
      "{'id': 'aaa', 'name': '바사아', 'age': 42} <class 'dict'>\n",
      "{'id': 'aaa', 'name': '바사아', 'age': 42} <class 'dict'>\n",
      "{'id': 'aaa', 'name': '바사아', 'age': 42} <class 'dict'>\n",
      "{'id': 'aaa', 'name': '바사아', 'age': 42} <class 'dict'>\n",
      "{'id': 'aaa', 'name': '바사아', 'age': 42} <class 'dict'>\n"
     ]
    }
   ],
   "source": [
    "#  $eq  (equals) 주어진 값과 일치하는 값 \n",
    "#  $gt  (greater than) 주어진 값보다 큰 값 \n",
    "#  $gte  (greater than or equals) 주어진 값보다 크거나 같은 값 \n",
    "#  $lt  (less than) 주어진 값보다 작은 값 \n",
    "#  $lte  (less then or equals) 주어진 값보다 작거나 같은 값 \n",
    "#  $ne  (not equlas) 주어진 값과 일치하지 않는 값 \n",
    "#  $in  (in) 주어진 배열 안에 속하는 값\n",
    "#  $nin  (not in) 주어진 배열 안에 속하지 않는 값 \n",
    "#  $eq  (equals) 주어진 값과 일치하는 값 \n",
    "#  $gt  (greater than) 주어진 값보다 큰 값 \n",
    "#  $gte  (greater than or equals) 주어진 값보다 크거나 같은 값 \n",
    "#  $lt  (less than) 주어진 값보다 작은 값 \n",
    "#  $lte  (less then or equals) 주어진 값보다 작거나 같은 값 \n",
    "#  $ne  (not equlas) 주어진 값과 일치하지 않는 값 \n",
    "#  $in  (in) 주어진 배열 안에 속하는 값\n",
    "#  $nin  (not in) 주어진 배열 안에 속하지 않는 값 \n",
    "\n",
    "# age가 40보다 큰것 가져오기\n",
    "data = collection.find({'age':{'$gte':42}},{'_id':0})\n",
    "for tmp in data:\n",
    "    print(tmp, type(tmp))"
   ]
  },
  {
   "cell_type": "code",
   "execution_count": 40,
   "id": "ebd1c1e8-b94d-4cfa-9a9a-390b06bf707a",
   "metadata": {},
   "outputs": [
    {
     "name": "stdout",
     "output_type": "stream",
     "text": [
      "{'id': 'aaa', 'name': '바사아', 'age': 42} <class 'dict'>\n",
      "{'id': 'aaa', 'name': '바사아', 'age': 42} <class 'dict'>\n",
      "{'id': 'aaa', 'name': '바사아', 'age': 42} <class 'dict'>\n",
      "{'id': 'aaa', 'name': '바사아', 'age': 42} <class 'dict'>\n",
      "{'id': 'aaa', 'name': '바사아', 'age': 42} <class 'dict'>\n",
      "{'id': 'aaa', 'name': '바사아', 'age': 42} <class 'dict'>\n",
      "{'id': 'aaa', 'name': '바사아', 'age': 42} <class 'dict'>\n",
      "{'id': 'aaa', 'name': '바사아', 'age': 42} <class 'dict'>\n",
      "{'id': 'aaa', 'name': '바사아', 'age': 42} <class 'dict'>\n"
     ]
    }
   ],
   "source": [
    "# 조건 and\n",
    "data = collection.find({'$and':[{'age':42},{'id':'aaa'}]},{'_id':0})\n",
    "for tmp in data:\n",
    "    print(tmp, type(tmp))"
   ]
  },
  {
   "cell_type": "code",
   "execution_count": 42,
   "id": "d1779b8b-f50e-4657-a750-b794436aac6d",
   "metadata": {},
   "outputs": [
    {
     "name": "stdout",
     "output_type": "stream",
     "text": [
      "{'id': 'aaa', 'name': '바사아', 'age': 42} <class 'dict'>\n",
      "{'id': 'aaa', 'name': '바사아', 'age': 42} <class 'dict'>\n",
      "{'id': 'aaa', 'name': '바사아', 'age': 42} <class 'dict'>\n",
      "{'id': 'aaa', 'name': '바사아', 'age': 42} <class 'dict'>\n",
      "{'id': 'aaa', 'name': '바사아', 'age': 42} <class 'dict'>\n",
      "{'id': 'aaa', 'name': '바사아', 'age': 42} <class 'dict'>\n",
      "{'id': 'aaa', 'name': '바사아', 'age': 42} <class 'dict'>\n",
      "{'id': 'aaa', 'name': '바사아', 'age': 42} <class 'dict'>\n",
      "{'id': 'aaa', 'name': '바사아', 'age': 42} <class 'dict'>\n"
     ]
    }
   ],
   "source": [
    "# 조건 or\n",
    "data = collection.find({'$or':[{'age':42},{'id':'bbb'}]},{'_id':0})\n",
    "for tmp in data:\n",
    "    print(tmp, type(tmp))"
   ]
  },
  {
   "cell_type": "code",
   "execution_count": 44,
   "id": "ff6dc5e9-32f3-4090-bdaf-2f8dc73ae5a8",
   "metadata": {},
   "outputs": [
    {
     "name": "stdout",
     "output_type": "stream",
     "text": [
      "{'id': 'aaa', 'name': '가나다', 'age': 100} <class 'dict'>\n",
      "{'id': 'aaa', 'name': '가다라', 'age': 22} <class 'dict'>\n",
      "{'id': 'aaa', 'name': '다라마', 'age': 32} <class 'dict'>\n",
      "{'id': 'aaa', 'name': '바사아', 'age': 42} <class 'dict'>\n",
      "{'id': 'aaa', 'name': '가나다', 'age': 12} <class 'dict'>\n",
      "{'id': 'aaa', 'name': '가다라', 'age': 22} <class 'dict'>\n",
      "{'id': 'aaa', 'name': '다라마', 'age': 32} <class 'dict'>\n",
      "{'id': 'aaa', 'name': '바사아', 'age': 42} <class 'dict'>\n",
      "{'id': 'aaa', 'name': '가나다', 'age': 12} <class 'dict'>\n",
      "{'id': 'aaa', 'name': '가다라', 'age': 22} <class 'dict'>\n",
      "{'id': 'aaa', 'name': '다라마', 'age': 32} <class 'dict'>\n",
      "{'id': 'aaa', 'name': '바사아', 'age': 42} <class 'dict'>\n",
      "{'id': 'aaa', 'name': '가나다', 'age': 12} <class 'dict'>\n",
      "{'id': 'aaa', 'name': '가다라', 'age': 22} <class 'dict'>\n",
      "{'id': 'aaa', 'name': '다라마', 'age': 32} <class 'dict'>\n",
      "{'id': 'aaa', 'name': '바사아', 'age': 42} <class 'dict'>\n",
      "{'id': 'aaa', 'name': '가나다', 'age': 12} <class 'dict'>\n",
      "{'id': 'aaa', 'name': '가다라', 'age': 22} <class 'dict'>\n",
      "{'id': 'aaa', 'name': '다라마', 'age': 32} <class 'dict'>\n",
      "{'id': 'aaa', 'name': '바사아', 'age': 42} <class 'dict'>\n",
      "{'id': 'aaa', 'name': '가나다', 'age': 12} <class 'dict'>\n",
      "{'id': 'aaa', 'name': '가다라', 'age': 22} <class 'dict'>\n",
      "{'id': 'aaa', 'name': '다라마', 'age': 32} <class 'dict'>\n",
      "{'id': 'aaa', 'name': '바사아', 'age': 42} <class 'dict'>\n",
      "{'id': 'aaa', 'name': '가나다', 'age': 12} <class 'dict'>\n",
      "{'id': 'aaa', 'name': '가다라', 'age': 22} <class 'dict'>\n",
      "{'id': 'aaa', 'name': '다라마', 'age': 32} <class 'dict'>\n",
      "{'id': 'aaa', 'name': '바사아', 'age': 42} <class 'dict'>\n",
      "{'id': 'aaa', 'name': '가나다', 'age': 12} <class 'dict'>\n",
      "{'id': 'aaa', 'name': '가다라', 'age': 22} <class 'dict'>\n",
      "{'id': 'aaa', 'name': '다라마', 'age': 32} <class 'dict'>\n",
      "{'id': 'aaa', 'name': '바사아', 'age': 42} <class 'dict'>\n",
      "{'id': 'aaa', 'name': '가나다', 'age': 12} <class 'dict'>\n",
      "{'id': 'aaa', 'name': '가다라', 'age': 22} <class 'dict'>\n",
      "{'id': 'aaa', 'name': '다라마', 'age': 32} <class 'dict'>\n",
      "{'id': 'aaa', 'name': '바사아', 'age': 42} <class 'dict'>\n"
     ]
    }
   ],
   "source": [
    "# 수정하기 id가 aaa인 사용자의 age를 100으로 변경 (1개만 변경됨)\n",
    "data = collection.update_one({'id':'aaa'}, {'$set' : {'age':100}})\n",
    "# 전체다 변경\n",
    "# data = collection.update_many({'id':'aaa'}, {'$set' : {'age':100}})\n",
    "\n",
    "data = collection.find({'id':'aaa'},{'_id':0})\n",
    "for tmp in data:\n",
    "    print(tmp, type(tmp))"
   ]
  },
  {
   "cell_type": "code",
   "execution_count": 45,
   "id": "dbf35d37-1cd7-4726-8fc9-db45ff8ed843",
   "metadata": {},
   "outputs": [
    {
     "name": "stdout",
     "output_type": "stream",
     "text": [
      "{'id': 'aaa', 'name': '가다라', 'age': 22} <class 'dict'>\n",
      "{'id': 'aaa', 'name': '다라마', 'age': 32} <class 'dict'>\n",
      "{'id': 'aaa', 'name': '바사아', 'age': 42} <class 'dict'>\n",
      "{'id': 'aaa', 'name': '가나다', 'age': 12} <class 'dict'>\n",
      "{'id': 'aaa', 'name': '가다라', 'age': 22} <class 'dict'>\n",
      "{'id': 'aaa', 'name': '다라마', 'age': 32} <class 'dict'>\n",
      "{'id': 'aaa', 'name': '바사아', 'age': 42} <class 'dict'>\n",
      "{'id': 'aaa', 'name': '가나다', 'age': 12} <class 'dict'>\n",
      "{'id': 'aaa', 'name': '가다라', 'age': 22} <class 'dict'>\n",
      "{'id': 'aaa', 'name': '다라마', 'age': 32} <class 'dict'>\n",
      "{'id': 'aaa', 'name': '바사아', 'age': 42} <class 'dict'>\n",
      "{'id': 'aaa', 'name': '가나다', 'age': 12} <class 'dict'>\n",
      "{'id': 'aaa', 'name': '가다라', 'age': 22} <class 'dict'>\n",
      "{'id': 'aaa', 'name': '다라마', 'age': 32} <class 'dict'>\n",
      "{'id': 'aaa', 'name': '바사아', 'age': 42} <class 'dict'>\n",
      "{'id': 'aaa', 'name': '가나다', 'age': 12} <class 'dict'>\n",
      "{'id': 'aaa', 'name': '가다라', 'age': 22} <class 'dict'>\n",
      "{'id': 'aaa', 'name': '다라마', 'age': 32} <class 'dict'>\n",
      "{'id': 'aaa', 'name': '바사아', 'age': 42} <class 'dict'>\n",
      "{'id': 'aaa', 'name': '가나다', 'age': 12} <class 'dict'>\n",
      "{'id': 'aaa', 'name': '가다라', 'age': 22} <class 'dict'>\n",
      "{'id': 'aaa', 'name': '다라마', 'age': 32} <class 'dict'>\n",
      "{'id': 'aaa', 'name': '바사아', 'age': 42} <class 'dict'>\n",
      "{'id': 'aaa', 'name': '가나다', 'age': 12} <class 'dict'>\n",
      "{'id': 'aaa', 'name': '가다라', 'age': 22} <class 'dict'>\n",
      "{'id': 'aaa', 'name': '다라마', 'age': 32} <class 'dict'>\n",
      "{'id': 'aaa', 'name': '바사아', 'age': 42} <class 'dict'>\n",
      "{'id': 'aaa', 'name': '가나다', 'age': 12} <class 'dict'>\n",
      "{'id': 'aaa', 'name': '가다라', 'age': 22} <class 'dict'>\n",
      "{'id': 'aaa', 'name': '다라마', 'age': 32} <class 'dict'>\n",
      "{'id': 'aaa', 'name': '바사아', 'age': 42} <class 'dict'>\n",
      "{'id': 'aaa', 'name': '가나다', 'age': 12} <class 'dict'>\n",
      "{'id': 'aaa', 'name': '가다라', 'age': 22} <class 'dict'>\n",
      "{'id': 'aaa', 'name': '다라마', 'age': 32} <class 'dict'>\n",
      "{'id': 'aaa', 'name': '바사아', 'age': 42} <class 'dict'>\n"
     ]
    }
   ],
   "source": [
    "# 삭제 하기 id가 aaa인 1개\n",
    "data = collection.delete_one({'id':'aaa'})\n",
    "# 전체 삭제\n",
    "#data = collection.delete_many({'id':'aaa'})\n",
    "\n",
    "data = collection.find({'id':'aaa'},{'_id':0})\n",
    "for tmp in data:\n",
    "    print(tmp, type(tmp))"
   ]
  }
 ],
 "metadata": {
  "kernelspec": {
   "display_name": "Python 3",
   "language": "python",
   "name": "python3"
  },
  "language_info": {
   "codemirror_mode": {
    "name": "ipython",
    "version": 3
   },
   "file_extension": ".py",
   "mimetype": "text/x-python",
   "name": "python",
   "nbconvert_exporter": "python",
   "pygments_lexer": "ipython3",
   "version": "3.8.8"
  }
 },
 "nbformat": 4,
 "nbformat_minor": 5
}
