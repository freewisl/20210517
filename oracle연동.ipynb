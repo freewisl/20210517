{
 "cells": [
  {
   "cell_type": "code",
   "execution_count": 1,
   "id": "645bda30-2dfe-4d43-9a35-efa42a198f0a",
   "metadata": {},
   "outputs": [
    {
     "name": "stdout",
     "output_type": "stream",
     "text": [
      "Requirement already satisfied: cx_oracle in c:\\programdata\\anaconda3\\lib\\site-packages (8.1.0)\n"
     ]
    }
   ],
   "source": [
    "#1. 라이브러리 설치 오라클 연동 라이브러리 설치하기\n",
    "! pip install cx_oracle"
   ]
  },
  {
   "cell_type": "code",
   "execution_count": null,
   "id": "9b401f58-d2e4-4856-a2eb-e88adb489c34",
   "metadata": {},
   "outputs": [],
   "source": [
    "# https://www.oracle.com/kr/database/technologies/instant-client/downloads.html"
   ]
  },
  {
   "cell_type": "code",
   "execution_count": 3,
   "id": "cce8112e-75a0-4aa5-b950-767afb6638c9",
   "metadata": {},
   "outputs": [
    {
     "data": {
      "text/plain": [
       "'c:\\\\instantclient_19_10;C:\\\\ProgramData\\\\Anaconda3;C:\\\\ProgramData\\\\Anaconda3\\\\Library\\\\mingw-w64\\\\bin;C:\\\\ProgramData\\\\Anaconda3\\\\Library\\\\usr\\\\bin;C:\\\\ProgramData\\\\Anaconda3\\\\Library\\\\bin;C:\\\\ProgramData\\\\Anaconda3\\\\Scripts;C:\\\\ProgramData\\\\Anaconda3\\\\bin;C:\\\\ProgramData\\\\Anaconda3\\\\condabin;C:\\\\ProgramData\\\\Anaconda3;C:\\\\ProgramData\\\\Anaconda3\\\\Library\\\\mingw-w64\\\\bin;C:\\\\ProgramData\\\\Anaconda3\\\\Library\\\\usr\\\\bin;C:\\\\ProgramData\\\\Anaconda3\\\\Library\\\\bin;C:\\\\ProgramData\\\\Anaconda3\\\\Scripts;C:\\\\oraclexe\\\\app\\\\oracle\\\\product\\\\11.2.0\\\\server\\\\bin;C:\\\\Program Files\\\\Common Files\\\\Oracle\\\\Java\\\\javapath;C:\\\\Windows\\\\system32;C:\\\\Windows;C:\\\\Windows\\\\System32\\\\Wbem;C:\\\\Windows\\\\System32\\\\WindowsPowerShell\\\\v1.0;C:\\\\Windows\\\\System32\\\\OpenSSH;C:\\\\Program Files (x86)\\\\NVIDIA Corporation\\\\PhysX\\\\Common;C:\\\\Program Files\\\\NVIDIA Corporation\\\\NVIDIA NvDLISR;C:\\\\Program Files\\\\Java\\\\jdk-15.0.2\\\\bin;C:\\\\Program Files (x86)\\\\Brackets\\\\command;C:\\\\Program Files\\\\dotnet;C:\\\\Program Files\\\\nodejs;C:\\\\Program Files\\\\ojdkbuild\\\\java-11-openjdk-11.0.10-1\\\\bin;C:\\\\Program Files\\\\Git\\\\cmd;C:\\\\Users\\\\freew\\\\AppData\\\\Local\\\\Android\\\\Sdk\\\\platform-tools;C:\\\\Program Files\\\\MySQL\\\\MySQL Shell 8.0\\\\bin;C:\\\\Users\\\\freew\\\\AppData\\\\Local\\\\Microsoft\\\\WindowsApps;C:\\\\Program Files\\\\Bandizip;C:\\\\Users\\\\freew\\\\AppData\\\\Roaming\\\\npm;C:\\\\Users\\\\freew\\\\AppData\\\\Local\\\\Programs\\\\Microsoft VS Code\\\\bin;C:\\\\Users\\\\freew\\\\AppData\\\\Local\\\\GitHubDesktop\\\\bin'"
      ]
     },
     "execution_count": 3,
     "metadata": {},
     "output_type": "execute_result"
    }
   ],
   "source": [
    "import os\n",
    "# path = 'c:\\\\instantclient_19_10' #윈도우 방식의 구조\n",
    "# path = 'c:/instantclient_19_10' #리눅스 계열의 방식\n",
    "path = r'c:\\instantclient_19_10' #raw로 하면 \\\n",
    "os.environ[\"PATH\"] = path + \";\" +os.environ[\"PATH\"]\n",
    "os.environ[\"PATH\"]"
   ]
  },
  {
   "cell_type": "code",
   "execution_count": 5,
   "id": "1b13af48-e452-4fd0-9c8b-2fca61b1c776",
   "metadata": {},
   "outputs": [
    {
     "data": {
      "text/plain": [
       "<cx_Oracle.Connection to id120@1.234.5.158:11521/xe>"
      ]
     },
     "execution_count": 5,
     "metadata": {},
     "output_type": "execute_result"
    }
   ],
   "source": [
    "import cx_Oracle as ora # 라이브러리 추가한후 ora로 변경\n",
    "# 아이디/암호@서버주소:포트번호/SID\n",
    "conn = ora.connect('id120/pw120@1.234.5.158:11521/xe')\n",
    "conn"
   ]
  },
  {
   "cell_type": "code",
   "execution_count": 9,
   "id": "60dc3231-0b9e-45f6-9e26-b928bf5ebe72",
   "metadata": {},
   "outputs": [
    {
     "name": "stdout",
     "output_type": "stream",
     "text": [
      "<class 'list'>\n",
      "7\n",
      "<class 'tuple'>\n",
      "70\n"
     ]
    }
   ],
   "source": [
    "cursor = conn.cursor()\n",
    "cursor.execute(\"SELECT * FROM BOARDTBL\")\n",
    "rows = cursor.fetchall();\n",
    "# a = [(),(),()]\n",
    "# a = [{},{},{}] # http://ihongss.com/json/exam2.json\n",
    "\n",
    "print(type(rows))\n",
    "print(len(rows))\n",
    "\n",
    "# tuple a = (1,2,3)\n",
    "# list a = [1,2,3]\n",
    "print(type(rows[0]))\n",
    "print(rows[0][0])"
   ]
  }
 ],
 "metadata": {
  "kernelspec": {
   "display_name": "Python 3",
   "language": "python",
   "name": "python3"
  },
  "language_info": {
   "codemirror_mode": {
    "name": "ipython",
    "version": 3
   },
   "file_extension": ".py",
   "mimetype": "text/x-python",
   "name": "python",
   "nbconvert_exporter": "python",
   "pygments_lexer": "ipython3",
   "version": "3.8.8"
  }
 },
 "nbformat": 4,
 "nbformat_minor": 5
}
