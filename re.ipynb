{
 "cells": [
  {
   "cell_type": "code",
   "execution_count": 11,
   "id": "a081e5d3-bbe4-43da-b5d5-fac813a005de",
   "metadata": {},
   "outputs": [
    {
     "name": "stdout",
     "output_type": "stream",
     "text": [
      "한글만 있음\n",
      "(0, 3) 홍길동\n"
     ]
    }
   ],
   "source": [
    "# 정규식\n",
    "import re\n",
    "\n",
    "# 한글인지 확인\n",
    "name = \"홍길동\"\n",
    "\n",
    "# ^시작 , $ 종료, + n개, {최소개수, 최대개수}\n",
    "b = re.match('^[가-힣]{2,5}', name)\n",
    "if b != None:\n",
    "    print('한글만 있음')\n",
    "    print(b.span(), b.group()) # 매칭하는 범위, 매칭했던 문자\n",
    "else:\n",
    "    print(\"한글이외 내용 있음\")"
   ]
  },
  {
   "cell_type": "code",
   "execution_count": 20,
   "id": "5df3eb04-07fe-45b7-bad3-dc56033c243d",
   "metadata": {},
   "outputs": [
    {
     "name": "stdout",
     "output_type": "stream",
     "text": [
      "이메일 형식 일치\n"
     ]
    }
   ],
   "source": [
    "import re\n",
    "\n",
    "# 이메일\n",
    "# a3434@naver.com\n",
    "\n",
    "email = \"a3434@naver.com\"\n",
    "\n",
    "b = re.match('^[a-zA-Z0-9+.]+\\@[a-zA-Z0-9+.]+\\.[a-zA-Z0-9+-_.]+$', email)\n",
    "if b != None:\n",
    "    print(\"이메일 형식 일치\")\n",
    "else:\n",
    "    print(\"이메일 형식 아님\")"
   ]
  },
  {
   "cell_type": "code",
   "execution_count": 60,
   "id": "0cc02ed2-dbfa-4734-a4b1-81390144c22f",
   "metadata": {},
   "outputs": [
    {
     "name": "stdout",
     "output_type": "stream",
     "text": [
      "전화번호 형식 일치\n"
     ]
    }
   ],
   "source": [
    "import re\n",
    "\n",
    "# 전화번호\n",
    "\n",
    "tel = \"010-1234-5678\"\n",
    "\n",
    "# ^[([1-3]{3} | [6-9]{3})]\n",
    "# 123 667\n",
    "\n",
    "b = re.match('^[0-9]{3}\\-[0-9]{4}\\-[0-9]{4}$', tel)\n",
    "if b != None:\n",
    "    print(\"전화번호 형식 일치\")\n",
    "else:\n",
    "    print(\"전화번호 형식 아님\")"
   ]
  },
  {
   "cell_type": "code",
   "execution_count": 97,
   "id": "f761b791-fee3-405f-9931-2cdbfb9ae81b",
   "metadata": {},
   "outputs": [
    {
     "name": "stdout",
     "output_type": "stream",
     "text": [
      "[{'id': 'a', 'name': '가나다', 'email': '@naver.com', 'date': '2019-01-10', 'time': '14:50:59', 'birth': ''}, {'id': 'b', 'name': '홍길동', 'email': 'bcd@naver.com', 'date': '01-10', 'time': '06:50', 'birth': '09/10/1994'}, {'id': 'c', 'name': '나다라', 'email': 'def@daum.net', 'date': '2019-01', 'time': '146:50:59', 'birth': '09/10/1996'}, {'id': 'd', 'name': '바', 'email': 'abc@naver.com', 'date': '2019-05-10', 'time': '04:50:59', 'birth': '11/10/1998'}, {'id': 'e', 'name': '마바사', 'email': 'bbb@naver.com', 'date': '2019-01-100', 'time': '14:50:59', 'birth': '09/10/2019'}, {'id': 'f', 'name': '홍갈똥', 'email': 'abc@google.com', 'date': '2019-01-10', 'time': '14:50:59', 'birth': '09/10/1998'}, {'id': 'g', 'name': '마지막', 'email': 'bcd@naver.com', 'date': '01-10', 'time': '14:50', 'birth': '09/10/1994'}, {'id': 'h', 'name': '시', 'email': 'def@daum.net', 'date': '2019-01-13', 'time': '14:50:59', 'birth': '10/10/1996'}, {'id': 'i', 'name': '가나라', 'email': 'abc_123@naver', 'date': '2019-01-10', 'time': '14-50:59', 'birth': '09/12/2004'}, {'id': 'h', 'name': '마바사', 'email': 'ccccc@naver.com', 'date': '2019-01-10', 'time': '14:78:59', 'birth': '09/13/2019'}]\n",
      "불일치\n",
      "------------------------------\n",
      "불일치\n",
      "------------------------------\n",
      "불일치\n",
      "------------------------------\n",
      "불일치\n",
      "------------------------------\n",
      "불일치\n",
      "------------------------------\n",
      "일치\n",
      "{'id': 'f', 'name': '홍갈똥', 'email': 'abc@google.com', 'date': '2019-01-10', 'time': '14:50:59', 'birth': '09/10/1998'}\n",
      "------------------------------\n",
      "불일치\n",
      "------------------------------\n",
      "불일치\n",
      "------------------------------\n",
      "불일치\n",
      "------------------------------\n",
      "불일치\n",
      "------------------------------\n"
     ]
    }
   ],
   "source": [
    "import csv\n",
    "import json\n",
    "import requests\n",
    "\n",
    "url = \"http://ihongss.com/json/exam18.json\"\n",
    "data = requests.get(url).text\n",
    "data1 = json.loads(data)\n",
    "print(data1)\n",
    "\n",
    "a = []\n",
    "for i in data1:\n",
    "    idre = re.match('^[a-zA-Z0-9+_.]{1,20}$', i.get('id'))\n",
    "    # 이름\n",
    "    namere = re.match('^[가-힣]{2,5}', i.get('name'))\n",
    "    # 이메일\n",
    "    emailre = re.match('^[a-zA-Z0-9+.]+\\@[a-zA-Z0-9+.]+\\.[a-zA-Z0-9+-_.]+$', i.get('email'))\n",
    "    # 날짜\n",
    "    datere = re.match('^[1-9]{1}[0-9]{3}\\-([0-1]{1}[1-9]{1}|[1]{1}[0-2]{1})\\-([0-2]{1}[0-9]{1}|[3]{1}[0-1]{1})$', i.get('date'))\n",
    "    # 시간\n",
    "    timere = re.match('^([0-1]{1}[0-9]{1}|[2]{1}[0-3]{1})\\:[0-5]{1}[0-9]{1}\\:[0-5]{1}[0-9]{1}', i.get('time'))\n",
    "    # 생일\n",
    "    birthre = re.match('^([0-1]{1}[1-9]{1}|[1]{1}[0-2]{1})\\/([0-2]{1}[0-9]{1}|[3]{1}[0-1]{1})\\/[1-9]{1}[0-9]{3}$', i.get('birth'))\n",
    "    \n",
    "    if(idre != None and namere != None and emailre != None and datere != None and timere != None and birthre != None):\n",
    "        print('일치')\n",
    "        print(i)\n",
    "    else:\n",
    "        print('불일치')\n",
    "    print(\"-\"*30)"
   ]
  }
 ],
 "metadata": {
  "kernelspec": {
   "display_name": "Python 3",
   "language": "python",
   "name": "python3"
  },
  "language_info": {
   "codemirror_mode": {
    "name": "ipython",
    "version": 3
   },
   "file_extension": ".py",
   "mimetype": "text/x-python",
   "name": "python",
   "nbconvert_exporter": "python",
   "pygments_lexer": "ipython3",
   "version": "3.8.8"
  }
 },
 "nbformat": 4,
 "nbformat_minor": 5
}
