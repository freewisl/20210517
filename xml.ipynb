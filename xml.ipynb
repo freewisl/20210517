{
 "cells": [
  {
   "cell_type": "code",
   "execution_count": 1,
   "id": "5ba231d1-b082-471a-b69b-ca872e98341a",
   "metadata": {},
   "outputs": [
    {
     "data": {
      "text/plain": [
       "b'<?xml version=\\'1.0\\' encoding=\\'utf-8\\'?>\\n<response>\\n  <items>\\n    <item id=\"1\">\\n      <name>one</name>\\n    </item>\\n    <item id=\"2\">\\n      <name>two</name>\\n    </item>\\n    <item id=\"3\">\\n      <name>three</name>\\n    </item>\\n  </items>\\n</response>\\n'"
      ]
     },
     "execution_count": 1,
     "metadata": {},
     "output_type": "execute_result"
    }
   ],
   "source": [
    "import urllib.request\n",
    "\n",
    "url = 'http://ihongss.com/xml/exam1.xml'\n",
    "\n",
    "# 웹에서 데이터를 받음\n",
    "response = urllib.request.urlopen(url).read()\n",
    "response"
   ]
  },
  {
   "cell_type": "code",
   "execution_count": 3,
   "id": "4e552577-4694-4b45-86c1-71cc6f656982",
   "metadata": {},
   "outputs": [
    {
     "data": {
      "text/plain": [
       "b'<?xml version=\\'1.0\\' encoding=\\'utf-8\\'?>\\n<response>\\n  <items>\\n    <item id=\"1\">\\n      <name>one</name>\\n    </item>\\n    <item id=\"2\">\\n      <name>two</name>\\n    </item>\\n    <item id=\"3\">\\n      <name>three</name>\\n    </item>\\n  </items>\\n</response>\\n'"
      ]
     },
     "execution_count": 3,
     "metadata": {},
     "output_type": "execute_result"
    }
   ],
   "source": [
    "from urllib.request import urlopen\n",
    "\n",
    "url = 'http://ihongss.com/xml/exam1.xml'\n",
    "\n",
    "# 웹에서 데이터를 받음\n",
    "response = urllib.request.urlopen(url).read()\n",
    "response"
   ]
  },
  {
   "cell_type": "code",
   "execution_count": 10,
   "id": "a5fae672-f176-499e-8ecf-b7cda35adb75",
   "metadata": {},
   "outputs": [
    {
     "name": "stdout",
     "output_type": "stream",
     "text": [
      "name {} one\n",
      "name {} two\n",
      "name {} three\n"
     ]
    }
   ],
   "source": [
    "import xml.etree.ElementTree as et\n",
    "\n",
    "# 데이터 파싱\n",
    "root = et.fromstring(response)\n",
    "for tmp in root:\n",
    "#     print(tmp.tag, tmp.attrib, tmp.text)\n",
    "    for tmp1 in tmp:\n",
    "#         print(tmp1.tag, tmp1.attrib, tmp1.text)\n",
    "        for tmp2 in tmp1:\n",
    "            print(tmp2.tag, tmp2.attrib, tmp2.text)"
   ]
  },
  {
   "cell_type": "code",
   "execution_count": 17,
   "id": "06d93177-2030-4c4e-858c-f910704a8b2f",
   "metadata": {},
   "outputs": [
    {
     "name": "stdout",
     "output_type": "stream",
     "text": [
      "1 one\n",
      "2 two\n",
      "3 three\n"
     ]
    }
   ],
   "source": [
    "import xml.etree.ElementTree as et\n",
    "\n",
    "root = et.fromstring(response)\n",
    "\n",
    "for tmp in root.findall(\"items/item\"):\n",
    "#     print(tmp.tag, tmp.attrib, tmp.text)\n",
    "    print(tmp.attrib['id'], tmp.find(\"name\").text)"
   ]
  },
  {
   "cell_type": "code",
   "execution_count": 78,
   "id": "d8d38cb4-0239-4e57-acfe-66683be705a0",
   "metadata": {},
   "outputs": [
    {
     "name": "stdout",
     "output_type": "stream",
     "text": [
      "[{'name': 'a', 'age': '11', 'addr_id': 'id_a', 'addr': 'addr1'}, {'name': 'b', 'age': '22', 'addr_id': 'id_b', 'addr': 'addr2'}]\n"
     ]
    }
   ],
   "source": [
    "import urllib.request as RQ\n",
    "import xml.etree.ElementTree as ET\n",
    "\n",
    "url = 'http://ihongss.com/resources/student.xml'\n",
    "\n",
    "# 웹에서 데이터를 받음\n",
    "response = RQ.urlopen(url).read()\n",
    "\n",
    "root = ET.fromstring(response)\n",
    "\n",
    "b = []\n",
    "# for tmp in root.iterfind(\"student\"): # 아래와 동일\n",
    "for tmp in root.findall(\"student\"):\n",
    "    a = {\"name\" : tmp.find(\"name\").text, \"age\" : tmp.findtext(\"age\"), \"addr_id\" : tmp.find(\"addr\").attrib['id'], \"addr\" : tmp.findtext(\"addr\")}\n",
    "    b.append(a)\n",
    "    \n",
    "print(b)"
   ]
  },
  {
   "cell_type": "code",
   "execution_count": 79,
   "id": "a56e73a8-de51-4c2e-b47b-5312c10ee1f3",
   "metadata": {},
   "outputs": [
    {
     "name": "stdout",
     "output_type": "stream",
     "text": [
      "정상수행\n",
      "오류와 상관없이 수행\n"
     ]
    }
   ],
   "source": [
    "import pymongo\n",
    "\n",
    "try:\n",
    "    username = \"id120\"\n",
    "    password = \"pw120\"\n",
    "    host = \"1.234.5.158\"\n",
    "    port = 37017\n",
    "    dbname = \"id120\"\n",
    "    \n",
    "    # mongodb 접속\n",
    "    conn= pymongo.MongoClient(f'mongodb://{username}:{password}@{host}:{port}/{dbname}')\n",
    "    db = conn.get_database(dbname) #db선택\n",
    "    collection = db.get_collection(\"student_20210520\") #collection == table과 비슷함\n",
    "    \n",
    "    data1 = [{\"id\":\"aaa\", \"name\":\"가다라\", \"age\":22}, {\"id\":\"aaa\", \"name\":\"다라마\", \"age\":32}, {\"id\":\"aaa\", \"name\":\"바사아\", \"age\":42}]\n",
    "    \n",
    "    # 여러개 추가하기\n",
    "    collection.insert_many(b)\n",
    "    \n",
    "    print('정상수행')\n",
    "except Exception as e:\n",
    "    print(e)\n",
    "    print('오류발생시 수행')\n",
    "finally:\n",
    "    conn.close()\n",
    "    print('오류와 상관없이 수행')"
   ]
  },
  {
   "cell_type": "code",
   "execution_count": 170,
   "id": "b19f2490-bfcc-4118-995a-214d5b525a78",
   "metadata": {},
   "outputs": [
    {
     "name": "stdout",
     "output_type": "stream",
     "text": [
      "one\n",
      "two\n",
      "three\n",
      "==============================\n",
      "one\n",
      "two\n",
      "three\n"
     ]
    }
   ],
   "source": [
    "import urllib.request as RQ\n",
    "import xml.etree.ElementTree as ET\n",
    "\n",
    "url = \"http://ihongss.com/xml/exam4.xml\"\n",
    "\n",
    "# 웹에서 데이터를 받음\n",
    "response = RQ.urlopen(url).read()\n",
    "\n",
    "# 타입 변경 (bytes -> xml.etree.ElementTree.Element)\n",
    "root = ET.fromstring(response)\n",
    "\n",
    "for tmp in root:\n",
    "    for tmp1 in tmp:\n",
    "        if tmp1.find(\"genre\") != None: #태그의 존재유무 확인\n",
    "            print(tmp1.find(\"genre\").text)\n",
    "        elif tmp1.find(\"name\") != None:  \n",
    "            print(tmp1.find(\"name\").text)\n",
    "\n",
    "print(\"=\" * 30)\n",
    "for tmp1 in root.findall(\"collection/collection\"):\n",
    "    if tmp1.find(\"genre\") != None: #태그의 존재유무 확인\n",
    "        print(tmp1.find(\"genre\").text)\n",
    "    elif tmp1.find(\"name\") != None:  \n",
    "        print(tmp1.find(\"name\").text)"
   ]
  },
  {
   "cell_type": "code",
   "execution_count": 213,
   "id": "9fda02ef-27ea-48ef-9e35-2a5fc2600f10",
   "metadata": {},
   "outputs": [
    {
     "name": "stdout",
     "output_type": "stream",
     "text": [
      "[{'title': 'A History of Violence', 'year': '2005', 'country': 'USA', 'director_name': 'Cronenberg David', 'director_birth': 1943, 'actor_name_0': 'Mortensen Vigo', 'actor_birth_date_0': 1958, 'actor_role_0': 'Tom Stall', 'actor_name_1': 'Bello Maria', 'actor_birth_date_1': 1967, 'actor_role_1': 'Eddie Stall', 'actor_name_2': 'Harris Ed', 'actor_birth_date_2': 1950, 'actor_role_2': 'Carl Fogarty', 'actor_name_3': 'Hurt William', 'actor_birth_date_3': 1950, 'actor_role_3': 'Richie Cusack'}, {'title': 'Heat', 'year': '1995', 'country': 'USA', 'director_name': 'Mann Michael', 'director_birth': 1943, 'actor_name_0': 'Pacino Al', 'actor_birth_date_0': 1940, 'actor_role_0': 'Lt. Vincent Hanna', 'actor_name_1': 'De Niro Robert', 'actor_birth_date_1': 1943, 'actor_role_1': 'Neil McCauley', 'actor_name_2': 'Kilmer Val', 'actor_birth_date_2': 1959, 'actor_role_2': 'Chris Shiherlis', 'actor_name_3': 'Voight Jon', 'actor_birth_date_3': 1938, 'actor_role_3': 'Nate'}, {'title': 'Unforgiven', 'year': '1992', 'country': 'USA', 'director_name': 'Eastwood Clint', 'director_birth': 1930, 'actor_name_0': 'Eastwood Clint', 'actor_birth_date_0': 1930, 'actor_role_0': \"William 'Bill' Munny\", 'actor_name_1': 'Hackman Gene', 'actor_birth_date_1': 1930, 'actor_role_1': 'Little Bill Daggett', 'actor_name_2': 'Freeman Morgan', 'actor_birth_date_2': 1937, 'actor_role_2': 'Ned Logan'}, {'title': 'Match Point', 'year': '2005', 'country': 'USA', 'director_name': 'Allen Woody', 'director_birth': 1935, 'actor_name_0': 'Rhys Meyers Jonathan', 'actor_birth_date_0': 1977, 'actor_role_0': 'Chris Wilton', 'actor_name_1': 'Johansson Scarlett ', 'actor_birth_date_1': 1984, 'actor_role_1': 'Nola Rice'}, {'title': 'Lost in Translation', 'year': '2003', 'country': 'USA', 'director_name': 'Coppola Sofia', 'director_birth': 1971, 'actor_name_0': 'Johansson Scarlett ', 'actor_birth_date_0': 1984, 'actor_role_0': 'Charlotte', 'actor_name_1': 'Murray Bill', 'actor_birth_date_1': 1950, 'actor_role_1': 'Bob Harris'}, {'title': 'Marie Antoinette', 'year': '2006', 'country': 'USA', 'director_name': 'Coppola Sofia', 'director_birth': 1971, 'actor_name_0': 'Dunst Kirsten', 'actor_birth_date_0': 1982, 'actor_role_0': 'Marie Antoinette', 'actor_name_1': 'Schwartzman Jason ', 'actor_birth_date_1': 1980, 'actor_role_1': 'Louis XVI'}, {'title': 'Spider-Man', 'year': '2002', 'country': 'USA', 'director_name': 'Raimi Sam', 'director_birth': 1959, 'actor_name_0': 'Dunst Kirsten', 'actor_birth_date_0': 1982, 'actor_role_0': 'Mary Jane Watson', 'actor_name_1': 'Maguire Tobey', 'actor_birth_date_1': 1975, 'actor_role_1': 'Spider-Man / Peter Parker', 'actor_name_2': 'Dafoe Willem', 'actor_birth_date_2': 1955, 'actor_role_2': 'Green Goblin / Norman Osborn'}]\n"
     ]
    }
   ],
   "source": [
    "import urllib.request as RQ\n",
    "import xml.etree.ElementTree as ET\n",
    "\n",
    "url = 'http://webdam.inria.fr/Jorge/files/movies.xml'\n",
    "\n",
    "# 웹에서 데이터를 받음\n",
    "response = RQ.urlopen(url).read()\n",
    "\n",
    "root = ET.fromstring(response)\n",
    "arr = []\n",
    "for tmp in root:\n",
    "    data = {\"title\" : tmp.findtext(\"title\"), \"year\" : tmp.findtext(\"year\"), \"country\" : tmp.findtext(\"country\")}\n",
    "#     print(tmp.find(\"director\")) # find는 객체\n",
    "#     print(tmp.findall(\"director\")) # findall은 배열\n",
    "\n",
    "    for tmp1 in tmp.findall('director'):\n",
    "        data['director_name'] = tmp1.findtext(\"last_name\") + \" \" + tmp1.findtext(\"first_name\")\n",
    "        data['director_birth'] = int(tmp1.findtext(\"birth_date\"))\n",
    "        \n",
    "    for idx, tmp1 in enumerate (tmp.findall('actor')):\n",
    "        data['actor_name_' + str(idx)] = tmp1.findtext(\"last_name\") + \" \" + tmp1.findtext(\"first_name\")\n",
    "        data['actor_birth_date_' + str(idx)] = int(tmp1.findtext(\"birth_date\"))\n",
    "        data['actor_role_' + str(idx)] = tmp1.findtext(\"role\")\n",
    "    \n",
    "    arr.append(data)\n",
    "print(arr)"
   ]
  },
  {
   "cell_type": "code",
   "execution_count": 215,
   "id": "11f14cb2-ba25-4e25-9b55-a6ab143833ea",
   "metadata": {},
   "outputs": [
    {
     "name": "stdout",
     "output_type": "stream",
     "text": [
      "정상수행\n",
      "오류와 상관없이 수행\n"
     ]
    }
   ],
   "source": [
    "import pymongo\n",
    "\n",
    "try:\n",
    "    username = \"id120\"\n",
    "    password = \"pw120\"\n",
    "    host = \"1.234.5.158\"\n",
    "    port = 37017\n",
    "    dbname = \"id120\"\n",
    "    \n",
    "    # mongodb 접속\n",
    "    conn= pymongo.MongoClient(f'mongodb://{username}:{password}@{host}:{port}/{dbname}')\n",
    "    db = conn.get_database(dbname) #db선택\n",
    "    collection = db.get_collection(\"movie_20210520\") #collection == table과 비슷함\n",
    "    \n",
    "    collection.insert_many(arr)\n",
    "    \n",
    "    print('정상수행')\n",
    "except Exception as e:\n",
    "    print(e)\n",
    "    print('오류발생시 수행')\n",
    "finally:\n",
    "    conn.close()\n",
    "    print('오류와 상관없이 수행')"
   ]
  },
  {
   "cell_type": "code",
   "execution_count": 237,
   "id": "1f0310d2-1524-4c43-8e5e-82c8a773ed81",
   "metadata": {},
   "outputs": [
    {
     "name": "stdout",
     "output_type": "stream",
     "text": [
      "[{'province': '서울ㆍ인천ㆍ경기도', 'city': '서울', 'tmEf': '2021-05-23 00:00', 'wf': '구름많음', 'tmn': '16', 'tmx': '26', 'rnSt': '20'}, {'province': '서울ㆍ인천ㆍ경기도', 'city': '서울', 'tmEf': '2021-05-23 12:00', 'wf': '구름많음', 'tmn': '16', 'tmx': '26', 'rnSt': '30'}, {'province': '서울ㆍ인천ㆍ경기도', 'city': '서울', 'tmEf': '2021-05-24 00:00', 'wf': '구름많음', 'tmn': '17', 'tmx': '26', 'rnSt': '30'}, {'province': '서울ㆍ인천ㆍ경기도', 'city': '서울', 'tmEf': '2021-05-24 12:00', 'wf': '맑음', 'tmn': '17', 'tmx': '26', 'rnSt': '10'}, {'province': '서울ㆍ인천ㆍ경기도', 'city': '서울', 'tmEf': '2021-05-25 00:00', 'wf': '맑음', 'tmn': '16', 'tmx': '24', 'rnSt': '10'}, {'province': '서울ㆍ인천ㆍ경기도', 'city': '서울', 'tmEf': '2021-05-25 12:00', 'wf': '맑음', 'tmn': '16', 'tmx': '24', 'rnSt': '20'}, {'province': '서울ㆍ인천ㆍ경기도', 'city': '서울', 'tmEf': '2021-05-26 00:00', 'wf': '맑음', 'tmn': '15', 'tmx': '25', 'rnSt': '10'}, {'province': '서울ㆍ인천ㆍ경기도', 'city': '서울', 'tmEf': '2021-05-26 12:00', 'wf': '맑음', 'tmn': '15', 'tmx': '25', 'rnSt': '10'}, {'province': '서울ㆍ인천ㆍ경기도', 'city': '서울', 'tmEf': '2021-05-27 00:00', 'wf': '구름많음', 'tmn': '15', 'tmx': '26', 'rnSt': '30'}, {'province': '서울ㆍ인천ㆍ경기도', 'city': '서울', 'tmEf': '2021-05-27 12:00', 'wf': '구름많음', 'tmn': '15', 'tmx': '26', 'rnSt': '30'}, {'province': '서울ㆍ인천ㆍ경기도', 'city': '서울', 'tmEf': '2021-05-28 00:00', 'wf': '구름많음', 'tmn': '16', 'tmx': '25', 'rnSt': '40'}, {'province': '서울ㆍ인천ㆍ경기도', 'city': '서울', 'tmEf': '2021-05-29 00:00', 'wf': '맑음', 'tmn': '17', 'tmx': '25', 'rnSt': '20'}, {'province': '서울ㆍ인천ㆍ경기도', 'city': '서울', 'tmEf': '2021-05-30 00:00', 'wf': '맑음', 'tmn': '16', 'tmx': '26', 'rnSt': '20'}, {'province': '서울ㆍ인천ㆍ경기도', 'city': '인천', 'tmEf': '2021-05-23 00:00', 'wf': '구름많음', 'tmn': '15', 'tmx': '23', 'rnSt': '20'}, {'province': '서울ㆍ인천ㆍ경기도', 'city': '인천', 'tmEf': '2021-05-23 12:00', 'wf': '구름많음', 'tmn': '15', 'tmx': '23', 'rnSt': '30'}, {'province': '서울ㆍ인천ㆍ경기도', 'city': '인천', 'tmEf': '2021-05-24 00:00', 'wf': '구름많음', 'tmn': '16', 'tmx': '22', 'rnSt': '30'}, {'province': '서울ㆍ인천ㆍ경기도', 'city': '인천', 'tmEf': '2021-05-24 12:00', 'wf': '맑음', 'tmn': '16', 'tmx': '22', 'rnSt': '10'}, {'province': '서울ㆍ인천ㆍ경기도', 'city': '인천', 'tmEf': '2021-05-25 00:00', 'wf': '맑음', 'tmn': '15', 'tmx': '20', 'rnSt': '10'}, {'province': '서울ㆍ인천ㆍ경기도', 'city': '인천', 'tmEf': '2021-05-25 12:00', 'wf': '맑음', 'tmn': '15', 'tmx': '20', 'rnSt': '20'}, {'province': '서울ㆍ인천ㆍ경기도', 'city': '인천', 'tmEf': '2021-05-26 00:00', 'wf': '맑음', 'tmn': '14', 'tmx': '22', 'rnSt': '10'}, {'province': '서울ㆍ인천ㆍ경기도', 'city': '인천', 'tmEf': '2021-05-26 12:00', 'wf': '맑음', 'tmn': '14', 'tmx': '22', 'rnSt': '10'}, {'province': '서울ㆍ인천ㆍ경기도', 'city': '인천', 'tmEf': '2021-05-27 00:00', 'wf': '구름많음', 'tmn': '15', 'tmx': '23', 'rnSt': '30'}, {'province': '서울ㆍ인천ㆍ경기도', 'city': '인천', 'tmEf': '2021-05-27 12:00', 'wf': '구름많음', 'tmn': '15', 'tmx': '23', 'rnSt': '30'}, {'province': '서울ㆍ인천ㆍ경기도', 'city': '인천', 'tmEf': '2021-05-28 00:00', 'wf': '구름많음', 'tmn': '15', 'tmx': '22', 'rnSt': '40'}, {'province': '서울ㆍ인천ㆍ경기도', 'city': '인천', 'tmEf': '2021-05-29 00:00', 'wf': '맑음', 'tmn': '16', 'tmx': '22', 'rnSt': '20'}, {'province': '서울ㆍ인천ㆍ경기도', 'city': '인천', 'tmEf': '2021-05-30 00:00', 'wf': '맑음', 'tmn': '16', 'tmx': '22', 'rnSt': '20'}, {'province': '서울ㆍ인천ㆍ경기도', 'city': '수원', 'tmEf': '2021-05-23 00:00', 'wf': '구름많음', 'tmn': '14', 'tmx': '26', 'rnSt': '20'}, {'province': '서울ㆍ인천ㆍ경기도', 'city': '수원', 'tmEf': '2021-05-23 12:00', 'wf': '구름많음', 'tmn': '14', 'tmx': '26', 'rnSt': '30'}, {'province': '서울ㆍ인천ㆍ경기도', 'city': '수원', 'tmEf': '2021-05-24 00:00', 'wf': '구름많음', 'tmn': '15', 'tmx': '25', 'rnSt': '30'}, {'province': '서울ㆍ인천ㆍ경기도', 'city': '수원', 'tmEf': '2021-05-24 12:00', 'wf': '맑음', 'tmn': '15', 'tmx': '25', 'rnSt': '10'}, {'province': '서울ㆍ인천ㆍ경기도', 'city': '수원', 'tmEf': '2021-05-25 00:00', 'wf': '맑음', 'tmn': '15', 'tmx': '24', 'rnSt': '10'}, {'province': '서울ㆍ인천ㆍ경기도', 'city': '수원', 'tmEf': '2021-05-25 12:00', 'wf': '맑음', 'tmn': '15', 'tmx': '24', 'rnSt': '20'}, {'province': '서울ㆍ인천ㆍ경기도', 'city': '수원', 'tmEf': '2021-05-26 00:00', 'wf': '맑음', 'tmn': '13', 'tmx': '25', 'rnSt': '10'}, {'province': '서울ㆍ인천ㆍ경기도', 'city': '수원', 'tmEf': '2021-05-26 12:00', 'wf': '맑음', 'tmn': '13', 'tmx': '25', 'rnSt': '10'}, {'province': '서울ㆍ인천ㆍ경기도', 'city': '수원', 'tmEf': '2021-05-27 00:00', 'wf': '구름많음', 'tmn': '13', 'tmx': '25', 'rnSt': '30'}, {'province': '서울ㆍ인천ㆍ경기도', 'city': '수원', 'tmEf': '2021-05-27 12:00', 'wf': '구름많음', 'tmn': '13', 'tmx': '25', 'rnSt': '30'}, {'province': '서울ㆍ인천ㆍ경기도', 'city': '수원', 'tmEf': '2021-05-28 00:00', 'wf': '구름많음', 'tmn': '14', 'tmx': '25', 'rnSt': '40'}, {'province': '서울ㆍ인천ㆍ경기도', 'city': '수원', 'tmEf': '2021-05-29 00:00', 'wf': '맑음', 'tmn': '15', 'tmx': '24', 'rnSt': '20'}, {'province': '서울ㆍ인천ㆍ경기도', 'city': '수원', 'tmEf': '2021-05-30 00:00', 'wf': '맑음', 'tmn': '14', 'tmx': '25', 'rnSt': '20'}, {'province': '서울ㆍ인천ㆍ경기도', 'city': '파주', 'tmEf': '2021-05-23 00:00', 'wf': '구름많음', 'tmn': '13', 'tmx': '25', 'rnSt': '20'}, {'province': '서울ㆍ인천ㆍ경기도', 'city': '파주', 'tmEf': '2021-05-23 12:00', 'wf': '구름많음', 'tmn': '13', 'tmx': '25', 'rnSt': '30'}, {'province': '서울ㆍ인천ㆍ경기도', 'city': '파주', 'tmEf': '2021-05-24 00:00', 'wf': '구름많음', 'tmn': '13', 'tmx': '25', 'rnSt': '30'}, {'province': '서울ㆍ인천ㆍ경기도', 'city': '파주', 'tmEf': '2021-05-24 12:00', 'wf': '맑음', 'tmn': '13', 'tmx': '25', 'rnSt': '10'}, {'province': '서울ㆍ인천ㆍ경기도', 'city': '파주', 'tmEf': '2021-05-25 00:00', 'wf': '맑음', 'tmn': '13', 'tmx': '23', 'rnSt': '10'}, {'province': '서울ㆍ인천ㆍ경기도', 'city': '파주', 'tmEf': '2021-05-25 12:00', 'wf': '맑음', 'tmn': '13', 'tmx': '23', 'rnSt': '20'}, {'province': '서울ㆍ인천ㆍ경기도', 'city': '파주', 'tmEf': '2021-05-26 00:00', 'wf': '맑음', 'tmn': '11', 'tmx': '25', 'rnSt': '10'}, {'province': '서울ㆍ인천ㆍ경기도', 'city': '파주', 'tmEf': '2021-05-26 12:00', 'wf': '맑음', 'tmn': '11', 'tmx': '25', 'rnSt': '10'}, {'province': '서울ㆍ인천ㆍ경기도', 'city': '파주', 'tmEf': '2021-05-27 00:00', 'wf': '구름많음', 'tmn': '12', 'tmx': '24', 'rnSt': '30'}, {'province': '서울ㆍ인천ㆍ경기도', 'city': '파주', 'tmEf': '2021-05-27 12:00', 'wf': '구름많음', 'tmn': '12', 'tmx': '24', 'rnSt': '30'}, {'province': '서울ㆍ인천ㆍ경기도', 'city': '파주', 'tmEf': '2021-05-28 00:00', 'wf': '구름많음', 'tmn': '14', 'tmx': '24', 'rnSt': '40'}, {'province': '서울ㆍ인천ㆍ경기도', 'city': '파주', 'tmEf': '2021-05-29 00:00', 'wf': '맑음', 'tmn': '13', 'tmx': '24', 'rnSt': '20'}, {'province': '서울ㆍ인천ㆍ경기도', 'city': '파주', 'tmEf': '2021-05-30 00:00', 'wf': '맑음', 'tmn': '14', 'tmx': '26', 'rnSt': '20'}, {'province': '서울ㆍ인천ㆍ경기도', 'city': '이천', 'tmEf': '2021-05-23 00:00', 'wf': '구름많음', 'tmn': '13', 'tmx': '27', 'rnSt': '20'}, {'province': '서울ㆍ인천ㆍ경기도', 'city': '이천', 'tmEf': '2021-05-23 12:00', 'wf': '구름많음', 'tmn': '13', 'tmx': '27', 'rnSt': '30'}, {'province': '서울ㆍ인천ㆍ경기도', 'city': '이천', 'tmEf': '2021-05-24 00:00', 'wf': '구름많음', 'tmn': '13', 'tmx': '26', 'rnSt': '30'}, {'province': '서울ㆍ인천ㆍ경기도', 'city': '이천', 'tmEf': '2021-05-24 12:00', 'wf': '맑음', 'tmn': '13', 'tmx': '26', 'rnSt': '10'}, {'province': '서울ㆍ인천ㆍ경기도', 'city': '이천', 'tmEf': '2021-05-25 00:00', 'wf': '맑음', 'tmn': '14', 'tmx': '24', 'rnSt': '10'}, {'province': '서울ㆍ인천ㆍ경기도', 'city': '이천', 'tmEf': '2021-05-25 12:00', 'wf': '맑음', 'tmn': '14', 'tmx': '24', 'rnSt': '20'}, {'province': '서울ㆍ인천ㆍ경기도', 'city': '이천', 'tmEf': '2021-05-26 00:00', 'wf': '맑음', 'tmn': '12', 'tmx': '25', 'rnSt': '10'}, {'province': '서울ㆍ인천ㆍ경기도', 'city': '이천', 'tmEf': '2021-05-26 12:00', 'wf': '맑음', 'tmn': '12', 'tmx': '25', 'rnSt': '10'}, {'province': '서울ㆍ인천ㆍ경기도', 'city': '이천', 'tmEf': '2021-05-27 00:00', 'wf': '구름많음', 'tmn': '11', 'tmx': '26', 'rnSt': '30'}, {'province': '서울ㆍ인천ㆍ경기도', 'city': '이천', 'tmEf': '2021-05-27 12:00', 'wf': '구름많음', 'tmn': '11', 'tmx': '26', 'rnSt': '30'}, {'province': '서울ㆍ인천ㆍ경기도', 'city': '이천', 'tmEf': '2021-05-28 00:00', 'wf': '구름많음', 'tmn': '14', 'tmx': '25', 'rnSt': '40'}, {'province': '서울ㆍ인천ㆍ경기도', 'city': '이천', 'tmEf': '2021-05-29 00:00', 'wf': '맑음', 'tmn': '13', 'tmx': '25', 'rnSt': '20'}, {'province': '서울ㆍ인천ㆍ경기도', 'city': '이천', 'tmEf': '2021-05-30 00:00', 'wf': '맑음', 'tmn': '14', 'tmx': '26', 'rnSt': '20'}, {'province': '서울ㆍ인천ㆍ경기도', 'city': '평택', 'tmEf': '2021-05-23 00:00', 'wf': '구름많음', 'tmn': '14', 'tmx': '26', 'rnSt': '20'}, {'province': '서울ㆍ인천ㆍ경기도', 'city': '평택', 'tmEf': '2021-05-23 12:00', 'wf': '구름많음', 'tmn': '14', 'tmx': '26', 'rnSt': '30'}, {'province': '서울ㆍ인천ㆍ경기도', 'city': '평택', 'tmEf': '2021-05-24 00:00', 'wf': '구름많음', 'tmn': '15', 'tmx': '26', 'rnSt': '30'}, {'province': '서울ㆍ인천ㆍ경기도', 'city': '평택', 'tmEf': '2021-05-24 12:00', 'wf': '맑음', 'tmn': '15', 'tmx': '26', 'rnSt': '10'}, {'province': '서울ㆍ인천ㆍ경기도', 'city': '평택', 'tmEf': '2021-05-25 00:00', 'wf': '맑음', 'tmn': '14', 'tmx': '23', 'rnSt': '10'}, {'province': '서울ㆍ인천ㆍ경기도', 'city': '평택', 'tmEf': '2021-05-25 12:00', 'wf': '맑음', 'tmn': '14', 'tmx': '23', 'rnSt': '20'}, {'province': '서울ㆍ인천ㆍ경기도', 'city': '평택', 'tmEf': '2021-05-26 00:00', 'wf': '맑음', 'tmn': '13', 'tmx': '25', 'rnSt': '10'}, {'province': '서울ㆍ인천ㆍ경기도', 'city': '평택', 'tmEf': '2021-05-26 12:00', 'wf': '맑음', 'tmn': '13', 'tmx': '25', 'rnSt': '10'}, {'province': '서울ㆍ인천ㆍ경기도', 'city': '평택', 'tmEf': '2021-05-27 00:00', 'wf': '구름많음', 'tmn': '14', 'tmx': '26', 'rnSt': '30'}, {'province': '서울ㆍ인천ㆍ경기도', 'city': '평택', 'tmEf': '2021-05-27 12:00', 'wf': '구름많음', 'tmn': '14', 'tmx': '26', 'rnSt': '30'}, {'province': '서울ㆍ인천ㆍ경기도', 'city': '평택', 'tmEf': '2021-05-28 00:00', 'wf': '구름많음', 'tmn': '15', 'tmx': '25', 'rnSt': '40'}, {'province': '서울ㆍ인천ㆍ경기도', 'city': '평택', 'tmEf': '2021-05-29 00:00', 'wf': '맑음', 'tmn': '15', 'tmx': '25', 'rnSt': '20'}, {'province': '서울ㆍ인천ㆍ경기도', 'city': '평택', 'tmEf': '2021-05-30 00:00', 'wf': '맑음', 'tmn': '16', 'tmx': '26', 'rnSt': '20'}, {'province': '서울ㆍ인천ㆍ경기도', 'city': '백령도', 'tmEf': '2021-05-23 00:00', 'wf': '구름많음', 'tmn': '14', 'tmx': '22', 'rnSt': '20'}, {'province': '서울ㆍ인천ㆍ경기도', 'city': '백령도', 'tmEf': '2021-05-23 12:00', 'wf': '구름많음', 'tmn': '14', 'tmx': '22', 'rnSt': '30'}, {'province': '서울ㆍ인천ㆍ경기도', 'city': '백령도', 'tmEf': '2021-05-24 00:00', 'wf': '구름많음', 'tmn': '13', 'tmx': '22', 'rnSt': '30'}, {'province': '서울ㆍ인천ㆍ경기도', 'city': '백령도', 'tmEf': '2021-05-24 12:00', 'wf': '맑음', 'tmn': '13', 'tmx': '22', 'rnSt': '10'}, {'province': '서울ㆍ인천ㆍ경기도', 'city': '백령도', 'tmEf': '2021-05-25 00:00', 'wf': '맑음', 'tmn': '13', 'tmx': '20', 'rnSt': '10'}, {'province': '서울ㆍ인천ㆍ경기도', 'city': '백령도', 'tmEf': '2021-05-25 12:00', 'wf': '맑음', 'tmn': '13', 'tmx': '20', 'rnSt': '20'}, {'province': '서울ㆍ인천ㆍ경기도', 'city': '백령도', 'tmEf': '2021-05-26 00:00', 'wf': '맑음', 'tmn': '13', 'tmx': '22', 'rnSt': '10'}, {'province': '서울ㆍ인천ㆍ경기도', 'city': '백령도', 'tmEf': '2021-05-26 12:00', 'wf': '맑음', 'tmn': '13', 'tmx': '22', 'rnSt': '10'}, {'province': '서울ㆍ인천ㆍ경기도', 'city': '백령도', 'tmEf': '2021-05-27 00:00', 'wf': '구름많음', 'tmn': '14', 'tmx': '20', 'rnSt': '30'}, {'province': '서울ㆍ인천ㆍ경기도', 'city': '백령도', 'tmEf': '2021-05-27 12:00', 'wf': '구름많음', 'tmn': '14', 'tmx': '20', 'rnSt': '30'}, {'province': '서울ㆍ인천ㆍ경기도', 'city': '백령도', 'tmEf': '2021-05-28 00:00', 'wf': '구름많음', 'tmn': '13', 'tmx': '21', 'rnSt': '40'}, {'province': '서울ㆍ인천ㆍ경기도', 'city': '백령도', 'tmEf': '2021-05-29 00:00', 'wf': '맑음', 'tmn': '13', 'tmx': '22', 'rnSt': '20'}, {'province': '서울ㆍ인천ㆍ경기도', 'city': '백령도', 'tmEf': '2021-05-30 00:00', 'wf': '맑음', 'tmn': '14', 'tmx': '22', 'rnSt': '20'}, {'province': '서울ㆍ인천ㆍ경기도', 'city': '과천', 'tmEf': '2021-05-23 00:00', 'wf': '구름많음', 'tmn': '12', 'tmx': '27', 'rnSt': '20'}, {'province': '서울ㆍ인천ㆍ경기도', 'city': '과천', 'tmEf': '2021-05-23 12:00', 'wf': '구름많음', 'tmn': '12', 'tmx': '27', 'rnSt': '30'}, {'province': '서울ㆍ인천ㆍ경기도', 'city': '과천', 'tmEf': '2021-05-24 00:00', 'wf': '구름많음', 'tmn': '14', 'tmx': '25', 'rnSt': '30'}, {'province': '서울ㆍ인천ㆍ경기도', 'city': '과천', 'tmEf': '2021-05-24 12:00', 'wf': '맑음', 'tmn': '14', 'tmx': '25', 'rnSt': '10'}, {'province': '서울ㆍ인천ㆍ경기도', 'city': '과천', 'tmEf': '2021-05-25 00:00', 'wf': '맑음', 'tmn': '12', 'tmx': '23', 'rnSt': '10'}, {'province': '서울ㆍ인천ㆍ경기도', 'city': '과천', 'tmEf': '2021-05-25 12:00', 'wf': '맑음', 'tmn': '12', 'tmx': '23', 'rnSt': '20'}, {'province': '서울ㆍ인천ㆍ경기도', 'city': '과천', 'tmEf': '2021-05-26 00:00', 'wf': '맑음', 'tmn': '11', 'tmx': '25', 'rnSt': '10'}, {'province': '서울ㆍ인천ㆍ경기도', 'city': '과천', 'tmEf': '2021-05-26 12:00', 'wf': '맑음', 'tmn': '11', 'tmx': '25', 'rnSt': '10'}, {'province': '서울ㆍ인천ㆍ경기도', 'city': '과천', 'tmEf': '2021-05-27 00:00', 'wf': '구름많음', 'tmn': '12', 'tmx': '25', 'rnSt': '30'}, {'province': '서울ㆍ인천ㆍ경기도', 'city': '과천', 'tmEf': '2021-05-27 12:00', 'wf': '구름많음', 'tmn': '12', 'tmx': '25', 'rnSt': '30'}, {'province': '서울ㆍ인천ㆍ경기도', 'city': '과천', 'tmEf': '2021-05-28 00:00', 'wf': '구름많음', 'tmn': '13', 'tmx': '24', 'rnSt': '40'}, {'province': '서울ㆍ인천ㆍ경기도', 'city': '과천', 'tmEf': '2021-05-29 00:00', 'wf': '맑음', 'tmn': '14', 'tmx': '24', 'rnSt': '20'}, {'province': '서울ㆍ인천ㆍ경기도', 'city': '과천', 'tmEf': '2021-05-30 00:00', 'wf': '맑음', 'tmn': '15', 'tmx': '26', 'rnSt': '20'}, {'province': '서울ㆍ인천ㆍ경기도', 'city': '광명', 'tmEf': '2021-05-23 00:00', 'wf': '구름많음', 'tmn': '16', 'tmx': '25', 'rnSt': '20'}, {'province': '서울ㆍ인천ㆍ경기도', 'city': '광명', 'tmEf': '2021-05-23 12:00', 'wf': '구름많음', 'tmn': '16', 'tmx': '25', 'rnSt': '30'}, {'province': '서울ㆍ인천ㆍ경기도', 'city': '광명', 'tmEf': '2021-05-24 00:00', 'wf': '구름많음', 'tmn': '16', 'tmx': '23', 'rnSt': '30'}, {'province': '서울ㆍ인천ㆍ경기도', 'city': '광명', 'tmEf': '2021-05-24 12:00', 'wf': '맑음', 'tmn': '16', 'tmx': '23', 'rnSt': '10'}, {'province': '서울ㆍ인천ㆍ경기도', 'city': '광명', 'tmEf': '2021-05-25 00:00', 'wf': '맑음', 'tmn': '15', 'tmx': '22', 'rnSt': '10'}, {'province': '서울ㆍ인천ㆍ경기도', 'city': '광명', 'tmEf': '2021-05-25 12:00', 'wf': '맑음', 'tmn': '15', 'tmx': '22', 'rnSt': '20'}, {'province': '서울ㆍ인천ㆍ경기도', 'city': '광명', 'tmEf': '2021-05-26 00:00', 'wf': '맑음', 'tmn': '14', 'tmx': '23', 'rnSt': '10'}, {'province': '서울ㆍ인천ㆍ경기도', 'city': '광명', 'tmEf': '2021-05-26 12:00', 'wf': '맑음', 'tmn': '14', 'tmx': '23', 'rnSt': '10'}, {'province': '서울ㆍ인천ㆍ경기도', 'city': '광명', 'tmEf': '2021-05-27 00:00', 'wf': '구름많음', 'tmn': '16', 'tmx': '24', 'rnSt': '30'}, {'province': '서울ㆍ인천ㆍ경기도', 'city': '광명', 'tmEf': '2021-05-27 12:00', 'wf': '구름많음', 'tmn': '16', 'tmx': '24', 'rnSt': '30'}, {'province': '서울ㆍ인천ㆍ경기도', 'city': '광명', 'tmEf': '2021-05-28 00:00', 'wf': '구름많음', 'tmn': '15', 'tmx': '23', 'rnSt': '40'}, {'province': '서울ㆍ인천ㆍ경기도', 'city': '광명', 'tmEf': '2021-05-29 00:00', 'wf': '맑음', 'tmn': '16', 'tmx': '22', 'rnSt': '20'}, {'province': '서울ㆍ인천ㆍ경기도', 'city': '광명', 'tmEf': '2021-05-30 00:00', 'wf': '맑음', 'tmn': '15', 'tmx': '25', 'rnSt': '20'}, {'province': '서울ㆍ인천ㆍ경기도', 'city': '강화', 'tmEf': '2021-05-23 00:00', 'wf': '구름많음', 'tmn': '13', 'tmx': '22', 'rnSt': '20'}, {'province': '서울ㆍ인천ㆍ경기도', 'city': '강화', 'tmEf': '2021-05-23 12:00', 'wf': '구름많음', 'tmn': '13', 'tmx': '22', 'rnSt': '30'}, {'province': '서울ㆍ인천ㆍ경기도', 'city': '강화', 'tmEf': '2021-05-24 00:00', 'wf': '구름많음', 'tmn': '13', 'tmx': '22', 'rnSt': '30'}, {'province': '서울ㆍ인천ㆍ경기도', 'city': '강화', 'tmEf': '2021-05-24 12:00', 'wf': '맑음', 'tmn': '13', 'tmx': '22', 'rnSt': '10'}, {'province': '서울ㆍ인천ㆍ경기도', 'city': '강화', 'tmEf': '2021-05-25 00:00', 'wf': '맑음', 'tmn': '12', 'tmx': '20', 'rnSt': '10'}, {'province': '서울ㆍ인천ㆍ경기도', 'city': '강화', 'tmEf': '2021-05-25 12:00', 'wf': '맑음', 'tmn': '12', 'tmx': '20', 'rnSt': '20'}, {'province': '서울ㆍ인천ㆍ경기도', 'city': '강화', 'tmEf': '2021-05-26 00:00', 'wf': '맑음', 'tmn': '12', 'tmx': '20', 'rnSt': '10'}, {'province': '서울ㆍ인천ㆍ경기도', 'city': '강화', 'tmEf': '2021-05-26 12:00', 'wf': '맑음', 'tmn': '12', 'tmx': '20', 'rnSt': '10'}, {'province': '서울ㆍ인천ㆍ경기도', 'city': '강화', 'tmEf': '2021-05-27 00:00', 'wf': '구름많음', 'tmn': '13', 'tmx': '23', 'rnSt': '30'}, {'province': '서울ㆍ인천ㆍ경기도', 'city': '강화', 'tmEf': '2021-05-27 12:00', 'wf': '구름많음', 'tmn': '13', 'tmx': '23', 'rnSt': '30'}, {'province': '서울ㆍ인천ㆍ경기도', 'city': '강화', 'tmEf': '2021-05-28 00:00', 'wf': '구름많음', 'tmn': '14', 'tmx': '22', 'rnSt': '40'}, {'province': '서울ㆍ인천ㆍ경기도', 'city': '강화', 'tmEf': '2021-05-29 00:00', 'wf': '맑음', 'tmn': '14', 'tmx': '21', 'rnSt': '20'}, {'province': '서울ㆍ인천ㆍ경기도', 'city': '강화', 'tmEf': '2021-05-30 00:00', 'wf': '맑음', 'tmn': '15', 'tmx': '23', 'rnSt': '20'}, {'province': '서울ㆍ인천ㆍ경기도', 'city': '김포', 'tmEf': '2021-05-23 00:00', 'wf': '구름많음', 'tmn': '14', 'tmx': '24', 'rnSt': '20'}, {'province': '서울ㆍ인천ㆍ경기도', 'city': '김포', 'tmEf': '2021-05-23 12:00', 'wf': '구름많음', 'tmn': '14', 'tmx': '24', 'rnSt': '30'}, {'province': '서울ㆍ인천ㆍ경기도', 'city': '김포', 'tmEf': '2021-05-24 00:00', 'wf': '구름많음', 'tmn': '15', 'tmx': '24', 'rnSt': '30'}, {'province': '서울ㆍ인천ㆍ경기도', 'city': '김포', 'tmEf': '2021-05-24 12:00', 'wf': '맑음', 'tmn': '15', 'tmx': '24', 'rnSt': '10'}, {'province': '서울ㆍ인천ㆍ경기도', 'city': '김포', 'tmEf': '2021-05-25 00:00', 'wf': '맑음', 'tmn': '15', 'tmx': '20', 'rnSt': '10'}, {'province': '서울ㆍ인천ㆍ경기도', 'city': '김포', 'tmEf': '2021-05-25 12:00', 'wf': '맑음', 'tmn': '15', 'tmx': '20', 'rnSt': '20'}, {'province': '서울ㆍ인천ㆍ경기도', 'city': '김포', 'tmEf': '2021-05-26 00:00', 'wf': '맑음', 'tmn': '12', 'tmx': '23', 'rnSt': '10'}, {'province': '서울ㆍ인천ㆍ경기도', 'city': '김포', 'tmEf': '2021-05-26 12:00', 'wf': '맑음', 'tmn': '12', 'tmx': '23', 'rnSt': '10'}, {'province': '서울ㆍ인천ㆍ경기도', 'city': '김포', 'tmEf': '2021-05-27 00:00', 'wf': '구름많음', 'tmn': '14', 'tmx': '23', 'rnSt': '30'}, {'province': '서울ㆍ인천ㆍ경기도', 'city': '김포', 'tmEf': '2021-05-27 12:00', 'wf': '구름많음', 'tmn': '14', 'tmx': '23', 'rnSt': '30'}, {'province': '서울ㆍ인천ㆍ경기도', 'city': '김포', 'tmEf': '2021-05-28 00:00', 'wf': '구름많음', 'tmn': '15', 'tmx': '24', 'rnSt': '40'}, {'province': '서울ㆍ인천ㆍ경기도', 'city': '김포', 'tmEf': '2021-05-29 00:00', 'wf': '맑음', 'tmn': '15', 'tmx': '23', 'rnSt': '20'}, {'province': '서울ㆍ인천ㆍ경기도', 'city': '김포', 'tmEf': '2021-05-30 00:00', 'wf': '맑음', 'tmn': '15', 'tmx': '25', 'rnSt': '20'}, {'province': '서울ㆍ인천ㆍ경기도', 'city': '시흥', 'tmEf': '2021-05-23 00:00', 'wf': '구름많음', 'tmn': '12', 'tmx': '24', 'rnSt': '20'}, {'province': '서울ㆍ인천ㆍ경기도', 'city': '시흥', 'tmEf': '2021-05-23 12:00', 'wf': '구름많음', 'tmn': '12', 'tmx': '24', 'rnSt': '30'}, {'province': '서울ㆍ인천ㆍ경기도', 'city': '시흥', 'tmEf': '2021-05-24 00:00', 'wf': '구름많음', 'tmn': '14', 'tmx': '23', 'rnSt': '30'}, {'province': '서울ㆍ인천ㆍ경기도', 'city': '시흥', 'tmEf': '2021-05-24 12:00', 'wf': '맑음', 'tmn': '14', 'tmx': '23', 'rnSt': '10'}, {'province': '서울ㆍ인천ㆍ경기도', 'city': '시흥', 'tmEf': '2021-05-25 00:00', 'wf': '맑음', 'tmn': '12', 'tmx': '22', 'rnSt': '10'}, {'province': '서울ㆍ인천ㆍ경기도', 'city': '시흥', 'tmEf': '2021-05-25 12:00', 'wf': '맑음', 'tmn': '12', 'tmx': '22', 'rnSt': '20'}, {'province': '서울ㆍ인천ㆍ경기도', 'city': '시흥', 'tmEf': '2021-05-26 00:00', 'wf': '맑음', 'tmn': '12', 'tmx': '23', 'rnSt': '10'}, {'province': '서울ㆍ인천ㆍ경기도', 'city': '시흥', 'tmEf': '2021-05-26 12:00', 'wf': '맑음', 'tmn': '12', 'tmx': '23', 'rnSt': '10'}, {'province': '서울ㆍ인천ㆍ경기도', 'city': '시흥', 'tmEf': '2021-05-27 00:00', 'wf': '구름많음', 'tmn': '13', 'tmx': '24', 'rnSt': '30'}, {'province': '서울ㆍ인천ㆍ경기도', 'city': '시흥', 'tmEf': '2021-05-27 12:00', 'wf': '구름많음', 'tmn': '13', 'tmx': '24', 'rnSt': '30'}, {'province': '서울ㆍ인천ㆍ경기도', 'city': '시흥', 'tmEf': '2021-05-28 00:00', 'wf': '구름많음', 'tmn': '14', 'tmx': '23', 'rnSt': '40'}, {'province': '서울ㆍ인천ㆍ경기도', 'city': '시흥', 'tmEf': '2021-05-29 00:00', 'wf': '맑음', 'tmn': '14', 'tmx': '22', 'rnSt': '20'}, {'province': '서울ㆍ인천ㆍ경기도', 'city': '시흥', 'tmEf': '2021-05-30 00:00', 'wf': '맑음', 'tmn': '14', 'tmx': '26', 'rnSt': '20'}, {'province': '서울ㆍ인천ㆍ경기도', 'city': '안산', 'tmEf': '2021-05-23 00:00', 'wf': '구름많음', 'tmn': '13', 'tmx': '26', 'rnSt': '20'}, {'province': '서울ㆍ인천ㆍ경기도', 'city': '안산', 'tmEf': '2021-05-23 12:00', 'wf': '구름많음', 'tmn': '13', 'tmx': '26', 'rnSt': '30'}, {'province': '서울ㆍ인천ㆍ경기도', 'city': '안산', 'tmEf': '2021-05-24 00:00', 'wf': '구름많음', 'tmn': '14', 'tmx': '24', 'rnSt': '30'}, {'province': '서울ㆍ인천ㆍ경기도', 'city': '안산', 'tmEf': '2021-05-24 12:00', 'wf': '맑음', 'tmn': '14', 'tmx': '24', 'rnSt': '10'}, {'province': '서울ㆍ인천ㆍ경기도', 'city': '안산', 'tmEf': '2021-05-25 00:00', 'wf': '맑음', 'tmn': '13', 'tmx': '23', 'rnSt': '10'}, {'province': '서울ㆍ인천ㆍ경기도', 'city': '안산', 'tmEf': '2021-05-25 12:00', 'wf': '맑음', 'tmn': '13', 'tmx': '23', 'rnSt': '20'}, {'province': '서울ㆍ인천ㆍ경기도', 'city': '안산', 'tmEf': '2021-05-26 00:00', 'wf': '맑음', 'tmn': '12', 'tmx': '24', 'rnSt': '10'}, {'province': '서울ㆍ인천ㆍ경기도', 'city': '안산', 'tmEf': '2021-05-26 12:00', 'wf': '맑음', 'tmn': '12', 'tmx': '24', 'rnSt': '10'}, {'province': '서울ㆍ인천ㆍ경기도', 'city': '안산', 'tmEf': '2021-05-27 00:00', 'wf': '구름많음', 'tmn': '13', 'tmx': '25', 'rnSt': '30'}, {'province': '서울ㆍ인천ㆍ경기도', 'city': '안산', 'tmEf': '2021-05-27 12:00', 'wf': '구름많음', 'tmn': '13', 'tmx': '25', 'rnSt': '30'}, {'province': '서울ㆍ인천ㆍ경기도', 'city': '안산', 'tmEf': '2021-05-28 00:00', 'wf': '구름많음', 'tmn': '14', 'tmx': '25', 'rnSt': '40'}, {'province': '서울ㆍ인천ㆍ경기도', 'city': '안산', 'tmEf': '2021-05-29 00:00', 'wf': '맑음', 'tmn': '14', 'tmx': '23', 'rnSt': '20'}, {'province': '서울ㆍ인천ㆍ경기도', 'city': '안산', 'tmEf': '2021-05-30 00:00', 'wf': '맑음', 'tmn': '13', 'tmx': '25', 'rnSt': '20'}, {'province': '서울ㆍ인천ㆍ경기도', 'city': '부천', 'tmEf': '2021-05-23 00:00', 'wf': '구름많음', 'tmn': '15', 'tmx': '25', 'rnSt': '20'}, {'province': '서울ㆍ인천ㆍ경기도', 'city': '부천', 'tmEf': '2021-05-23 12:00', 'wf': '구름많음', 'tmn': '15', 'tmx': '25', 'rnSt': '30'}, {'province': '서울ㆍ인천ㆍ경기도', 'city': '부천', 'tmEf': '2021-05-24 00:00', 'wf': '구름많음', 'tmn': '15', 'tmx': '23', 'rnSt': '30'}, {'province': '서울ㆍ인천ㆍ경기도', 'city': '부천', 'tmEf': '2021-05-24 12:00', 'wf': '맑음', 'tmn': '15', 'tmx': '23', 'rnSt': '10'}, {'province': '서울ㆍ인천ㆍ경기도', 'city': '부천', 'tmEf': '2021-05-25 00:00', 'wf': '맑음', 'tmn': '14', 'tmx': '21', 'rnSt': '10'}, {'province': '서울ㆍ인천ㆍ경기도', 'city': '부천', 'tmEf': '2021-05-25 12:00', 'wf': '맑음', 'tmn': '14', 'tmx': '21', 'rnSt': '20'}, {'province': '서울ㆍ인천ㆍ경기도', 'city': '부천', 'tmEf': '2021-05-26 00:00', 'wf': '맑음', 'tmn': '13', 'tmx': '22', 'rnSt': '10'}, {'province': '서울ㆍ인천ㆍ경기도', 'city': '부천', 'tmEf': '2021-05-26 12:00', 'wf': '맑음', 'tmn': '13', 'tmx': '22', 'rnSt': '10'}, {'province': '서울ㆍ인천ㆍ경기도', 'city': '부천', 'tmEf': '2021-05-27 00:00', 'wf': '구름많음', 'tmn': '15', 'tmx': '24', 'rnSt': '30'}, {'province': '서울ㆍ인천ㆍ경기도', 'city': '부천', 'tmEf': '2021-05-27 12:00', 'wf': '구름많음', 'tmn': '15', 'tmx': '24', 'rnSt': '30'}, {'province': '서울ㆍ인천ㆍ경기도', 'city': '부천', 'tmEf': '2021-05-28 00:00', 'wf': '구름많음', 'tmn': '15', 'tmx': '23', 'rnSt': '40'}, {'province': '서울ㆍ인천ㆍ경기도', 'city': '부천', 'tmEf': '2021-05-29 00:00', 'wf': '맑음', 'tmn': '16', 'tmx': '24', 'rnSt': '20'}, {'province': '서울ㆍ인천ㆍ경기도', 'city': '부천', 'tmEf': '2021-05-30 00:00', 'wf': '맑음', 'tmn': '17', 'tmx': '25', 'rnSt': '20'}, {'province': '서울ㆍ인천ㆍ경기도', 'city': '의정부', 'tmEf': '2021-05-23 00:00', 'wf': '구름많음', 'tmn': '13', 'tmx': '25', 'rnSt': '20'}, {'province': '서울ㆍ인천ㆍ경기도', 'city': '의정부', 'tmEf': '2021-05-23 12:00', 'wf': '구름많음', 'tmn': '13', 'tmx': '25', 'rnSt': '30'}, {'province': '서울ㆍ인천ㆍ경기도', 'city': '의정부', 'tmEf': '2021-05-24 00:00', 'wf': '구름많음', 'tmn': '14', 'tmx': '25', 'rnSt': '30'}, {'province': '서울ㆍ인천ㆍ경기도', 'city': '의정부', 'tmEf': '2021-05-24 12:00', 'wf': '맑음', 'tmn': '14', 'tmx': '25', 'rnSt': '10'}, {'province': '서울ㆍ인천ㆍ경기도', 'city': '의정부', 'tmEf': '2021-05-25 00:00', 'wf': '맑음', 'tmn': '12', 'tmx': '22', 'rnSt': '10'}, {'province': '서울ㆍ인천ㆍ경기도', 'city': '의정부', 'tmEf': '2021-05-25 12:00', 'wf': '맑음', 'tmn': '12', 'tmx': '22', 'rnSt': '20'}, {'province': '서울ㆍ인천ㆍ경기도', 'city': '의정부', 'tmEf': '2021-05-26 00:00', 'wf': '맑음', 'tmn': '10', 'tmx': '24', 'rnSt': '10'}, {'province': '서울ㆍ인천ㆍ경기도', 'city': '의정부', 'tmEf': '2021-05-26 12:00', 'wf': '맑음', 'tmn': '10', 'tmx': '24', 'rnSt': '10'}, {'province': '서울ㆍ인천ㆍ경기도', 'city': '의정부', 'tmEf': '2021-05-27 00:00', 'wf': '구름많음', 'tmn': '12', 'tmx': '25', 'rnSt': '30'}, {'province': '서울ㆍ인천ㆍ경기도', 'city': '의정부', 'tmEf': '2021-05-27 12:00', 'wf': '구름많음', 'tmn': '12', 'tmx': '25', 'rnSt': '30'}, {'province': '서울ㆍ인천ㆍ경기도', 'city': '의정부', 'tmEf': '2021-05-28 00:00', 'wf': '구름많음', 'tmn': '13', 'tmx': '24', 'rnSt': '40'}, {'province': '서울ㆍ인천ㆍ경기도', 'city': '의정부', 'tmEf': '2021-05-29 00:00', 'wf': '맑음', 'tmn': '14', 'tmx': '24', 'rnSt': '20'}, {'province': '서울ㆍ인천ㆍ경기도', 'city': '의정부', 'tmEf': '2021-05-30 00:00', 'wf': '맑음', 'tmn': '16', 'tmx': '27', 'rnSt': '20'}, {'province': '서울ㆍ인천ㆍ경기도', 'city': '고양', 'tmEf': '2021-05-23 00:00', 'wf': '구름많음', 'tmn': '13', 'tmx': '25', 'rnSt': '20'}, {'province': '서울ㆍ인천ㆍ경기도', 'city': '고양', 'tmEf': '2021-05-23 12:00', 'wf': '구름많음', 'tmn': '13', 'tmx': '25', 'rnSt': '30'}, {'province': '서울ㆍ인천ㆍ경기도', 'city': '고양', 'tmEf': '2021-05-24 00:00', 'wf': '구름많음', 'tmn': '14', 'tmx': '25', 'rnSt': '30'}, {'province': '서울ㆍ인천ㆍ경기도', 'city': '고양', 'tmEf': '2021-05-24 12:00', 'wf': '맑음', 'tmn': '14', 'tmx': '25', 'rnSt': '10'}, {'province': '서울ㆍ인천ㆍ경기도', 'city': '고양', 'tmEf': '2021-05-25 00:00', 'wf': '맑음', 'tmn': '12', 'tmx': '23', 'rnSt': '10'}, {'province': '서울ㆍ인천ㆍ경기도', 'city': '고양', 'tmEf': '2021-05-25 12:00', 'wf': '맑음', 'tmn': '12', 'tmx': '23', 'rnSt': '20'}, {'province': '서울ㆍ인천ㆍ경기도', 'city': '고양', 'tmEf': '2021-05-26 00:00', 'wf': '맑음', 'tmn': '11', 'tmx': '25', 'rnSt': '10'}, {'province': '서울ㆍ인천ㆍ경기도', 'city': '고양', 'tmEf': '2021-05-26 12:00', 'wf': '맑음', 'tmn': '11', 'tmx': '25', 'rnSt': '10'}, {'province': '서울ㆍ인천ㆍ경기도', 'city': '고양', 'tmEf': '2021-05-27 00:00', 'wf': '구름많음', 'tmn': '12', 'tmx': '25', 'rnSt': '30'}, {'province': '서울ㆍ인천ㆍ경기도', 'city': '고양', 'tmEf': '2021-05-27 12:00', 'wf': '구름많음', 'tmn': '12', 'tmx': '25', 'rnSt': '30'}, {'province': '서울ㆍ인천ㆍ경기도', 'city': '고양', 'tmEf': '2021-05-28 00:00', 'wf': '구름많음', 'tmn': '13', 'tmx': '24', 'rnSt': '40'}, {'province': '서울ㆍ인천ㆍ경기도', 'city': '고양', 'tmEf': '2021-05-29 00:00', 'wf': '맑음', 'tmn': '13', 'tmx': '24', 'rnSt': '20'}, {'province': '서울ㆍ인천ㆍ경기도', 'city': '고양', 'tmEf': '2021-05-30 00:00', 'wf': '맑음', 'tmn': '14', 'tmx': '26', 'rnSt': '20'}, {'province': '서울ㆍ인천ㆍ경기도', 'city': '양주', 'tmEf': '2021-05-23 00:00', 'wf': '구름많음', 'tmn': '12', 'tmx': '25', 'rnSt': '20'}, {'province': '서울ㆍ인천ㆍ경기도', 'city': '양주', 'tmEf': '2021-05-23 12:00', 'wf': '구름많음', 'tmn': '12', 'tmx': '25', 'rnSt': '30'}, {'province': '서울ㆍ인천ㆍ경기도', 'city': '양주', 'tmEf': '2021-05-24 00:00', 'wf': '구름많음', 'tmn': '13', 'tmx': '24', 'rnSt': '30'}, {'province': '서울ㆍ인천ㆍ경기도', 'city': '양주', 'tmEf': '2021-05-24 12:00', 'wf': '맑음', 'tmn': '13', 'tmx': '24', 'rnSt': '10'}, {'province': '서울ㆍ인천ㆍ경기도', 'city': '양주', 'tmEf': '2021-05-25 00:00', 'wf': '맑음', 'tmn': '12', 'tmx': '22', 'rnSt': '10'}, {'province': '서울ㆍ인천ㆍ경기도', 'city': '양주', 'tmEf': '2021-05-25 12:00', 'wf': '맑음', 'tmn': '12', 'tmx': '22', 'rnSt': '20'}, {'province': '서울ㆍ인천ㆍ경기도', 'city': '양주', 'tmEf': '2021-05-26 00:00', 'wf': '맑음', 'tmn': '10', 'tmx': '23', 'rnSt': '10'}, {'province': '서울ㆍ인천ㆍ경기도', 'city': '양주', 'tmEf': '2021-05-26 12:00', 'wf': '맑음', 'tmn': '10', 'tmx': '23', 'rnSt': '10'}, {'province': '서울ㆍ인천ㆍ경기도', 'city': '양주', 'tmEf': '2021-05-27 00:00', 'wf': '구름많음', 'tmn': '11', 'tmx': '25', 'rnSt': '30'}, {'province': '서울ㆍ인천ㆍ경기도', 'city': '양주', 'tmEf': '2021-05-27 12:00', 'wf': '구름많음', 'tmn': '11', 'tmx': '25', 'rnSt': '30'}, {'province': '서울ㆍ인천ㆍ경기도', 'city': '양주', 'tmEf': '2021-05-28 00:00', 'wf': '구름많음', 'tmn': '13', 'tmx': '24', 'rnSt': '40'}, {'province': '서울ㆍ인천ㆍ경기도', 'city': '양주', 'tmEf': '2021-05-29 00:00', 'wf': '맑음', 'tmn': '13', 'tmx': '23', 'rnSt': '20'}, {'province': '서울ㆍ인천ㆍ경기도', 'city': '양주', 'tmEf': '2021-05-30 00:00', 'wf': '맑음', 'tmn': '14', 'tmx': '26', 'rnSt': '20'}, {'province': '서울ㆍ인천ㆍ경기도', 'city': '동두천', 'tmEf': '2021-05-23 00:00', 'wf': '구름많음', 'tmn': '13', 'tmx': '26', 'rnSt': '20'}, {'province': '서울ㆍ인천ㆍ경기도', 'city': '동두천', 'tmEf': '2021-05-23 12:00', 'wf': '구름많음', 'tmn': '13', 'tmx': '26', 'rnSt': '30'}, {'province': '서울ㆍ인천ㆍ경기도', 'city': '동두천', 'tmEf': '2021-05-24 00:00', 'wf': '구름많음', 'tmn': '14', 'tmx': '25', 'rnSt': '30'}, {'province': '서울ㆍ인천ㆍ경기도', 'city': '동두천', 'tmEf': '2021-05-24 12:00', 'wf': '맑음', 'tmn': '14', 'tmx': '25', 'rnSt': '10'}, {'province': '서울ㆍ인천ㆍ경기도', 'city': '동두천', 'tmEf': '2021-05-25 00:00', 'wf': '맑음', 'tmn': '12', 'tmx': '23', 'rnSt': '10'}, {'province': '서울ㆍ인천ㆍ경기도', 'city': '동두천', 'tmEf': '2021-05-25 12:00', 'wf': '맑음', 'tmn': '12', 'tmx': '23', 'rnSt': '20'}, {'province': '서울ㆍ인천ㆍ경기도', 'city': '동두천', 'tmEf': '2021-05-26 00:00', 'wf': '맑음', 'tmn': '11', 'tmx': '24', 'rnSt': '10'}, {'province': '서울ㆍ인천ㆍ경기도', 'city': '동두천', 'tmEf': '2021-05-26 12:00', 'wf': '맑음', 'tmn': '11', 'tmx': '24', 'rnSt': '10'}, {'province': '서울ㆍ인천ㆍ경기도', 'city': '동두천', 'tmEf': '2021-05-27 00:00', 'wf': '구름많음', 'tmn': '13', 'tmx': '25', 'rnSt': '30'}, {'province': '서울ㆍ인천ㆍ경기도', 'city': '동두천', 'tmEf': '2021-05-27 12:00', 'wf': '구름많음', 'tmn': '13', 'tmx': '25', 'rnSt': '30'}, {'province': '서울ㆍ인천ㆍ경기도', 'city': '동두천', 'tmEf': '2021-05-28 00:00', 'wf': '구름많음', 'tmn': '13', 'tmx': '25', 'rnSt': '40'}, {'province': '서울ㆍ인천ㆍ경기도', 'city': '동두천', 'tmEf': '2021-05-29 00:00', 'wf': '맑음', 'tmn': '13', 'tmx': '24', 'rnSt': '20'}, {'province': '서울ㆍ인천ㆍ경기도', 'city': '동두천', 'tmEf': '2021-05-30 00:00', 'wf': '맑음', 'tmn': '14', 'tmx': '26', 'rnSt': '20'}, {'province': '서울ㆍ인천ㆍ경기도', 'city': '연천', 'tmEf': '2021-05-23 00:00', 'wf': '구름많음', 'tmn': '11', 'tmx': '25', 'rnSt': '20'}, {'province': '서울ㆍ인천ㆍ경기도', 'city': '연천', 'tmEf': '2021-05-23 12:00', 'wf': '구름많음', 'tmn': '11', 'tmx': '25', 'rnSt': '30'}, {'province': '서울ㆍ인천ㆍ경기도', 'city': '연천', 'tmEf': '2021-05-24 00:00', 'wf': '구름많음', 'tmn': '12', 'tmx': '24', 'rnSt': '30'}, {'province': '서울ㆍ인천ㆍ경기도', 'city': '연천', 'tmEf': '2021-05-24 12:00', 'wf': '맑음', 'tmn': '12', 'tmx': '24', 'rnSt': '10'}, {'province': '서울ㆍ인천ㆍ경기도', 'city': '연천', 'tmEf': '2021-05-25 00:00', 'wf': '맑음', 'tmn': '11', 'tmx': '21', 'rnSt': '10'}, {'province': '서울ㆍ인천ㆍ경기도', 'city': '연천', 'tmEf': '2021-05-25 12:00', 'wf': '맑음', 'tmn': '11', 'tmx': '21', 'rnSt': '20'}, {'province': '서울ㆍ인천ㆍ경기도', 'city': '연천', 'tmEf': '2021-05-26 00:00', 'wf': '맑음', 'tmn': '8', 'tmx': '24', 'rnSt': '10'}, {'province': '서울ㆍ인천ㆍ경기도', 'city': '연천', 'tmEf': '2021-05-26 12:00', 'wf': '맑음', 'tmn': '8', 'tmx': '24', 'rnSt': '10'}, {'province': '서울ㆍ인천ㆍ경기도', 'city': '연천', 'tmEf': '2021-05-27 00:00', 'wf': '구름많음', 'tmn': '10', 'tmx': '24', 'rnSt': '30'}, {'province': '서울ㆍ인천ㆍ경기도', 'city': '연천', 'tmEf': '2021-05-27 12:00', 'wf': '구름많음', 'tmn': '10', 'tmx': '24', 'rnSt': '30'}, {'province': '서울ㆍ인천ㆍ경기도', 'city': '연천', 'tmEf': '2021-05-28 00:00', 'wf': '구름많음', 'tmn': '12', 'tmx': '23', 'rnSt': '40'}, {'province': '서울ㆍ인천ㆍ경기도', 'city': '연천', 'tmEf': '2021-05-29 00:00', 'wf': '맑음', 'tmn': '12', 'tmx': '21', 'rnSt': '20'}, {'province': '서울ㆍ인천ㆍ경기도', 'city': '연천', 'tmEf': '2021-05-30 00:00', 'wf': '맑음', 'tmn': '13', 'tmx': '26', 'rnSt': '20'}, {'province': '서울ㆍ인천ㆍ경기도', 'city': '포천', 'tmEf': '2021-05-23 00:00', 'wf': '구름많음', 'tmn': '12', 'tmx': '26', 'rnSt': '20'}, {'province': '서울ㆍ인천ㆍ경기도', 'city': '포천', 'tmEf': '2021-05-23 12:00', 'wf': '구름많음', 'tmn': '12', 'tmx': '26', 'rnSt': '30'}, {'province': '서울ㆍ인천ㆍ경기도', 'city': '포천', 'tmEf': '2021-05-24 00:00', 'wf': '구름많음', 'tmn': '13', 'tmx': '24', 'rnSt': '30'}, {'province': '서울ㆍ인천ㆍ경기도', 'city': '포천', 'tmEf': '2021-05-24 12:00', 'wf': '맑음', 'tmn': '13', 'tmx': '24', 'rnSt': '10'}, {'province': '서울ㆍ인천ㆍ경기도', 'city': '포천', 'tmEf': '2021-05-25 00:00', 'wf': '맑음', 'tmn': '12', 'tmx': '22', 'rnSt': '10'}, {'province': '서울ㆍ인천ㆍ경기도', 'city': '포천', 'tmEf': '2021-05-25 12:00', 'wf': '맑음', 'tmn': '12', 'tmx': '22', 'rnSt': '20'}, {'province': '서울ㆍ인천ㆍ경기도', 'city': '포천', 'tmEf': '2021-05-26 00:00', 'wf': '맑음', 'tmn': '10', 'tmx': '24', 'rnSt': '10'}, {'province': '서울ㆍ인천ㆍ경기도', 'city': '포천', 'tmEf': '2021-05-26 12:00', 'wf': '맑음', 'tmn': '10', 'tmx': '24', 'rnSt': '10'}, {'province': '서울ㆍ인천ㆍ경기도', 'city': '포천', 'tmEf': '2021-05-27 00:00', 'wf': '구름많음', 'tmn': '12', 'tmx': '25', 'rnSt': '30'}, {'province': '서울ㆍ인천ㆍ경기도', 'city': '포천', 'tmEf': '2021-05-27 12:00', 'wf': '구름많음', 'tmn': '12', 'tmx': '25', 'rnSt': '30'}, {'province': '서울ㆍ인천ㆍ경기도', 'city': '포천', 'tmEf': '2021-05-28 00:00', 'wf': '구름많음', 'tmn': '13', 'tmx': '24', 'rnSt': '40'}, {'province': '서울ㆍ인천ㆍ경기도', 'city': '포천', 'tmEf': '2021-05-29 00:00', 'wf': '맑음', 'tmn': '13', 'tmx': '24', 'rnSt': '20'}, {'province': '서울ㆍ인천ㆍ경기도', 'city': '포천', 'tmEf': '2021-05-30 00:00', 'wf': '맑음', 'tmn': '15', 'tmx': '27', 'rnSt': '20'}, {'province': '서울ㆍ인천ㆍ경기도', 'city': '가평', 'tmEf': '2021-05-23 00:00', 'wf': '구름많음', 'tmn': '11', 'tmx': '28', 'rnSt': '20'}, {'province': '서울ㆍ인천ㆍ경기도', 'city': '가평', 'tmEf': '2021-05-23 12:00', 'wf': '구름많음', 'tmn': '11', 'tmx': '28', 'rnSt': '30'}, {'province': '서울ㆍ인천ㆍ경기도', 'city': '가평', 'tmEf': '2021-05-24 00:00', 'wf': '구름많음', 'tmn': '12', 'tmx': '27', 'rnSt': '30'}, {'province': '서울ㆍ인천ㆍ경기도', 'city': '가평', 'tmEf': '2021-05-24 12:00', 'wf': '맑음', 'tmn': '12', 'tmx': '27', 'rnSt': '10'}, {'province': '서울ㆍ인천ㆍ경기도', 'city': '가평', 'tmEf': '2021-05-25 00:00', 'wf': '맑음', 'tmn': '10', 'tmx': '23', 'rnSt': '10'}, {'province': '서울ㆍ인천ㆍ경기도', 'city': '가평', 'tmEf': '2021-05-25 12:00', 'wf': '맑음', 'tmn': '10', 'tmx': '23', 'rnSt': '20'}, {'province': '서울ㆍ인천ㆍ경기도', 'city': '가평', 'tmEf': '2021-05-26 00:00', 'wf': '맑음', 'tmn': '9', 'tmx': '24', 'rnSt': '10'}, {'province': '서울ㆍ인천ㆍ경기도', 'city': '가평', 'tmEf': '2021-05-26 12:00', 'wf': '맑음', 'tmn': '9', 'tmx': '24', 'rnSt': '10'}, {'province': '서울ㆍ인천ㆍ경기도', 'city': '가평', 'tmEf': '2021-05-27 00:00', 'wf': '구름많음', 'tmn': '10', 'tmx': '25', 'rnSt': '30'}, {'province': '서울ㆍ인천ㆍ경기도', 'city': '가평', 'tmEf': '2021-05-27 12:00', 'wf': '구름많음', 'tmn': '10', 'tmx': '25', 'rnSt': '30'}, {'province': '서울ㆍ인천ㆍ경기도', 'city': '가평', 'tmEf': '2021-05-28 00:00', 'wf': '구름많음', 'tmn': '12', 'tmx': '24', 'rnSt': '40'}, {'province': '서울ㆍ인천ㆍ경기도', 'city': '가평', 'tmEf': '2021-05-29 00:00', 'wf': '맑음', 'tmn': '11', 'tmx': '23', 'rnSt': '20'}, {'province': '서울ㆍ인천ㆍ경기도', 'city': '가평', 'tmEf': '2021-05-30 00:00', 'wf': '맑음', 'tmn': '13', 'tmx': '27', 'rnSt': '20'}, {'province': '서울ㆍ인천ㆍ경기도', 'city': '구리', 'tmEf': '2021-05-23 00:00', 'wf': '구름많음', 'tmn': '14', 'tmx': '26', 'rnSt': '20'}, {'province': '서울ㆍ인천ㆍ경기도', 'city': '구리', 'tmEf': '2021-05-23 12:00', 'wf': '구름많음', 'tmn': '14', 'tmx': '26', 'rnSt': '30'}, {'province': '서울ㆍ인천ㆍ경기도', 'city': '구리', 'tmEf': '2021-05-24 00:00', 'wf': '구름많음', 'tmn': '15', 'tmx': '25', 'rnSt': '30'}, {'province': '서울ㆍ인천ㆍ경기도', 'city': '구리', 'tmEf': '2021-05-24 12:00', 'wf': '맑음', 'tmn': '15', 'tmx': '25', 'rnSt': '10'}, {'province': '서울ㆍ인천ㆍ경기도', 'city': '구리', 'tmEf': '2021-05-25 00:00', 'wf': '맑음', 'tmn': '13', 'tmx': '24', 'rnSt': '10'}, {'province': '서울ㆍ인천ㆍ경기도', 'city': '구리', 'tmEf': '2021-05-25 12:00', 'wf': '맑음', 'tmn': '13', 'tmx': '24', 'rnSt': '20'}, {'province': '서울ㆍ인천ㆍ경기도', 'city': '구리', 'tmEf': '2021-05-26 00:00', 'wf': '맑음', 'tmn': '13', 'tmx': '24', 'rnSt': '10'}, {'province': '서울ㆍ인천ㆍ경기도', 'city': '구리', 'tmEf': '2021-05-26 12:00', 'wf': '맑음', 'tmn': '13', 'tmx': '24', 'rnSt': '10'}, {'province': '서울ㆍ인천ㆍ경기도', 'city': '구리', 'tmEf': '2021-05-27 00:00', 'wf': '구름많음', 'tmn': '13', 'tmx': '26', 'rnSt': '30'}, {'province': '서울ㆍ인천ㆍ경기도', 'city': '구리', 'tmEf': '2021-05-27 12:00', 'wf': '구름많음', 'tmn': '13', 'tmx': '26', 'rnSt': '30'}, {'province': '서울ㆍ인천ㆍ경기도', 'city': '구리', 'tmEf': '2021-05-28 00:00', 'wf': '구름많음', 'tmn': '14', 'tmx': '24', 'rnSt': '40'}, {'province': '서울ㆍ인천ㆍ경기도', 'city': '구리', 'tmEf': '2021-05-29 00:00', 'wf': '맑음', 'tmn': '14', 'tmx': '24', 'rnSt': '20'}, {'province': '서울ㆍ인천ㆍ경기도', 'city': '구리', 'tmEf': '2021-05-30 00:00', 'wf': '맑음', 'tmn': '16', 'tmx': '26', 'rnSt': '20'}, {'province': '서울ㆍ인천ㆍ경기도', 'city': '남양주', 'tmEf': '2021-05-23 00:00', 'wf': '구름많음', 'tmn': '13', 'tmx': '25', 'rnSt': '20'}, {'province': '서울ㆍ인천ㆍ경기도', 'city': '남양주', 'tmEf': '2021-05-23 12:00', 'wf': '구름많음', 'tmn': '13', 'tmx': '25', 'rnSt': '30'}, {'province': '서울ㆍ인천ㆍ경기도', 'city': '남양주', 'tmEf': '2021-05-24 00:00', 'wf': '구름많음', 'tmn': '13', 'tmx': '24', 'rnSt': '30'}, {'province': '서울ㆍ인천ㆍ경기도', 'city': '남양주', 'tmEf': '2021-05-24 12:00', 'wf': '맑음', 'tmn': '13', 'tmx': '24', 'rnSt': '10'}, {'province': '서울ㆍ인천ㆍ경기도', 'city': '남양주', 'tmEf': '2021-05-25 00:00', 'wf': '맑음', 'tmn': '11', 'tmx': '22', 'rnSt': '10'}, {'province': '서울ㆍ인천ㆍ경기도', 'city': '남양주', 'tmEf': '2021-05-25 12:00', 'wf': '맑음', 'tmn': '11', 'tmx': '22', 'rnSt': '20'}, {'province': '서울ㆍ인천ㆍ경기도', 'city': '남양주', 'tmEf': '2021-05-26 00:00', 'wf': '맑음', 'tmn': '10', 'tmx': '24', 'rnSt': '10'}, {'province': '서울ㆍ인천ㆍ경기도', 'city': '남양주', 'tmEf': '2021-05-26 12:00', 'wf': '맑음', 'tmn': '10', 'tmx': '24', 'rnSt': '10'}, {'province': '서울ㆍ인천ㆍ경기도', 'city': '남양주', 'tmEf': '2021-05-27 00:00', 'wf': '구름많음', 'tmn': '11', 'tmx': '25', 'rnSt': '30'}, {'province': '서울ㆍ인천ㆍ경기도', 'city': '남양주', 'tmEf': '2021-05-27 12:00', 'wf': '구름많음', 'tmn': '11', 'tmx': '25', 'rnSt': '30'}, {'province': '서울ㆍ인천ㆍ경기도', 'city': '남양주', 'tmEf': '2021-05-28 00:00', 'wf': '구름많음', 'tmn': '12', 'tmx': '24', 'rnSt': '40'}, {'province': '서울ㆍ인천ㆍ경기도', 'city': '남양주', 'tmEf': '2021-05-29 00:00', 'wf': '맑음', 'tmn': '13', 'tmx': '23', 'rnSt': '20'}, {'province': '서울ㆍ인천ㆍ경기도', 'city': '남양주', 'tmEf': '2021-05-30 00:00', 'wf': '맑음', 'tmn': '14', 'tmx': '27', 'rnSt': '20'}, {'province': '서울ㆍ인천ㆍ경기도', 'city': '양평', 'tmEf': '2021-05-23 00:00', 'wf': '구름많음', 'tmn': '13', 'tmx': '27', 'rnSt': '20'}, {'province': '서울ㆍ인천ㆍ경기도', 'city': '양평', 'tmEf': '2021-05-23 12:00', 'wf': '구름많음', 'tmn': '13', 'tmx': '27', 'rnSt': '30'}, {'province': '서울ㆍ인천ㆍ경기도', 'city': '양평', 'tmEf': '2021-05-24 00:00', 'wf': '구름많음', 'tmn': '14', 'tmx': '25', 'rnSt': '30'}, {'province': '서울ㆍ인천ㆍ경기도', 'city': '양평', 'tmEf': '2021-05-24 12:00', 'wf': '맑음', 'tmn': '14', 'tmx': '25', 'rnSt': '10'}, {'province': '서울ㆍ인천ㆍ경기도', 'city': '양평', 'tmEf': '2021-05-25 00:00', 'wf': '맑음', 'tmn': '12', 'tmx': '24', 'rnSt': '10'}, {'province': '서울ㆍ인천ㆍ경기도', 'city': '양평', 'tmEf': '2021-05-25 12:00', 'wf': '맑음', 'tmn': '12', 'tmx': '24', 'rnSt': '20'}, {'province': '서울ㆍ인천ㆍ경기도', 'city': '양평', 'tmEf': '2021-05-26 00:00', 'wf': '맑음', 'tmn': '11', 'tmx': '24', 'rnSt': '10'}, {'province': '서울ㆍ인천ㆍ경기도', 'city': '양평', 'tmEf': '2021-05-26 12:00', 'wf': '맑음', 'tmn': '11', 'tmx': '24', 'rnSt': '10'}, {'province': '서울ㆍ인천ㆍ경기도', 'city': '양평', 'tmEf': '2021-05-27 00:00', 'wf': '구름많음', 'tmn': '12', 'tmx': '26', 'rnSt': '30'}, {'province': '서울ㆍ인천ㆍ경기도', 'city': '양평', 'tmEf': '2021-05-27 12:00', 'wf': '구름많음', 'tmn': '12', 'tmx': '26', 'rnSt': '30'}, {'province': '서울ㆍ인천ㆍ경기도', 'city': '양평', 'tmEf': '2021-05-28 00:00', 'wf': '구름많음', 'tmn': '14', 'tmx': '25', 'rnSt': '40'}, {'province': '서울ㆍ인천ㆍ경기도', 'city': '양평', 'tmEf': '2021-05-29 00:00', 'wf': '맑음', 'tmn': '13', 'tmx': '23', 'rnSt': '20'}, {'province': '서울ㆍ인천ㆍ경기도', 'city': '양평', 'tmEf': '2021-05-30 00:00', 'wf': '맑음', 'tmn': '14', 'tmx': '26', 'rnSt': '20'}, {'province': '서울ㆍ인천ㆍ경기도', 'city': '하남', 'tmEf': '2021-05-23 00:00', 'wf': '구름많음', 'tmn': '14', 'tmx': '26', 'rnSt': '20'}, {'province': '서울ㆍ인천ㆍ경기도', 'city': '하남', 'tmEf': '2021-05-23 12:00', 'wf': '구름많음', 'tmn': '14', 'tmx': '26', 'rnSt': '30'}, {'province': '서울ㆍ인천ㆍ경기도', 'city': '하남', 'tmEf': '2021-05-24 00:00', 'wf': '구름많음', 'tmn': '15', 'tmx': '25', 'rnSt': '30'}, {'province': '서울ㆍ인천ㆍ경기도', 'city': '하남', 'tmEf': '2021-05-24 12:00', 'wf': '맑음', 'tmn': '15', 'tmx': '25', 'rnSt': '10'}, {'province': '서울ㆍ인천ㆍ경기도', 'city': '하남', 'tmEf': '2021-05-25 00:00', 'wf': '맑음', 'tmn': '13', 'tmx': '24', 'rnSt': '10'}, {'province': '서울ㆍ인천ㆍ경기도', 'city': '하남', 'tmEf': '2021-05-25 12:00', 'wf': '맑음', 'tmn': '13', 'tmx': '24', 'rnSt': '20'}, {'province': '서울ㆍ인천ㆍ경기도', 'city': '하남', 'tmEf': '2021-05-26 00:00', 'wf': '맑음', 'tmn': '12', 'tmx': '24', 'rnSt': '10'}, {'province': '서울ㆍ인천ㆍ경기도', 'city': '하남', 'tmEf': '2021-05-26 12:00', 'wf': '맑음', 'tmn': '12', 'tmx': '24', 'rnSt': '10'}, {'province': '서울ㆍ인천ㆍ경기도', 'city': '하남', 'tmEf': '2021-05-27 00:00', 'wf': '구름많음', 'tmn': '13', 'tmx': '26', 'rnSt': '30'}, {'province': '서울ㆍ인천ㆍ경기도', 'city': '하남', 'tmEf': '2021-05-27 12:00', 'wf': '구름많음', 'tmn': '13', 'tmx': '26', 'rnSt': '30'}, {'province': '서울ㆍ인천ㆍ경기도', 'city': '하남', 'tmEf': '2021-05-28 00:00', 'wf': '구름많음', 'tmn': '14', 'tmx': '24', 'rnSt': '40'}, {'province': '서울ㆍ인천ㆍ경기도', 'city': '하남', 'tmEf': '2021-05-29 00:00', 'wf': '맑음', 'tmn': '14', 'tmx': '24', 'rnSt': '20'}, {'province': '서울ㆍ인천ㆍ경기도', 'city': '하남', 'tmEf': '2021-05-30 00:00', 'wf': '맑음', 'tmn': '15', 'tmx': '26', 'rnSt': '20'}, {'province': '서울ㆍ인천ㆍ경기도', 'city': '안양', 'tmEf': '2021-05-23 00:00', 'wf': '구름많음', 'tmn': '15', 'tmx': '25', 'rnSt': '20'}, {'province': '서울ㆍ인천ㆍ경기도', 'city': '안양', 'tmEf': '2021-05-23 12:00', 'wf': '구름많음', 'tmn': '15', 'tmx': '25', 'rnSt': '30'}, {'province': '서울ㆍ인천ㆍ경기도', 'city': '안양', 'tmEf': '2021-05-24 00:00', 'wf': '구름많음', 'tmn': '16', 'tmx': '24', 'rnSt': '30'}, {'province': '서울ㆍ인천ㆍ경기도', 'city': '안양', 'tmEf': '2021-05-24 12:00', 'wf': '맑음', 'tmn': '16', 'tmx': '24', 'rnSt': '10'}, {'province': '서울ㆍ인천ㆍ경기도', 'city': '안양', 'tmEf': '2021-05-25 00:00', 'wf': '맑음', 'tmn': '15', 'tmx': '22', 'rnSt': '10'}, {'province': '서울ㆍ인천ㆍ경기도', 'city': '안양', 'tmEf': '2021-05-25 12:00', 'wf': '맑음', 'tmn': '15', 'tmx': '22', 'rnSt': '20'}, {'province': '서울ㆍ인천ㆍ경기도', 'city': '안양', 'tmEf': '2021-05-26 00:00', 'wf': '맑음', 'tmn': '13', 'tmx': '23', 'rnSt': '10'}, {'province': '서울ㆍ인천ㆍ경기도', 'city': '안양', 'tmEf': '2021-05-26 12:00', 'wf': '맑음', 'tmn': '13', 'tmx': '23', 'rnSt': '10'}, {'province': '서울ㆍ인천ㆍ경기도', 'city': '안양', 'tmEf': '2021-05-27 00:00', 'wf': '구름많음', 'tmn': '15', 'tmx': '24', 'rnSt': '30'}, {'province': '서울ㆍ인천ㆍ경기도', 'city': '안양', 'tmEf': '2021-05-27 12:00', 'wf': '구름많음', 'tmn': '15', 'tmx': '24', 'rnSt': '30'}, {'province': '서울ㆍ인천ㆍ경기도', 'city': '안양', 'tmEf': '2021-05-28 00:00', 'wf': '구름많음', 'tmn': '15', 'tmx': '22', 'rnSt': '40'}, {'province': '서울ㆍ인천ㆍ경기도', 'city': '안양', 'tmEf': '2021-05-29 00:00', 'wf': '맑음', 'tmn': '15', 'tmx': '21', 'rnSt': '20'}, {'province': '서울ㆍ인천ㆍ경기도', 'city': '안양', 'tmEf': '2021-05-30 00:00', 'wf': '맑음', 'tmn': '13', 'tmx': '25', 'rnSt': '20'}, {'province': '서울ㆍ인천ㆍ경기도', 'city': '오산', 'tmEf': '2021-05-23 00:00', 'wf': '구름많음', 'tmn': '13', 'tmx': '25', 'rnSt': '20'}, {'province': '서울ㆍ인천ㆍ경기도', 'city': '오산', 'tmEf': '2021-05-23 12:00', 'wf': '구름많음', 'tmn': '13', 'tmx': '25', 'rnSt': '30'}, {'province': '서울ㆍ인천ㆍ경기도', 'city': '오산', 'tmEf': '2021-05-24 00:00', 'wf': '구름많음', 'tmn': '14', 'tmx': '25', 'rnSt': '30'}, {'province': '서울ㆍ인천ㆍ경기도', 'city': '오산', 'tmEf': '2021-05-24 12:00', 'wf': '맑음', 'tmn': '14', 'tmx': '25', 'rnSt': '10'}, {'province': '서울ㆍ인천ㆍ경기도', 'city': '오산', 'tmEf': '2021-05-25 00:00', 'wf': '맑음', 'tmn': '14', 'tmx': '24', 'rnSt': '10'}, {'province': '서울ㆍ인천ㆍ경기도', 'city': '오산', 'tmEf': '2021-05-25 12:00', 'wf': '맑음', 'tmn': '14', 'tmx': '24', 'rnSt': '20'}, {'province': '서울ㆍ인천ㆍ경기도', 'city': '오산', 'tmEf': '2021-05-26 00:00', 'wf': '맑음', 'tmn': '12', 'tmx': '25', 'rnSt': '10'}, {'province': '서울ㆍ인천ㆍ경기도', 'city': '오산', 'tmEf': '2021-05-26 12:00', 'wf': '맑음', 'tmn': '12', 'tmx': '25', 'rnSt': '10'}, {'province': '서울ㆍ인천ㆍ경기도', 'city': '오산', 'tmEf': '2021-05-27 00:00', 'wf': '구름많음', 'tmn': '13', 'tmx': '25', 'rnSt': '30'}, {'province': '서울ㆍ인천ㆍ경기도', 'city': '오산', 'tmEf': '2021-05-27 12:00', 'wf': '구름많음', 'tmn': '13', 'tmx': '25', 'rnSt': '30'}, {'province': '서울ㆍ인천ㆍ경기도', 'city': '오산', 'tmEf': '2021-05-28 00:00', 'wf': '구름많음', 'tmn': '14', 'tmx': '25', 'rnSt': '40'}, {'province': '서울ㆍ인천ㆍ경기도', 'city': '오산', 'tmEf': '2021-05-29 00:00', 'wf': '맑음', 'tmn': '15', 'tmx': '25', 'rnSt': '20'}, {'province': '서울ㆍ인천ㆍ경기도', 'city': '오산', 'tmEf': '2021-05-30 00:00', 'wf': '맑음', 'tmn': '13', 'tmx': '25', 'rnSt': '20'}, {'province': '서울ㆍ인천ㆍ경기도', 'city': '화성', 'tmEf': '2021-05-23 00:00', 'wf': '구름많음', 'tmn': '14', 'tmx': '25', 'rnSt': '20'}, {'province': '서울ㆍ인천ㆍ경기도', 'city': '화성', 'tmEf': '2021-05-23 12:00', 'wf': '구름많음', 'tmn': '14', 'tmx': '25', 'rnSt': '30'}, {'province': '서울ㆍ인천ㆍ경기도', 'city': '화성', 'tmEf': '2021-05-24 00:00', 'wf': '구름많음', 'tmn': '14', 'tmx': '24', 'rnSt': '30'}, {'province': '서울ㆍ인천ㆍ경기도', 'city': '화성', 'tmEf': '2021-05-24 12:00', 'wf': '맑음', 'tmn': '14', 'tmx': '24', 'rnSt': '10'}, {'province': '서울ㆍ인천ㆍ경기도', 'city': '화성', 'tmEf': '2021-05-25 00:00', 'wf': '맑음', 'tmn': '13', 'tmx': '22', 'rnSt': '10'}, {'province': '서울ㆍ인천ㆍ경기도', 'city': '화성', 'tmEf': '2021-05-25 12:00', 'wf': '맑음', 'tmn': '13', 'tmx': '22', 'rnSt': '20'}, {'province': '서울ㆍ인천ㆍ경기도', 'city': '화성', 'tmEf': '2021-05-26 00:00', 'wf': '맑음', 'tmn': '12', 'tmx': '23', 'rnSt': '10'}, {'province': '서울ㆍ인천ㆍ경기도', 'city': '화성', 'tmEf': '2021-05-26 12:00', 'wf': '맑음', 'tmn': '12', 'tmx': '23', 'rnSt': '10'}, {'province': '서울ㆍ인천ㆍ경기도', 'city': '화성', 'tmEf': '2021-05-27 00:00', 'wf': '구름많음', 'tmn': '14', 'tmx': '24', 'rnSt': '30'}, {'province': '서울ㆍ인천ㆍ경기도', 'city': '화성', 'tmEf': '2021-05-27 12:00', 'wf': '구름많음', 'tmn': '14', 'tmx': '24', 'rnSt': '30'}, {'province': '서울ㆍ인천ㆍ경기도', 'city': '화성', 'tmEf': '2021-05-28 00:00', 'wf': '구름많음', 'tmn': '14', 'tmx': '22', 'rnSt': '40'}, {'province': '서울ㆍ인천ㆍ경기도', 'city': '화성', 'tmEf': '2021-05-29 00:00', 'wf': '맑음', 'tmn': '14', 'tmx': '23', 'rnSt': '20'}, {'province': '서울ㆍ인천ㆍ경기도', 'city': '화성', 'tmEf': '2021-05-30 00:00', 'wf': '맑음', 'tmn': '14', 'tmx': '24', 'rnSt': '20'}, {'province': '서울ㆍ인천ㆍ경기도', 'city': '성남', 'tmEf': '2021-05-23 00:00', 'wf': '구름많음', 'tmn': '14', 'tmx': '26', 'rnSt': '20'}, {'province': '서울ㆍ인천ㆍ경기도', 'city': '성남', 'tmEf': '2021-05-23 12:00', 'wf': '구름많음', 'tmn': '14', 'tmx': '26', 'rnSt': '30'}, {'province': '서울ㆍ인천ㆍ경기도', 'city': '성남', 'tmEf': '2021-05-24 00:00', 'wf': '구름많음', 'tmn': '15', 'tmx': '25', 'rnSt': '30'}, {'province': '서울ㆍ인천ㆍ경기도', 'city': '성남', 'tmEf': '2021-05-24 12:00', 'wf': '맑음', 'tmn': '15', 'tmx': '25', 'rnSt': '10'}, {'province': '서울ㆍ인천ㆍ경기도', 'city': '성남', 'tmEf': '2021-05-25 00:00', 'wf': '맑음', 'tmn': '13', 'tmx': '23', 'rnSt': '10'}, {'province': '서울ㆍ인천ㆍ경기도', 'city': '성남', 'tmEf': '2021-05-25 12:00', 'wf': '맑음', 'tmn': '13', 'tmx': '23', 'rnSt': '20'}, {'province': '서울ㆍ인천ㆍ경기도', 'city': '성남', 'tmEf': '2021-05-26 00:00', 'wf': '맑음', 'tmn': '11', 'tmx': '24', 'rnSt': '10'}, {'province': '서울ㆍ인천ㆍ경기도', 'city': '성남', 'tmEf': '2021-05-26 12:00', 'wf': '맑음', 'tmn': '11', 'tmx': '24', 'rnSt': '10'}, {'province': '서울ㆍ인천ㆍ경기도', 'city': '성남', 'tmEf': '2021-05-27 00:00', 'wf': '구름많음', 'tmn': '13', 'tmx': '26', 'rnSt': '30'}, {'province': '서울ㆍ인천ㆍ경기도', 'city': '성남', 'tmEf': '2021-05-27 12:00', 'wf': '구름많음', 'tmn': '13', 'tmx': '26', 'rnSt': '30'}, {'province': '서울ㆍ인천ㆍ경기도', 'city': '성남', 'tmEf': '2021-05-28 00:00', 'wf': '구름많음', 'tmn': '14', 'tmx': '24', 'rnSt': '40'}, {'province': '서울ㆍ인천ㆍ경기도', 'city': '성남', 'tmEf': '2021-05-29 00:00', 'wf': '맑음', 'tmn': '14', 'tmx': '23', 'rnSt': '20'}, {'province': '서울ㆍ인천ㆍ경기도', 'city': '성남', 'tmEf': '2021-05-30 00:00', 'wf': '맑음', 'tmn': '15', 'tmx': '26', 'rnSt': '20'}, {'province': '서울ㆍ인천ㆍ경기도', 'city': '의왕', 'tmEf': '2021-05-23 00:00', 'wf': '구름많음', 'tmn': '12', 'tmx': '25', 'rnSt': '20'}, {'province': '서울ㆍ인천ㆍ경기도', 'city': '의왕', 'tmEf': '2021-05-23 12:00', 'wf': '구름많음', 'tmn': '12', 'tmx': '25', 'rnSt': '30'}, {'province': '서울ㆍ인천ㆍ경기도', 'city': '의왕', 'tmEf': '2021-05-24 00:00', 'wf': '구름많음', 'tmn': '13', 'tmx': '24', 'rnSt': '30'}, {'province': '서울ㆍ인천ㆍ경기도', 'city': '의왕', 'tmEf': '2021-05-24 12:00', 'wf': '맑음', 'tmn': '13', 'tmx': '24', 'rnSt': '10'}, {'province': '서울ㆍ인천ㆍ경기도', 'city': '의왕', 'tmEf': '2021-05-25 00:00', 'wf': '맑음', 'tmn': '12', 'tmx': '22', 'rnSt': '10'}, {'province': '서울ㆍ인천ㆍ경기도', 'city': '의왕', 'tmEf': '2021-05-25 12:00', 'wf': '맑음', 'tmn': '12', 'tmx': '22', 'rnSt': '20'}, {'province': '서울ㆍ인천ㆍ경기도', 'city': '의왕', 'tmEf': '2021-05-26 00:00', 'wf': '맑음', 'tmn': '10', 'tmx': '23', 'rnSt': '10'}, {'province': '서울ㆍ인천ㆍ경기도', 'city': '의왕', 'tmEf': '2021-05-26 12:00', 'wf': '맑음', 'tmn': '10', 'tmx': '23', 'rnSt': '10'}, {'province': '서울ㆍ인천ㆍ경기도', 'city': '의왕', 'tmEf': '2021-05-27 00:00', 'wf': '구름많음', 'tmn': '12', 'tmx': '24', 'rnSt': '30'}, {'province': '서울ㆍ인천ㆍ경기도', 'city': '의왕', 'tmEf': '2021-05-27 12:00', 'wf': '구름많음', 'tmn': '12', 'tmx': '24', 'rnSt': '30'}, {'province': '서울ㆍ인천ㆍ경기도', 'city': '의왕', 'tmEf': '2021-05-28 00:00', 'wf': '구름많음', 'tmn': '13', 'tmx': '22', 'rnSt': '40'}, {'province': '서울ㆍ인천ㆍ경기도', 'city': '의왕', 'tmEf': '2021-05-29 00:00', 'wf': '맑음', 'tmn': '13', 'tmx': '20', 'rnSt': '20'}, {'province': '서울ㆍ인천ㆍ경기도', 'city': '의왕', 'tmEf': '2021-05-30 00:00', 'wf': '맑음', 'tmn': '12', 'tmx': '24', 'rnSt': '20'}, {'province': '서울ㆍ인천ㆍ경기도', 'city': '군포', 'tmEf': '2021-05-23 00:00', 'wf': '구름많음', 'tmn': '15', 'tmx': '26', 'rnSt': '20'}, {'province': '서울ㆍ인천ㆍ경기도', 'city': '군포', 'tmEf': '2021-05-23 12:00', 'wf': '구름많음', 'tmn': '15', 'tmx': '26', 'rnSt': '30'}, {'province': '서울ㆍ인천ㆍ경기도', 'city': '군포', 'tmEf': '2021-05-24 00:00', 'wf': '구름많음', 'tmn': '15', 'tmx': '24', 'rnSt': '30'}, {'province': '서울ㆍ인천ㆍ경기도', 'city': '군포', 'tmEf': '2021-05-24 12:00', 'wf': '맑음', 'tmn': '15', 'tmx': '24', 'rnSt': '10'}, {'province': '서울ㆍ인천ㆍ경기도', 'city': '군포', 'tmEf': '2021-05-25 00:00', 'wf': '맑음', 'tmn': '14', 'tmx': '22', 'rnSt': '10'}, {'province': '서울ㆍ인천ㆍ경기도', 'city': '군포', 'tmEf': '2021-05-25 12:00', 'wf': '맑음', 'tmn': '14', 'tmx': '22', 'rnSt': '20'}, {'province': '서울ㆍ인천ㆍ경기도', 'city': '군포', 'tmEf': '2021-05-26 00:00', 'wf': '맑음', 'tmn': '13', 'tmx': '24', 'rnSt': '10'}, {'province': '서울ㆍ인천ㆍ경기도', 'city': '군포', 'tmEf': '2021-05-26 12:00', 'wf': '맑음', 'tmn': '13', 'tmx': '24', 'rnSt': '10'}, {'province': '서울ㆍ인천ㆍ경기도', 'city': '군포', 'tmEf': '2021-05-27 00:00', 'wf': '구름많음', 'tmn': '14', 'tmx': '25', 'rnSt': '30'}, {'province': '서울ㆍ인천ㆍ경기도', 'city': '군포', 'tmEf': '2021-05-27 12:00', 'wf': '구름많음', 'tmn': '14', 'tmx': '25', 'rnSt': '30'}, {'province': '서울ㆍ인천ㆍ경기도', 'city': '군포', 'tmEf': '2021-05-28 00:00', 'wf': '구름많음', 'tmn': '15', 'tmx': '23', 'rnSt': '40'}, {'province': '서울ㆍ인천ㆍ경기도', 'city': '군포', 'tmEf': '2021-05-29 00:00', 'wf': '맑음', 'tmn': '15', 'tmx': '21', 'rnSt': '20'}, {'province': '서울ㆍ인천ㆍ경기도', 'city': '군포', 'tmEf': '2021-05-30 00:00', 'wf': '맑음', 'tmn': '13', 'tmx': '25', 'rnSt': '20'}, {'province': '서울ㆍ인천ㆍ경기도', 'city': '안성', 'tmEf': '2021-05-23 00:00', 'wf': '구름많음', 'tmn': '13', 'tmx': '26', 'rnSt': '20'}, {'province': '서울ㆍ인천ㆍ경기도', 'city': '안성', 'tmEf': '2021-05-23 12:00', 'wf': '구름많음', 'tmn': '13', 'tmx': '26', 'rnSt': '30'}, {'province': '서울ㆍ인천ㆍ경기도', 'city': '안성', 'tmEf': '2021-05-24 00:00', 'wf': '구름많음', 'tmn': '14', 'tmx': '24', 'rnSt': '30'}, {'province': '서울ㆍ인천ㆍ경기도', 'city': '안성', 'tmEf': '2021-05-24 12:00', 'wf': '맑음', 'tmn': '14', 'tmx': '24', 'rnSt': '10'}, {'province': '서울ㆍ인천ㆍ경기도', 'city': '안성', 'tmEf': '2021-05-25 00:00', 'wf': '맑음', 'tmn': '12', 'tmx': '23', 'rnSt': '10'}, {'province': '서울ㆍ인천ㆍ경기도', 'city': '안성', 'tmEf': '2021-05-25 12:00', 'wf': '맑음', 'tmn': '12', 'tmx': '23', 'rnSt': '20'}, {'province': '서울ㆍ인천ㆍ경기도', 'city': '안성', 'tmEf': '2021-05-26 00:00', 'wf': '맑음', 'tmn': '11', 'tmx': '24', 'rnSt': '10'}, {'province': '서울ㆍ인천ㆍ경기도', 'city': '안성', 'tmEf': '2021-05-26 12:00', 'wf': '맑음', 'tmn': '11', 'tmx': '24', 'rnSt': '10'}, {'province': '서울ㆍ인천ㆍ경기도', 'city': '안성', 'tmEf': '2021-05-27 00:00', 'wf': '구름많음', 'tmn': '13', 'tmx': '25', 'rnSt': '30'}, {'province': '서울ㆍ인천ㆍ경기도', 'city': '안성', 'tmEf': '2021-05-27 12:00', 'wf': '구름많음', 'tmn': '13', 'tmx': '25', 'rnSt': '30'}, {'province': '서울ㆍ인천ㆍ경기도', 'city': '안성', 'tmEf': '2021-05-28 00:00', 'wf': '구름많음', 'tmn': '14', 'tmx': '24', 'rnSt': '40'}, {'province': '서울ㆍ인천ㆍ경기도', 'city': '안성', 'tmEf': '2021-05-29 00:00', 'wf': '맑음', 'tmn': '14', 'tmx': '24', 'rnSt': '20'}, {'province': '서울ㆍ인천ㆍ경기도', 'city': '안성', 'tmEf': '2021-05-30 00:00', 'wf': '맑음', 'tmn': '15', 'tmx': '25', 'rnSt': '20'}, {'province': '서울ㆍ인천ㆍ경기도', 'city': '용인', 'tmEf': '2021-05-23 00:00', 'wf': '구름많음', 'tmn': '12', 'tmx': '26', 'rnSt': '20'}, {'province': '서울ㆍ인천ㆍ경기도', 'city': '용인', 'tmEf': '2021-05-23 12:00', 'wf': '구름많음', 'tmn': '12', 'tmx': '26', 'rnSt': '30'}, {'province': '서울ㆍ인천ㆍ경기도', 'city': '용인', 'tmEf': '2021-05-24 00:00', 'wf': '구름많음', 'tmn': '13', 'tmx': '24', 'rnSt': '30'}, {'province': '서울ㆍ인천ㆍ경기도', 'city': '용인', 'tmEf': '2021-05-24 12:00', 'wf': '맑음', 'tmn': '13', 'tmx': '24', 'rnSt': '10'}, {'province': '서울ㆍ인천ㆍ경기도', 'city': '용인', 'tmEf': '2021-05-25 00:00', 'wf': '맑음', 'tmn': '12', 'tmx': '23', 'rnSt': '10'}, {'province': '서울ㆍ인천ㆍ경기도', 'city': '용인', 'tmEf': '2021-05-25 12:00', 'wf': '맑음', 'tmn': '12', 'tmx': '23', 'rnSt': '20'}, {'province': '서울ㆍ인천ㆍ경기도', 'city': '용인', 'tmEf': '2021-05-26 00:00', 'wf': '맑음', 'tmn': '12', 'tmx': '23', 'rnSt': '10'}, {'province': '서울ㆍ인천ㆍ경기도', 'city': '용인', 'tmEf': '2021-05-26 12:00', 'wf': '맑음', 'tmn': '12', 'tmx': '23', 'rnSt': '10'}, {'province': '서울ㆍ인천ㆍ경기도', 'city': '용인', 'tmEf': '2021-05-27 00:00', 'wf': '구름많음', 'tmn': '13', 'tmx': '25', 'rnSt': '30'}, {'province': '서울ㆍ인천ㆍ경기도', 'city': '용인', 'tmEf': '2021-05-27 12:00', 'wf': '구름많음', 'tmn': '13', 'tmx': '25', 'rnSt': '30'}, {'province': '서울ㆍ인천ㆍ경기도', 'city': '용인', 'tmEf': '2021-05-28 00:00', 'wf': '구름많음', 'tmn': '13', 'tmx': '23', 'rnSt': '40'}, {'province': '서울ㆍ인천ㆍ경기도', 'city': '용인', 'tmEf': '2021-05-29 00:00', 'wf': '맑음', 'tmn': '13', 'tmx': '22', 'rnSt': '20'}, {'province': '서울ㆍ인천ㆍ경기도', 'city': '용인', 'tmEf': '2021-05-30 00:00', 'wf': '맑음', 'tmn': '14', 'tmx': '25', 'rnSt': '20'}, {'province': '서울ㆍ인천ㆍ경기도', 'city': '광주', 'tmEf': '2021-05-23 00:00', 'wf': '구름많음', 'tmn': '12', 'tmx': '26', 'rnSt': '20'}, {'province': '서울ㆍ인천ㆍ경기도', 'city': '광주', 'tmEf': '2021-05-23 12:00', 'wf': '구름많음', 'tmn': '12', 'tmx': '26', 'rnSt': '30'}, {'province': '서울ㆍ인천ㆍ경기도', 'city': '광주', 'tmEf': '2021-05-24 00:00', 'wf': '구름많음', 'tmn': '14', 'tmx': '24', 'rnSt': '30'}, {'province': '서울ㆍ인천ㆍ경기도', 'city': '광주', 'tmEf': '2021-05-24 12:00', 'wf': '맑음', 'tmn': '14', 'tmx': '24', 'rnSt': '10'}, {'province': '서울ㆍ인천ㆍ경기도', 'city': '광주', 'tmEf': '2021-05-25 00:00', 'wf': '맑음', 'tmn': '12', 'tmx': '23', 'rnSt': '10'}, {'province': '서울ㆍ인천ㆍ경기도', 'city': '광주', 'tmEf': '2021-05-25 12:00', 'wf': '맑음', 'tmn': '12', 'tmx': '23', 'rnSt': '20'}, {'province': '서울ㆍ인천ㆍ경기도', 'city': '광주', 'tmEf': '2021-05-26 00:00', 'wf': '맑음', 'tmn': '10', 'tmx': '23', 'rnSt': '10'}, {'province': '서울ㆍ인천ㆍ경기도', 'city': '광주', 'tmEf': '2021-05-26 12:00', 'wf': '맑음', 'tmn': '10', 'tmx': '23', 'rnSt': '10'}, {'province': '서울ㆍ인천ㆍ경기도', 'city': '광주', 'tmEf': '2021-05-27 00:00', 'wf': '구름많음', 'tmn': '12', 'tmx': '25', 'rnSt': '30'}, {'province': '서울ㆍ인천ㆍ경기도', 'city': '광주', 'tmEf': '2021-05-27 12:00', 'wf': '구름많음', 'tmn': '12', 'tmx': '25', 'rnSt': '30'}, {'province': '서울ㆍ인천ㆍ경기도', 'city': '광주', 'tmEf': '2021-05-28 00:00', 'wf': '구름많음', 'tmn': '13', 'tmx': '24', 'rnSt': '40'}, {'province': '서울ㆍ인천ㆍ경기도', 'city': '광주', 'tmEf': '2021-05-29 00:00', 'wf': '맑음', 'tmn': '13', 'tmx': '23', 'rnSt': '20'}, {'province': '서울ㆍ인천ㆍ경기도', 'city': '광주', 'tmEf': '2021-05-30 00:00', 'wf': '맑음', 'tmn': '14', 'tmx': '26', 'rnSt': '20'}, {'province': '서울ㆍ인천ㆍ경기도', 'city': '여주', 'tmEf': '2021-05-23 00:00', 'wf': '구름많음', 'tmn': '13', 'tmx': '26', 'rnSt': '20'}, {'province': '서울ㆍ인천ㆍ경기도', 'city': '여주', 'tmEf': '2021-05-23 12:00', 'wf': '구름많음', 'tmn': '13', 'tmx': '26', 'rnSt': '30'}, {'province': '서울ㆍ인천ㆍ경기도', 'city': '여주', 'tmEf': '2021-05-24 00:00', 'wf': '구름많음', 'tmn': '13', 'tmx': '24', 'rnSt': '30'}, {'province': '서울ㆍ인천ㆍ경기도', 'city': '여주', 'tmEf': '2021-05-24 12:00', 'wf': '맑음', 'tmn': '13', 'tmx': '24', 'rnSt': '10'}, {'province': '서울ㆍ인천ㆍ경기도', 'city': '여주', 'tmEf': '2021-05-25 00:00', 'wf': '맑음', 'tmn': '12', 'tmx': '23', 'rnSt': '10'}, {'province': '서울ㆍ인천ㆍ경기도', 'city': '여주', 'tmEf': '2021-05-25 12:00', 'wf': '맑음', 'tmn': '12', 'tmx': '23', 'rnSt': '20'}, {'province': '서울ㆍ인천ㆍ경기도', 'city': '여주', 'tmEf': '2021-05-26 00:00', 'wf': '맑음', 'tmn': '10', 'tmx': '24', 'rnSt': '10'}, {'province': '서울ㆍ인천ㆍ경기도', 'city': '여주', 'tmEf': '2021-05-26 12:00', 'wf': '맑음', 'tmn': '10', 'tmx': '24', 'rnSt': '10'}, {'province': '서울ㆍ인천ㆍ경기도', 'city': '여주', 'tmEf': '2021-05-27 00:00', 'wf': '구름많음', 'tmn': '12', 'tmx': '25', 'rnSt': '30'}, {'province': '서울ㆍ인천ㆍ경기도', 'city': '여주', 'tmEf': '2021-05-27 12:00', 'wf': '구름많음', 'tmn': '12', 'tmx': '25', 'rnSt': '30'}, {'province': '서울ㆍ인천ㆍ경기도', 'city': '여주', 'tmEf': '2021-05-28 00:00', 'wf': '구름많음', 'tmn': '13', 'tmx': '25', 'rnSt': '40'}, {'province': '서울ㆍ인천ㆍ경기도', 'city': '여주', 'tmEf': '2021-05-29 00:00', 'wf': '맑음', 'tmn': '13', 'tmx': '23', 'rnSt': '20'}, {'province': '서울ㆍ인천ㆍ경기도', 'city': '여주', 'tmEf': '2021-05-30 00:00', 'wf': '맑음', 'tmn': '14', 'tmx': '26', 'rnSt': '20'}]\n"
     ]
    }
   ],
   "source": [
    "import urllib.request as RQ\n",
    "import xml.etree.ElementTree as ET\n",
    "\n",
    "url = \"http://www.weather.go.kr/weather/forecast/mid-term-rss3.jsp?stnId=109\"\n",
    "\n",
    "# 웹에서 데이터를 받음\n",
    "response = RQ.urlopen(url).read()\n",
    "\n",
    "# 타입 변경 (bytes -> xml.etree.ElementTree.Element)\n",
    "root = ET.fromstring(response)\n",
    "\n",
    "# [{   },{    },{    }]\n",
    "arr = []\n",
    "for idx, tmp in enumerate(root.findall('channel/item/description/body/location')):\n",
    "    for tmp1 in tmp.findall('data'):\n",
    "        dic = { 'province': tmp.findtext('province'), \n",
    "                'city'    : tmp.findtext('city'),\n",
    "                'tmEf'    : tmp1.findtext('tmEf'),\n",
    "                'wf'      : tmp1.findtext('wf'),\n",
    "                'tmn'     : tmp1.findtext('tmn'),\n",
    "                'tmx'     : tmp1.findtext('tmx'),\n",
    "                'rnSt'    : tmp1.findtext('rnSt') }\n",
    "        arr.append(dic)\n",
    "        \n",
    "print(arr)\n"
   ]
  },
  {
   "cell_type": "code",
   "execution_count": 238,
   "id": "44fa5781-296e-4e85-8417-063cbdfcc95e",
   "metadata": {},
   "outputs": [
    {
     "name": "stdout",
     "output_type": "stream",
     "text": [
      "정상수행\n",
      "오류와 상관없이 수행\n"
     ]
    }
   ],
   "source": [
    "import pymongo\n",
    "\n",
    "try:\n",
    "    username = \"id120\"\n",
    "    password = \"pw120\"\n",
    "    host = \"1.234.5.158\"\n",
    "    port = 37017\n",
    "    dbname = \"id120\"\n",
    "    \n",
    "    # mongodb 접속\n",
    "    conn= pymongo.MongoClient(f'mongodb://{username}:{password}@{host}:{port}/{dbname}')\n",
    "    db = conn.get_database(dbname) #db선택\n",
    "    collection = db.get_collection(\"weather_20210520\") #collection == table과 비슷함\n",
    "    \n",
    "    collection.insert_many(arr)\n",
    "    \n",
    "    print('정상수행')\n",
    "except Exception as e:\n",
    "    print(e)\n",
    "    print('오류발생시 수행')\n",
    "finally:\n",
    "    conn.close()\n",
    "    print('오류와 상관없이 수행')"
   ]
  }
 ],
 "metadata": {
  "kernelspec": {
   "display_name": "Python 3",
   "language": "python",
   "name": "python3"
  },
  "language_info": {
   "codemirror_mode": {
    "name": "ipython",
    "version": 3
   },
   "file_extension": ".py",
   "mimetype": "text/x-python",
   "name": "python",
   "nbconvert_exporter": "python",
   "pygments_lexer": "ipython3",
   "version": "3.8.8"
  }
 },
 "nbformat": 4,
 "nbformat_minor": 5
}
